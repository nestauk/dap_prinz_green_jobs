{
 "cells": [
  {
   "cell_type": "code",
   "execution_count": 2,
   "id": "b3033b5d-699f-4a51-a82a-47aa75284a6d",
   "metadata": {},
   "outputs": [],
   "source": [
    "from dap_prinz_green_jobs.getters.ojo_getters import (\n",
    "    get_mixed_ojo_job_title_sample\n",
    "    \n",
    ")\n",
    "from dap_prinz_green_jobs.getters.occupation_getters import load_job_title_soc\n",
    "from dap_prinz_green_jobs import BUCKET_NAME, logger, PROJECT_DIR\n",
    "from dap_prinz_green_jobs.getters.data_getters import load_s3_data, save_json_dict\n",
    "\n",
    "import pandas as pd\n",
    "import numpy as np\n",
    "import altair as alt\n",
    "\n",
    "import random\n",
    "from collections import defaultdict, Counter\n",
    "from tqdm import tqdm"
   ]
  },
  {
   "cell_type": "markdown",
   "id": "4a3d7790-f620-4e98-bff4-dfa10ec8ae20",
   "metadata": {},
   "source": [
    "## Import and format the data needed"
   ]
  },
  {
   "cell_type": "code",
   "execution_count": 3,
   "id": "0a3074c7-5270-406d-85e7-5895a085c57c",
   "metadata": {},
   "outputs": [
    {
     "name": "stdout",
     "output_type": "stream",
     "text": [
      "2023-10-10 10:08:15,653 - botocore.credentials - INFO - Found credentials in shared credentials file: ~/.aws/credentials\n",
      "2023-10-10 10:08:16,706 - botocore.credentials - INFO - Found credentials in shared credentials file: ~/.aws/credentials\n"
     ]
    }
   ],
   "source": [
    "soc_2020_data = pd.read_excel(\"s3://prinz-green-jobs/inputs/data/occupation_data/ons/extendedsoc2020structureanddescriptionsexcel180523.xlsx\",\n",
    "                         skiprows=1, sheet_name=\"Extended SOC Framework\")\n",
    "\n",
    "ext_rows = soc_2020_data.dropna(subset=['Sub-Unit Group'])\n",
    "soc_2020_ext_dict = dict(zip(ext_rows['Sub-Unit Group'], ext_rows['Group Title']))\n",
    "\n",
    "unit_group_rows = soc_2020_data.dropna(subset=['Unit Group'])\n",
    "soc_2020_dict = dict(zip(unit_group_rows['Unit Group'], unit_group_rows['Group Title']))\n",
    "\n",
    "green_occs_outputs = load_s3_data(\n",
    "        BUCKET_NAME,\n",
    "        f\"outputs/data/ojo_application/extracted_green_measures/20231002/ojo_sample_occupation_green_measures_production_True_base.json\",\n",
    "    )\n",
    "occs_measures_df = pd.DataFrame.from_dict(green_occs_outputs, orient='index').reset_index().rename(columns={'index':'id'})\n",
    "\n",
    "for r in ['SOC_2020_EXT', 'SOC_2020', 'SOC_2010']:\n",
    "    occs_measures_df[r] = occs_measures_df['SOC'].apply(lambda x: x[r] if x else None)\n",
    "\n",
    "\n",
    "occs_measures_df['SOC_2020_EXT_name'] = occs_measures_df['SOC_2020_EXT'].map(soc_2020_ext_dict)\n",
    "occs_measures_df['SOC_2020_name'] = occs_measures_df['SOC_2020'].apply(lambda x:soc_2020_dict.get(float(x)) if x else None)\n",
    "\n",
    "\n",
    "green_inds_outputs = load_s3_data(\n",
    "        BUCKET_NAME,\n",
    "        f\"outputs/data/ojo_application/extracted_green_measures/20231007/ojo_sample_industry_green_measures_production_True_base.json\",\n",
    "    )\n",
    "inds_measures_df = pd.DataFrame.from_dict(green_inds_outputs, orient='index').reset_index().rename(columns={'index':'id'})\n",
    "\n",
    "green_skills_outputs = load_s3_data(\n",
    "        BUCKET_NAME,\n",
    "        f\"outputs/data/ojo_application/extracted_green_measures/20230914/ojo_sample_skills_green_measures_production_True_base.json\",\n",
    "    )\n",
    "\n",
    "skill_measures_df = pd.DataFrame.from_dict(green_skills_outputs, orient='index').reset_index().rename(columns={'index':'id'})\n",
    "\n",
    "# All skill matches\n",
    "full_skills_outputs = load_s3_data(\n",
    "        BUCKET_NAME,\n",
    "        f\"outputs/data/green_skill_lists/20230914/full_esco_skill_mappings.json\",\n",
    "    )\n",
    "\n"
   ]
  },
  {
   "cell_type": "markdown",
   "id": "e0b0995e-b2e6-4c95-90de-07e2bc4660f2",
   "metadata": {},
   "source": [
    "## Skill information data"
   ]
  },
  {
   "cell_type": "code",
   "execution_count": 4,
   "id": "cae575b5",
   "metadata": {},
   "outputs": [
    {
     "name": "stderr",
     "output_type": "stream",
     "text": [
      "100%|██████████████████████████████| 789324/789324 [00:00<00:00, 1028723.21it/s]\n"
     ]
    }
   ],
   "source": [
    "ents_explode = skill_measures_df[['id', 'ENTS']].explode(\"ENTS\").reset_index(drop=True)\n",
    "ents_explode[\"skill_label\"] = ents_explode[\"ENTS\"].apply(lambda x: x[0] if x else [])\n",
    "ents_explode = ents_explode.explode(\"skill_label\").reset_index(drop=True)\n",
    "\n",
    "skill_match_thresh = 0.7\n",
    "extracted_full_skill = []\n",
    "extracted_full_skill_id = []\n",
    "for skill_label in tqdm(ents_explode['skill_label']):\n",
    "    full_skills_output = full_skills_outputs.get(skill_label)\n",
    "    if full_skills_output and full_skills_output[2]>=skill_match_thresh:\n",
    "        extracted_full_skill.append(full_skills_output[0])\n",
    "        extracted_full_skill_id.append(full_skills_output[1])\n",
    "    else:\n",
    "        extracted_full_skill.append(None)\n",
    "        extracted_full_skill_id.append(None)\n",
    "\n",
    "ents_explode[\"extracted_full_skill\"] = extracted_full_skill\n",
    "ents_explode[\"extracted_full_skill_id\"] = extracted_full_skill_id"
   ]
  },
  {
   "cell_type": "code",
   "execution_count": 5,
   "id": "93c135c7",
   "metadata": {},
   "outputs": [],
   "source": [
    "green_ents_explode = skill_measures_df[['id', 'GREEN_ENTS']].explode(\"GREEN_ENTS\").reset_index(drop=True)\n",
    "green_ents_explode[\"skill_label\"] = green_ents_explode[\"GREEN_ENTS\"].apply(lambda x: x[0] if isinstance(x, list) else None)\n",
    "green_ents_explode[\"extracted_green_skill\"] = green_ents_explode[\"GREEN_ENTS\"].apply(\n",
    "    lambda x: x[1][2][0] if isinstance(x, list) else None)\n",
    "green_ents_explode[\"extracted_green_skill_id\"] = green_ents_explode[\"GREEN_ENTS\"].apply(\n",
    "    lambda x: x[1][2][1] if isinstance(x, list) else None)"
   ]
  },
  {
   "cell_type": "code",
   "execution_count": 6,
   "id": "e55ed704-0642-43de-b1d0-f8e16d05b124",
   "metadata": {},
   "outputs": [],
   "source": [
    "green_skills_df = pd.concat([ents_explode, green_ents_explode])\n",
    "green_skills_df = green_skills_df[(\n",
    "    (green_skills_df[\"skill_label\"]!=\"\") & (pd.notnull(green_skills_df[\"skill_label\"]))\n",
    ")]\n",
    "\n",
    "# # Remove the duplicate green skills per job advert\n",
    "green_skills_df.sort_values(by=\"extracted_green_skill\", inplace=True)\n",
    "green_skills_df.drop_duplicates(subset=[\"id\", \"skill_label\"], keep='first', inplace=True)\n",
    "\n",
    "green_esco_taxonomy = load_s3_data(BUCKET_NAME, \"outputs/data/green_skill_lists/green_esco_data_formatted.csv\")\n",
    "\n",
    "full_esco_taxonomy = load_s3_data(\n",
    "        \"open-jobs-lake\",\n",
    "        \"escoe_extension/outputs/data/skill_ner_mapping/esco_data_formatted.csv\",\n",
    "    )\n",
    "\n",
    "\n",
    "green_order_dict = {0: 'preferredLabel', 1: 'altLabels'}\n",
    "green_esco_taxonomy[\"type_sort\"] = green_esco_taxonomy['type'].map(green_order_dict)\n",
    "green_esco_taxonomy.sort_values(by=\"type_sort\", inplace=True, ascending=False)\n",
    "green_esco_taxonomy.drop_duplicates(subset=[\"id\"], keep='first', inplace=True)\n",
    "green_skill_id_2_name = dict(zip(green_esco_taxonomy['id'], green_esco_taxonomy['description']))\n",
    "\n",
    "full_order_dict = {0: 'preferredLabel', 1: 'altLabels', 2: 'level_2', 3: 'level_3'}\n",
    "full_esco_taxonomy[\"type_sort\"] = full_esco_taxonomy['type'].map(green_order_dict)\n",
    "full_esco_taxonomy.sort_values(by=\"type_sort\", inplace=True, ascending=False)\n",
    "full_esco_taxonomy.drop_duplicates(subset=[\"id\"], keep='first', inplace=True)\n",
    "full_skill_id_2_name = dict(zip(full_esco_taxonomy['id'], full_esco_taxonomy['description']))\n",
    "\n",
    "\n",
    "green_skills_df['full_skill_preferred_name'] = green_skills_df['extracted_full_skill_id'].map(full_skill_id_2_name)\n",
    "green_skills_df['green_skill_preferred_name'] = green_skills_df['extracted_green_skill_id'].map(green_skill_id_2_name)"
   ]
  },
  {
   "cell_type": "markdown",
   "id": "541d1f1b-63e3-4a18-86f2-3fce1ecaaad3",
   "metadata": {},
   "source": [
    "## Get the green topics per SOC 2010"
   ]
  },
  {
   "cell_type": "code",
   "execution_count": 7,
   "id": "2ecd995b-ac1a-487e-abd4-0f542d6408d3",
   "metadata": {},
   "outputs": [
    {
     "name": "stdout",
     "output_type": "stream",
     "text": [
      "2023-10-10 10:08:46,975 - sentence_transformers.SentenceTransformer - INFO - Load pretrained SentenceTransformer: sentence-transformers/all-MiniLM-L6-v2\n",
      "2023-10-10 10:08:47,349 - sentence_transformers.SentenceTransformer - INFO - Use pytorch device: cpu\n",
      "2023-10-10 10:08:57,001 - dap_prinz_green_jobs - INFO - Loading SOC job title embeddings\n",
      "2023-10-10 10:09:11,612 - dap_prinz_green_jobs - INFO - Predict UK SOC for the occupations in the ONET green topics data\n",
      "2023-10-10 10:09:11,615 - sentence_transformers.SentenceTransformer - INFO - Load pretrained SentenceTransformer: sentence-transformers/all-MiniLM-L6-v2\n",
      "2023-10-10 10:09:11,890 - sentence_transformers.SentenceTransformer - INFO - Use pytorch device: cpu\n",
      "2023-10-10 10:09:16,421 - dap_prinz_green_jobs - INFO - Loading SOC job title embeddings\n",
      "2023-10-10 10:09:17,712 - dap_prinz_green_jobs - INFO - Embedding texts in 2.708 batches\n"
     ]
    },
    {
     "name": "stderr",
     "output_type": "stream",
     "text": [
      "0it [00:00, ?it/s]"
     ]
    },
    {
     "data": {
      "application/json": {
       "ascii": false,
       "bar_format": null,
       "colour": null,
       "elapsed": 0.006271839141845703,
       "initial": 0,
       "n": 0,
       "ncols": null,
       "nrows": 25,
       "postfix": null,
       "prefix": "Batches",
       "rate": null,
       "total": 16,
       "unit": "it",
       "unit_divisor": 1000,
       "unit_scale": false
      },
      "application/vnd.jupyter.widget-view+json": {
       "model_id": "ffced6a8af0c4d5aa9c0723e28140bd3",
       "version_major": 2,
       "version_minor": 0
      },
      "text/plain": [
       "Batches:   0%|          | 0/16 [00:00<?, ?it/s]"
      ]
     },
     "metadata": {},
     "output_type": "display_data"
    },
    {
     "name": "stderr",
     "output_type": "stream",
     "text": [
      "1it [00:02,  2.87s/it]"
     ]
    },
    {
     "data": {
      "application/json": {
       "ascii": false,
       "bar_format": null,
       "colour": null,
       "elapsed": 0.002507925033569336,
       "initial": 0,
       "n": 0,
       "ncols": null,
       "nrows": 25,
       "postfix": null,
       "prefix": "Batches",
       "rate": null,
       "total": 16,
       "unit": "it",
       "unit_divisor": 1000,
       "unit_scale": false
      },
      "application/vnd.jupyter.widget-view+json": {
       "model_id": "01b8a764d45b4620afe9145b49b473cc",
       "version_major": 2,
       "version_minor": 0
      },
      "text/plain": [
       "Batches:   0%|          | 0/16 [00:00<?, ?it/s]"
      ]
     },
     "metadata": {},
     "output_type": "display_data"
    },
    {
     "name": "stderr",
     "output_type": "stream",
     "text": [
      "2it [00:05,  2.87s/it]"
     ]
    },
    {
     "data": {
      "application/json": {
       "ascii": false,
       "bar_format": null,
       "colour": null,
       "elapsed": 0.0025959014892578125,
       "initial": 0,
       "n": 0,
       "ncols": null,
       "nrows": 25,
       "postfix": null,
       "prefix": "Batches",
       "rate": null,
       "total": 12,
       "unit": "it",
       "unit_divisor": 1000,
       "unit_scale": false
      },
      "application/vnd.jupyter.widget-view+json": {
       "model_id": "cecad289f5124be3baa2eb7f320df718",
       "version_major": 2,
       "version_minor": 0
      },
      "text/plain": [
       "Batches:   0%|          | 0/12 [00:00<?, ?it/s]"
      ]
     },
     "metadata": {},
     "output_type": "display_data"
    },
    {
     "name": "stderr",
     "output_type": "stream",
     "text": [
      "3it [00:07,  2.60s/it]"
     ]
    },
    {
     "name": "stdout",
     "output_type": "stream",
     "text": [
      "2023-10-10 10:09:25,505 - dap_prinz_green_jobs - INFO - Finding most similar job titles for 1354 job titles\n"
     ]
    },
    {
     "name": "stderr",
     "output_type": "stream",
     "text": [
      "\n",
      "1354it [00:00, 13000.47it/s]"
     ]
    },
    {
     "name": "stdout",
     "output_type": "stream",
     "text": [
      "2023-10-10 10:09:25,660 - dap_prinz_green_jobs - INFO - Finding most likely SOC\n",
      "2023-10-10 10:09:25,663 - dap_prinz_green_jobs - INFO - Found SOCs for 79.83751846381094% of the job titles\n"
     ]
    },
    {
     "name": "stderr",
     "output_type": "stream",
     "text": [
      "\n"
     ]
    }
   ],
   "source": [
    "from dap_prinz_green_jobs.pipeline.green_measures.occupations.occupations_measures_utils import OccupationMeasures\n",
    "\n",
    "om = OccupationMeasures()\n",
    "om.load()"
   ]
  },
  {
   "cell_type": "markdown",
   "id": "ac4d5877-163c-4d19-8f75-1be0f9cdb3df",
   "metadata": {},
   "source": [
    "## Get SIC 2 digit name"
   ]
  },
  {
   "cell_type": "code",
   "execution_count": 8,
   "id": "1ee32d06-fc54-4efc-90ad-674da7bffb8b",
   "metadata": {},
   "outputs": [],
   "source": [
    "from dap_prinz_green_jobs.getters.industry_getters import load_sic"
   ]
  },
  {
   "cell_type": "code",
   "execution_count": 9,
   "id": "024c54ee-76c3-49b9-a38d-34c9b64897d2",
   "metadata": {},
   "outputs": [],
   "source": [
    "sic_data = load_sic()"
   ]
  },
  {
   "cell_type": "code",
   "execution_count": 10,
   "id": "16cbafcd-2262-4fbd-a4a4-72bc19b56ecc",
   "metadata": {},
   "outputs": [],
   "source": [
    "sic_names = dict(zip(sic_data['Division'].tolist(), sic_data['Description'].tolist()))"
   ]
  },
  {
   "cell_type": "markdown",
   "id": "a1c318a5-8fcd-459e-a8ef-38e1bd426ec8",
   "metadata": {},
   "source": [
    "## Combine it all"
   ]
  },
  {
   "cell_type": "code",
   "execution_count": 11,
   "id": "4ccedc51-d805-45f4-a32e-78e4fb4c87ba",
   "metadata": {},
   "outputs": [
    {
     "name": "stdout",
     "output_type": "stream",
     "text": [
      "39866\n"
     ]
    }
   ],
   "source": [
    "print(len(occs_measures_df))\n",
    "occs_measures_enhanced = occs_measures_df[pd.notnull(occs_measures_df['SOC_2020_EXT_name'])]\n",
    "occs_measures_enhanced = occs_measures_enhanced.merge(skill_measures_df, on='id')\n",
    "occs_measures_enhanced = occs_measures_enhanced.merge(inds_measures_df, on='id')\n",
    "occs_measures_enhanced.loc[occs_measures_enhanced['INDUSTRY GHG PER UNIT EMISSIONS']==':', 'INDUSTRY GHG PER UNIT EMISSIONS'] = None # A curio for 3 rows\n",
    "\n",
    "occs_measures_enhanced['SIC_2_digit'] = occs_measures_enhanced['SIC'].apply(lambda x: str(x)[0:2] if x else None)\n",
    "occs_measures_enhanced['SIC_2_digit_name'] = occs_measures_enhanced['SIC_2_digit'].apply(lambda x: sic_names.get(x) if x else None)\n",
    "\n",
    "occs_measures_enhanced['green_topics_lists'] = occs_measures_enhanced['SOC_2010'].apply(lambda x: om.soc_green_measures_dict.get(x)['ONET_green_topics'])"
   ]
  },
  {
   "cell_type": "code",
   "execution_count": 12,
   "id": "6cc777f0-e05c-424e-b73b-1fb26e097c5d",
   "metadata": {},
   "outputs": [
    {
     "name": "stdout",
     "output_type": "stream",
     "text": [
      "749\n",
      "101\n",
      "87\n"
     ]
    }
   ],
   "source": [
    "print(occs_measures_enhanced['SIC'].nunique())\n",
    "print(occs_measures_enhanced['SIC_2_digit'].nunique())\n",
    "print(occs_measures_enhanced['SIC_2_digit_name'].nunique())"
   ]
  },
  {
   "cell_type": "markdown",
   "id": "eeb38d4c-801a-4e91-a472-e512184eeba9",
   "metadata": {},
   "source": [
    "## Create aggregated dict"
   ]
  },
  {
   "cell_type": "code",
   "execution_count": 13,
   "id": "3ff27a55-4211-4172-b4b9-99603e60da1d",
   "metadata": {},
   "outputs": [
    {
     "name": "stdout",
     "output_type": "stream",
     "text": [
      "882\n",
      "799\n"
     ]
    }
   ],
   "source": [
    "occ_unique = occs_measures_enhanced.drop_duplicates(subset=['GREEN CATEGORY', 'GREEN/NOT GREEN', 'GREEN TIMESHARE',\n",
    "       'GREEN TOPICS', 'SOC_2020_EXT', 'SOC_2020', 'SOC_2010',\n",
    "       'SOC_2020_EXT_name', 'SOC_2020_name'])\n",
    "print(len(occ_unique))\n",
    "print(occs_measures_enhanced['SOC_2020_EXT'].nunique())"
   ]
  },
  {
   "cell_type": "code",
   "execution_count": 22,
   "id": "4070eb63-99a9-4ed5-9ea3-51fa86f0271b",
   "metadata": {},
   "outputs": [
    {
     "name": "stderr",
     "output_type": "stream",
     "text": [
      "100%|█████████████████████████████████████████| 799/799 [00:27<00:00, 28.62it/s]\n"
     ]
    }
   ],
   "source": [
    "occ_aggregated_data = {}\n",
    "for SOC_2020_ext in tqdm(occs_measures_enhanced['SOC_2020_EXT'].unique()): \n",
    "    if pd.notnull(SOC_2020_ext):\n",
    "        occ_filtered_data = occs_measures_enhanced[occs_measures_enhanced['SOC_2020_EXT']==SOC_2020_ext]\n",
    "        \n",
    "        occ_filtered_skills = green_skills_df[green_skills_df['id'].isin(set(occ_filtered_data['id'].tolist()))]\n",
    "\n",
    "        top_green_skill_num = occ_filtered_skills[['green_skill_preferred_name', 'extracted_green_skill_id']].value_counts()[0:5].to_dict()\n",
    "        top_green_skill_prop = occ_filtered_skills[['green_skill_preferred_name', 'extracted_green_skill_id']].value_counts(normalize=True)[0:5].to_dict()\n",
    "\n",
    "        green_skill_info = []\n",
    "        for k,v in top_green_skill_num.items():\n",
    "            green_skill_info.append(\n",
    "                {\"skill_name\": k[0], \"skill_id\": k[1], \"num_job_ads\": v, \"prop_job_ads\": top_green_skill_prop[k]})\n",
    "        \n",
    "        top_5_not_green_skills_num = occ_filtered_skills[pd.isnull(occ_filtered_skills['extracted_green_skill'])][['full_skill_preferred_name', 'extracted_full_skill_id']].value_counts()[0:5].to_dict()\n",
    "        top_5_not_green_skills_prop =  occ_filtered_skills[pd.isnull(occ_filtered_skills['extracted_green_skill'])][['full_skill_preferred_name', 'extracted_full_skill_id']].value_counts(normalize=True)[0:5].to_dict()\n",
    "\n",
    "        not_green_skill_info = []\n",
    "        for k,v in top_5_not_green_skills_num.items():\n",
    "            not_green_skill_info.append(\n",
    "                {\"skill_name\": k[0], \"skill_id\": k[1], \"num_job_ads\": v, \"prop_job_ads\": top_5_not_green_skills_prop[k]})\n",
    "\n",
    "        top_5_sics_num = occ_filtered_data[['SIC_2_digit', 'SIC_2_digit_name']].value_counts()[0:5].to_dict()\n",
    "        top_5_sics_prop = occ_filtered_data[['SIC_2_digit', 'SIC_2_digit_name']].value_counts(normalize=True)[0:5].to_dict()\n",
    "\n",
    "        top_5_sics = []\n",
    "        for k,v in top_5_sics_num.items():\n",
    "            top_5_sics.append({\"sic_id\": k[0], \"sic_name\": k[1], \"num_job_ads\": v, \"prop_job_ads\": top_5_sics_prop[k]})\n",
    "        \n",
    "        occ_aggregated_data[SOC_2020_ext] = {\n",
    "            # General\n",
    "            'num_job_ads': len(occ_filtered_data),\n",
    "            'prop_job_ads': len(occ_filtered_data)/len(occs_measures_enhanced),\n",
    "            'SOC_2020_EXT': SOC_2020_ext,\n",
    "            'SOC_2020_EXT_name': occ_filtered_data['SOC_2020_EXT_name'].mode()[0] if len(occ_filtered_data['SOC_2020_EXT_name'].mode())!=0 else None,\n",
    "            'SOC_2020': occ_filtered_data['SOC_2020'].mode()[0] if len(occ_filtered_data['SOC_2020'].mode())!=0 else None,\n",
    "            'SOC_2010': occ_filtered_data['SOC_2010'].mode()[0] if len(occ_filtered_data['SOC_2010'].mode())!=0 else None,\n",
    "            # Occupations\n",
    "            # 'occ_green_category': occ_filtered_data['GREEN CATEGORY'].mode()[0] if len(occ_filtered_data['GREEN CATEGORY'].mode())!=0 else None,\n",
    "            # 'occ_green_binary': occ_filtered_data['GREEN/NOT GREEN'].mode()[0] if len(occ_filtered_data['GREEN/NOT GREEN'].mode())!=0 else None,\n",
    "            'occ_timeshare': occ_filtered_data['GREEN TIMESHARE'].mode()[0] if len(occ_filtered_data['GREEN TIMESHARE'].mode())!=0 else None,\n",
    "            'occ_topics': occ_filtered_data['GREEN TOPICS'].mode()[0] if len(occ_filtered_data['GREEN TOPICS'].mode())!=0 else None,\n",
    "            'green_topics_lists': occ_filtered_data['green_topics_lists'].iloc[0],\n",
    "            # Skills\n",
    "            'average_num_skills': occ_filtered_data['NUM_SPLIT_ENTS'].mean(),\n",
    "            # 'var_num_skills': occ_filtered_data['NUM_SPLIT_ENTS'].var(skipna=True),\n",
    "            # 'prop_ads_lt_5_skills': sum(occ_filtered_data['NUM_SPLIT_ENTS']<5)/len(occ_filtered_data),\n",
    "            'average_prop_green_skills': occ_filtered_data['PROP_GREEN'].mean(),\n",
    "            # 'var_prop_green_skills': occ_filtered_data['PROP_GREEN'].var(skipna=True),\n",
    "            'top_5_green_skills': green_skill_info,\n",
    "            'top_5_not_green_skills': not_green_skill_info,\n",
    "            # Industry\n",
    "            'num_unique_SIC2': occ_filtered_data[\"SIC_2_digit\"].nunique(),\n",
    "            'num_null_sic2': len(occ_filtered_data[pd.isnull(occ_filtered_data[\"SIC_2_digit\"])]),\n",
    "            'num_top_sic2': occ_filtered_data['SIC_2_digit'].value_counts()[0] if len(occ_filtered_data['SIC_2_digit'].value_counts())>0 else None,\n",
    "            'num_other_sic2': sum(occ_filtered_data['SIC_2_digit'].value_counts()[1:]) if len(occ_filtered_data['SIC_2_digit'].value_counts())>1 else None,\n",
    "            'average_ind_perunit_ghg': occ_filtered_data['INDUSTRY GHG PER UNIT EMISSIONS'].mean(),\n",
    "            'average_ind_prop_hours': occ_filtered_data['INDUSTRY PROP HOURS GREEN TASKS'].mean(),\n",
    "            'average_ind_prop_workers': occ_filtered_data['INDUSTRY PROP WORKERS GREEN TASKS'].mean(),\n",
    "            'top_5_sics': top_5_sics,\n",
    "        }"
   ]
  },
  {
   "cell_type": "markdown",
   "id": "79a0d0b7-e43f-46ca-9398-966cd70fe323",
   "metadata": {},
   "source": [
    "## Pull out some examples"
   ]
  },
  {
   "cell_type": "code",
   "execution_count": 23,
   "id": "b8751c6b-d535-4a14-a878-182c64446778",
   "metadata": {},
   "outputs": [
    {
     "data": {
      "text/plain": [
       "799"
      ]
     },
     "execution_count": 23,
     "metadata": {},
     "output_type": "execute_result"
    }
   ],
   "source": [
    "len(occ_aggregated_data)"
   ]
  },
  {
   "cell_type": "code",
   "execution_count": 24,
   "id": "bd630612-e078-4788-867e-806e11ed43e1",
   "metadata": {},
   "outputs": [
    {
     "data": {
      "text/html": [
       "<div>\n",
       "<style scoped>\n",
       "    .dataframe tbody tr th:only-of-type {\n",
       "        vertical-align: middle;\n",
       "    }\n",
       "\n",
       "    .dataframe tbody tr th {\n",
       "        vertical-align: top;\n",
       "    }\n",
       "\n",
       "    .dataframe thead th {\n",
       "        text-align: right;\n",
       "    }\n",
       "</style>\n",
       "<table border=\"1\" class=\"dataframe\">\n",
       "  <thead>\n",
       "    <tr style=\"text-align: right;\">\n",
       "      <th></th>\n",
       "      <th>SOC_2020_EXT</th>\n",
       "      <th>num_job_ads</th>\n",
       "      <th>prop_job_ads</th>\n",
       "      <th>SOC_2020_EXT</th>\n",
       "      <th>SOC_2020_EXT_name</th>\n",
       "      <th>SOC_2020</th>\n",
       "      <th>SOC_2010</th>\n",
       "      <th>occ_timeshare</th>\n",
       "      <th>occ_topics</th>\n",
       "      <th>green_topics_lists</th>\n",
       "      <th>...</th>\n",
       "      <th>top_5_green_skills</th>\n",
       "      <th>top_5_not_green_skills</th>\n",
       "      <th>num_unique_SIC2</th>\n",
       "      <th>num_null_sic2</th>\n",
       "      <th>num_top_sic2</th>\n",
       "      <th>num_other_sic2</th>\n",
       "      <th>average_ind_perunit_ghg</th>\n",
       "      <th>average_ind_prop_hours</th>\n",
       "      <th>average_ind_prop_workers</th>\n",
       "      <th>top_5_sics</th>\n",
       "    </tr>\n",
       "  </thead>\n",
       "  <tbody>\n",
       "    <tr>\n",
       "      <th>0</th>\n",
       "      <td>2151/02</td>\n",
       "      <td>39</td>\n",
       "      <td>0.001322</td>\n",
       "      <td>2151/02</td>\n",
       "      <td>Ecologists</td>\n",
       "      <td>2151</td>\n",
       "      <td>2141</td>\n",
       "      <td>57.1</td>\n",
       "      <td>46</td>\n",
       "      <td>[Wildlife, Energy engineering, Green research,...</td>\n",
       "      <td>...</td>\n",
       "      <td>[{'skill_name': 'conduct ecological surveys', ...</td>\n",
       "      <td>[{'skill_name': 'write work-related reports', ...</td>\n",
       "      <td>19</td>\n",
       "      <td>11</td>\n",
       "      <td>6</td>\n",
       "      <td>22</td>\n",
       "      <td>0.305769</td>\n",
       "      <td>10.761538</td>\n",
       "      <td>55.957692</td>\n",
       "      <td>[{'sic_id': '64', 'sic_name': 'Other financial...</td>\n",
       "    </tr>\n",
       "    <tr>\n",
       "      <th>1</th>\n",
       "      <td>4143/99</td>\n",
       "      <td>83</td>\n",
       "      <td>0.002814</td>\n",
       "      <td>4143/99</td>\n",
       "      <td>Customer service managers n.e.c.</td>\n",
       "      <td>4143</td>\n",
       "      <td>7220</td>\n",
       "      <td>0.0</td>\n",
       "      <td>1</td>\n",
       "      <td>[Infrastructure]</td>\n",
       "      <td>...</td>\n",
       "      <td>[{'skill_name': 'promote sustainability', 'ski...</td>\n",
       "      <td>[{'skill_name': 'communication', 'skill_id': '...</td>\n",
       "      <td>32</td>\n",
       "      <td>14</td>\n",
       "      <td>11</td>\n",
       "      <td>58</td>\n",
       "      <td>0.337576</td>\n",
       "      <td>9.802941</td>\n",
       "      <td>47.904412</td>\n",
       "      <td>[{'sic_id': '64', 'sic_name': 'Other financial...</td>\n",
       "    </tr>\n",
       "  </tbody>\n",
       "</table>\n",
       "<p>2 rows × 22 columns</p>\n",
       "</div>"
      ],
      "text/plain": [
       "  SOC_2020_EXT num_job_ads prop_job_ads SOC_2020_EXT  \\\n",
       "0      2151/02          39     0.001322      2151/02   \n",
       "1      4143/99          83     0.002814      4143/99   \n",
       "\n",
       "                  SOC_2020_EXT_name SOC_2020 SOC_2010 occ_timeshare  \\\n",
       "0                        Ecologists     2151     2141          57.1   \n",
       "1  Customer service managers n.e.c.     4143     7220           0.0   \n",
       "\n",
       "  occ_topics                                 green_topics_lists  ...  \\\n",
       "0         46  [Wildlife, Energy engineering, Green research,...  ...   \n",
       "1          1                                   [Infrastructure]  ...   \n",
       "\n",
       "                                  top_5_green_skills  \\\n",
       "0  [{'skill_name': 'conduct ecological surveys', ...   \n",
       "1  [{'skill_name': 'promote sustainability', 'ski...   \n",
       "\n",
       "                              top_5_not_green_skills num_unique_SIC2  \\\n",
       "0  [{'skill_name': 'write work-related reports', ...              19   \n",
       "1  [{'skill_name': 'communication', 'skill_id': '...              32   \n",
       "\n",
       "  num_null_sic2 num_top_sic2 num_other_sic2 average_ind_perunit_ghg  \\\n",
       "0            11            6             22                0.305769   \n",
       "1            14           11             58                0.337576   \n",
       "\n",
       "  average_ind_prop_hours average_ind_prop_workers  \\\n",
       "0              10.761538                55.957692   \n",
       "1               9.802941                47.904412   \n",
       "\n",
       "                                          top_5_sics  \n",
       "0  [{'sic_id': '64', 'sic_name': 'Other financial...  \n",
       "1  [{'sic_id': '64', 'sic_name': 'Other financial...  \n",
       "\n",
       "[2 rows x 22 columns]"
      ]
     },
     "execution_count": 24,
     "metadata": {},
     "output_type": "execute_result"
    }
   ],
   "source": [
    "occ_aggregated_df = pd.DataFrame(occ_aggregated_data).T\n",
    "occ_aggregated_df = occ_aggregated_df.reset_index()\n",
    "occ_aggregated_df.rename(columns={'index': 'SOC_2020_EXT'}, inplace=True)\n",
    "occ_aggregated_df.head(2)"
   ]
  },
  {
   "cell_type": "markdown",
   "id": "c87b1d4c-69e5-4152-9db8-422e874bb10f",
   "metadata": {},
   "source": [
    "## Add where this occupation sits\n",
    "Get IQR boundaries for each green measure and set categorical values for each of them."
   ]
  },
  {
   "cell_type": "code",
   "execution_count": 25,
   "id": "6d9d9a0d-0175-466a-b4c9-c06d8ed2d163",
   "metadata": {},
   "outputs": [],
   "source": [
    "big_enough_data = occ_aggregated_df[occ_aggregated_df['num_job_ads']>25]"
   ]
  },
  {
   "cell_type": "code",
   "execution_count": 26,
   "id": "5856965b-f6c8-4404-80ac-86758e836f32",
   "metadata": {},
   "outputs": [],
   "source": [
    "def categorical_assign(value, all_values, rev=False):\n",
    "\n",
    "    q1 = all_values.quantile(.33)\n",
    "    q2 = all_values.quantile(.66)\n",
    "\n",
    "    if pd.notnull(value):\n",
    "        if value <= q1:\n",
    "            if rev:\n",
    "                return \"high\"\n",
    "            else:\n",
    "                return \"low\"\n",
    "        elif value <= q2:\n",
    "            return \"mid\"\n",
    "        else:\n",
    "            if rev:\n",
    "                return \"low\"\n",
    "            else:\n",
    "                return \"high\"\n",
    "    else:\n",
    "        return None"
   ]
  },
  {
   "cell_type": "code",
   "execution_count": 27,
   "id": "20a41f4f-659f-4569-ba21-80d2b5abe21c",
   "metadata": {
    "scrolled": true
   },
   "outputs": [
    {
     "name": "stderr",
     "output_type": "stream",
     "text": [
      "/var/folders/xc/s255_bsx0l7cbx43t290kjtr0000gn/T/ipykernel_33468/543948785.py:1: SettingWithCopyWarning: \n",
      "A value is trying to be set on a copy of a slice from a DataFrame.\n",
      "Try using .loc[row_indexer,col_indexer] = value instead\n",
      "\n",
      "See the caveats in the documentation: https://pandas.pydata.org/pandas-docs/stable/user_guide/indexing.html#returning-a-view-versus-a-copy\n",
      "  big_enough_data['occ_greenness'] = big_enough_data['occ_timeshare'].apply(lambda x: categorical_assign(x, big_enough_data['occ_timeshare']))\n",
      "/var/folders/xc/s255_bsx0l7cbx43t290kjtr0000gn/T/ipykernel_33468/543948785.py:2: SettingWithCopyWarning: \n",
      "A value is trying to be set on a copy of a slice from a DataFrame.\n",
      "Try using .loc[row_indexer,col_indexer] = value instead\n",
      "\n",
      "See the caveats in the documentation: https://pandas.pydata.org/pandas-docs/stable/user_guide/indexing.html#returning-a-view-versus-a-copy\n",
      "  big_enough_data['ind_greenness'] = big_enough_data['average_ind_perunit_ghg'].apply(\n",
      "/var/folders/xc/s255_bsx0l7cbx43t290kjtr0000gn/T/ipykernel_33468/543948785.py:4: SettingWithCopyWarning: \n",
      "A value is trying to be set on a copy of a slice from a DataFrame.\n",
      "Try using .loc[row_indexer,col_indexer] = value instead\n",
      "\n",
      "See the caveats in the documentation: https://pandas.pydata.org/pandas-docs/stable/user_guide/indexing.html#returning-a-view-versus-a-copy\n",
      "  big_enough_data['skills_greenness'] = big_enough_data['average_prop_green_skills'].apply(lambda x: categorical_assign(x, big_enough_data['average_prop_green_skills']))\n"
     ]
    }
   ],
   "source": [
    "big_enough_data['occ_greenness'] = big_enough_data['occ_timeshare'].apply(lambda x: categorical_assign(x, big_enough_data['occ_timeshare']))\n",
    "big_enough_data['ind_greenness'] = big_enough_data['average_ind_perunit_ghg'].apply(\n",
    "    lambda x: categorical_assign(x, big_enough_data['average_ind_perunit_ghg'], rev=True))\n",
    "big_enough_data['skills_greenness'] = big_enough_data['average_prop_green_skills'].apply(lambda x: categorical_assign(x, big_enough_data['average_prop_green_skills']))"
   ]
  },
  {
   "cell_type": "code",
   "execution_count": 29,
   "id": "9697aa69-347e-46d0-a37e-4775cd23c782",
   "metadata": {},
   "outputs": [],
   "source": [
    "def get_one_score(occ,ind,skill):\n",
    "\n",
    "    score_dict = {\"high\":2, \"mid\":1, \"low\":0}\n",
    "    \n",
    "    if occ in score_dict:\n",
    "        score = score_dict[occ]+ score_dict[ind] + score_dict[skill]\n",
    "        # return score\n",
    "\n",
    "        if score <= 1:\n",
    "            # 0,1\n",
    "            return \"low\"\n",
    "        elif score <=3:\n",
    "            # 2,3 \n",
    "            return \"low-mid\"\n",
    "        elif score <=5:\n",
    "            # 4,5\n",
    "            return \"mid-high\"\n",
    "        else:\n",
    "            # 6\n",
    "            return \"high\"\n",
    "    else:\n",
    "        return None\n",
    "\n"
   ]
  },
  {
   "cell_type": "code",
   "execution_count": 30,
   "id": "5e2c9df5-9828-44e0-98b0-4fc5ee257d18",
   "metadata": {},
   "outputs": [
    {
     "name": "stderr",
     "output_type": "stream",
     "text": [
      "/var/folders/xc/s255_bsx0l7cbx43t290kjtr0000gn/T/ipykernel_33468/1239927552.py:1: SettingWithCopyWarning: \n",
      "A value is trying to be set on a copy of a slice from a DataFrame.\n",
      "Try using .loc[row_indexer,col_indexer] = value instead\n",
      "\n",
      "See the caveats in the documentation: https://pandas.pydata.org/pandas-docs/stable/user_guide/indexing.html#returning-a-view-versus-a-copy\n",
      "  big_enough_data[\"greenness_score\"] = big_enough_data.apply(lambda x: get_one_score(x['occ_greenness'], x['ind_greenness'], x['skills_greenness']), axis = 1)\n"
     ]
    }
   ],
   "source": [
    "big_enough_data[\"greenness_score\"] = big_enough_data.apply(lambda x: get_one_score(x['occ_greenness'], x['ind_greenness'], x['skills_greenness']), axis = 1)"
   ]
  },
  {
   "cell_type": "code",
   "execution_count": 31,
   "id": "f9524521-9379-4c4c-a02c-a288e09c3857",
   "metadata": {},
   "outputs": [
    {
     "data": {
      "text/plain": [
       "low-mid     86\n",
       "mid-high    76\n",
       "low         46\n",
       "high        10\n",
       "Name: greenness_score, dtype: int64"
      ]
     },
     "execution_count": 31,
     "metadata": {},
     "output_type": "execute_result"
    }
   ],
   "source": [
    "big_enough_data[\"greenness_score\"].value_counts()"
   ]
  },
  {
   "cell_type": "code",
   "execution_count": 32,
   "id": "14b7e21c-1337-421b-bc4e-3f98072800cf",
   "metadata": {},
   "outputs": [
    {
     "data": {
      "text/plain": [
       "Index(['SOC_2020_EXT', 'num_job_ads', 'prop_job_ads', 'SOC_2020_EXT',\n",
       "       'SOC_2020_EXT_name', 'SOC_2020', 'SOC_2010', 'occ_timeshare',\n",
       "       'occ_topics', 'green_topics_lists', 'average_num_skills',\n",
       "       'average_prop_green_skills', 'top_5_green_skills',\n",
       "       'top_5_not_green_skills', 'num_unique_SIC2', 'num_null_sic2',\n",
       "       'num_top_sic2', 'num_other_sic2', 'average_ind_perunit_ghg',\n",
       "       'average_ind_prop_hours', 'average_ind_prop_workers', 'top_5_sics',\n",
       "       'occ_greenness', 'ind_greenness', 'skills_greenness',\n",
       "       'greenness_score'],\n",
       "      dtype='object')"
      ]
     },
     "execution_count": 32,
     "metadata": {},
     "output_type": "execute_result"
    }
   ],
   "source": [
    "big_enough_data.columns"
   ]
  },
  {
   "cell_type": "markdown",
   "id": "477c652c-6fa4-4505-929e-f1cc7b84191e",
   "metadata": {},
   "source": [
    "## Save"
   ]
  },
  {
   "cell_type": "code",
   "execution_count": 33,
   "id": "92abab82-e155-48c8-b2d1-f2a4bd9b422c",
   "metadata": {},
   "outputs": [],
   "source": [
    "big_enough_data.to_csv(\"occupation_aggregated_data_new.csv\")"
   ]
  },
  {
   "cell_type": "markdown",
   "id": "1a6c53f4-1587-464e-be17-ae4819ad9455",
   "metadata": {},
   "source": [
    "## Look into"
   ]
  },
  {
   "cell_type": "code",
   "execution_count": 34,
   "id": "ea27648c-a2d0-4caf-8aed-78ada538ea2d",
   "metadata": {},
   "outputs": [
    {
     "name": "stdout",
     "output_type": "stream",
     "text": [
      "Greenness type low :\n",
      "['Software developers', 'Market researchers (excludes interviewers)', 'Student ambassadors', 'Bookkeepers, payroll managers and wage clerks n.e.c.', 'Recruitment consultants']\n",
      "Greenness type low-mid :\n",
      "['Marketing managers', 'Business sales executives', 'Financial accounts managers n.e.c.', 'Electrical engineers n.e.c.', 'Compliance and regulatory professionals']\n",
      "Greenness type mid-high :\n",
      "['Sustainability officers', 'Business and financial project management professionals n.e.c.', 'Business development managers', 'Production managers and directors in manufacturing', 'Procurement and purchasing managers and directors']\n",
      "Greenness type high :\n",
      "['Landlords, property and housing managers ', 'Energy advisers and assessors', 'Road traffic and transport safety officers', 'Plumbers and heating and ventilation installers and repairers', 'Town planning officers']\n"
     ]
    }
   ],
   "source": [
    "greenness_types = [\"low\", \"low-mid\", \"mid-high\", \"high\"]\n",
    "for greenness_type in greenness_types:\n",
    "    print(f\"Greenness type {greenness_type} :\")\n",
    "    print(big_enough_data[big_enough_data[\"greenness_score\"]==greenness_type].sort_values(by = 'num_job_ads', ascending=False)['SOC_2020_EXT_name'].tolist()[0:5])"
   ]
  },
  {
   "cell_type": "markdown",
   "id": "e8a124d4-f871-4c24-9675-eee1a51813c8",
   "metadata": {},
   "source": [
    "## Quantiles"
   ]
  },
  {
   "cell_type": "code",
   "execution_count": 38,
   "id": "91e05876-4f26-4bad-9d41-e77c0780db24",
   "metadata": {},
   "outputs": [
    {
     "data": {
      "text/plain": [
       "0.0"
      ]
     },
     "execution_count": 38,
     "metadata": {},
     "output_type": "execute_result"
    }
   ],
   "source": [
    "big_enough_data['occ_timeshare'].quantile(.33)"
   ]
  },
  {
   "cell_type": "code",
   "execution_count": 39,
   "id": "34553e27-d603-438b-8a2e-ac882793c355",
   "metadata": {},
   "outputs": [
    {
     "data": {
      "text/plain": [
       "16.166"
      ]
     },
     "execution_count": 39,
     "metadata": {},
     "output_type": "execute_result"
    }
   ],
   "source": [
    "big_enough_data['occ_timeshare'].quantile(.66)"
   ]
  },
  {
   "cell_type": "code",
   "execution_count": 40,
   "id": "4bc2f662-c694-44e7-a186-3b9bb1f79844",
   "metadata": {},
   "outputs": [
    {
     "data": {
      "text/plain": [
       "<Axes: >"
      ]
     },
     "execution_count": 40,
     "metadata": {},
     "output_type": "execute_result"
    },
    {
     "data": {
      "image/png": "[encoded data removed]",
      "text/plain": [
       "<Figure size 640x480 with 1 Axes>"
      ]
     },
     "metadata": {},
     "output_type": "display_data"
    }
   ],
   "source": [
    "big_enough_data['occ_timeshare'].hist()"
   ]
  },
  {
   "cell_type": "markdown",
   "id": "75005cf8-e5cd-4789-9b21-7fd2fc29f778",
   "metadata": {},
   "source": [
    "- Occupation:\n",
    "- When the values for the % time spent on green tasks per occupation are split equally into thirds, this occupations' value sits in the lowest third.\n",
    "- When the values for the % time spent on green tasks per occupation are split equally into thirds, this occupations' value sits in the mid third.\n",
    "- When the values for the % time spent on green tasks per occupation are split equally into thirds, this occupations' value sits in the highest third.\n",
    "\n",
    "- Industry:\n",
    "- When the values for the average per unit GHG emissions for industries this occupation sit in are split equally into thirds, this occupations' value sits in the lowest third.\n",
    "- When the values for the average per unit GHG emissions for industries this occupation sit in are split equally into thirds, this occupations' value sits in the mid third.\n",
    "- When the values for the average per unit GHG emissions for industries this occupation sit in are split equally into thirds, this occupations' value sits in the highest third.\n",
    "\n",
    "- Skills:\n",
    "- When the values for the average proportion of green skills per occupation are split equally into thirds, this occupations' value sits in the lowest third.\n",
    "- When the values for the average proportion of green skills per occupation are split equally into thirds, this occupations' value sits in the mid third.\n",
    "- When the values for the average proportion of green skills per occupation are split equally into thirds, this occupations' value sits in the highest third."
   ]
  },
  {
   "cell_type": "code",
   "execution_count": 47,
   "id": "4f616db7-9b30-421f-9329-c53326c940ab",
   "metadata": {},
   "outputs": [
    {
     "data": {
      "text/plain": [
       "low     92\n",
       "high    74\n",
       "mid     52\n",
       "Name: occ_greenness, dtype: int64"
      ]
     },
     "execution_count": 47,
     "metadata": {},
     "output_type": "execute_result"
    }
   ],
   "source": [
    "big_enough_data['occ_greenness'].value_counts()"
   ]
  },
  {
   "cell_type": "code",
   "execution_count": 43,
   "id": "b957233b-8cc3-41fb-8c5e-d5bd730e053e",
   "metadata": {},
   "outputs": [
    {
     "data": {
      "text/plain": [
       "0.0    92\n",
       "Name: occ_timeshare, dtype: int64"
      ]
     },
     "execution_count": 43,
     "metadata": {},
     "output_type": "execute_result"
    }
   ],
   "source": [
    "big_enough_data[big_enough_data['occ_greenness']=='low']['occ_timeshare'].value_counts()"
   ]
  },
  {
   "cell_type": "code",
   "execution_count": 45,
   "id": "b83c663e-540c-4bfa-8def-d493b45c3174",
   "metadata": {},
   "outputs": [
    {
     "data": {
      "text/plain": [
       "3.8     5\n",
       "16.1    4\n",
       "3.0     3\n",
       "9.8     3\n",
       "6.1     3\n",
       "2.1     2\n",
       "0.1     2\n",
       "10.3    2\n",
       "7.7     2\n",
       "0.6     2\n",
       "3.9     1\n",
       "8.5     1\n",
       "0.5     1\n",
       "7.0     1\n",
       "2.7     1\n",
       "13.6    1\n",
       "13.1    1\n",
       "0.8     1\n",
       "6.4     1\n",
       "11.8    1\n",
       "9.1     1\n",
       "3.3     1\n",
       "12.5    1\n",
       "13.2    1\n",
       "7.1     1\n",
       "1.4     1\n",
       "12.2    1\n",
       "10.0    1\n",
       "14.7    1\n",
       "0.9     1\n",
       "6.3     1\n",
       "15.2    1\n",
       "10.8    1\n",
       "6.9     1\n",
       "Name: occ_timeshare, dtype: int64"
      ]
     },
     "execution_count": 45,
     "metadata": {},
     "output_type": "execute_result"
    }
   ],
   "source": [
    "big_enough_data[big_enough_data['occ_greenness']=='mid']['occ_timeshare'].value_counts()"
   ]
  },
  {
   "cell_type": "code",
   "execution_count": 46,
   "id": "186695c0-bd93-43bb-a7ea-ecd11813d30e",
   "metadata": {},
   "outputs": [
    {
     "data": {
      "text/plain": [
       "22.4    10\n",
       "20.8     7\n",
       "62.5     5\n",
       "18.8     4\n",
       "33.3     3\n",
       "22.5     3\n",
       "32.5     3\n",
       "25.3     3\n",
       "21.1     3\n",
       "22.6     3\n",
       "25.1     2\n",
       "45.3     2\n",
       "20.0     2\n",
       "42.1     2\n",
       "39.0     2\n",
       "26.2     2\n",
       "57.1     2\n",
       "23.1     2\n",
       "23.4     2\n",
       "28.9     1\n",
       "18.5     1\n",
       "22.1     1\n",
       "35.6     1\n",
       "16.4     1\n",
       "28.6     1\n",
       "32.1     1\n",
       "33.8     1\n",
       "28.8     1\n",
       "42.9     1\n",
       "66.7     1\n",
       "50.0     1\n",
       "Name: occ_timeshare, dtype: int64"
      ]
     },
     "execution_count": 46,
     "metadata": {},
     "output_type": "execute_result"
    }
   ],
   "source": [
    "big_enough_data[big_enough_data['occ_greenness']=='high']['occ_timeshare'].value_counts()"
   ]
  },
  {
   "cell_type": "code",
   "execution_count": null,
   "id": "124838a0-cd73-4e38-81c5-d96bd760ba64",
   "metadata": {},
   "outputs": [],
   "source": []
  }
 ],
 "metadata": {
  "jupytext": {
   "cell_metadata_filter": "-all",
   "comment_magics": true
  },
  "kernelspec": {
   "display_name": "Python 3 (ipykernel)",
   "language": "python",
   "name": "python3"
  },
  "language_info": {
   "codemirror_mode": {
    "name": "ipython",
    "version": 3
   },
   "file_extension": ".py",
   "mimetype": "text/x-python",
   "name": "python",
   "nbconvert_exporter": "python",
   "pygments_lexer": "ipython3",
   "version": "3.8.18"
  }
 },
 "nbformat": 4,
 "nbformat_minor": 5
}
