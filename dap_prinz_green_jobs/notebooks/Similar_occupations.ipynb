{
 "cells": [
  {
   "cell_type": "markdown",
   "id": "73c0a624-31db-4ca4-be27-3c5dfc2776dc",
   "metadata": {},
   "source": [
    "## Skill similarities across occupations"
   ]
  },
  {
   "cell_type": "code",
   "execution_count": 1,
   "id": "3d31877b-76a2-421f-a20b-db1126c6fd76",
   "metadata": {},
   "outputs": [],
   "source": [
    "%load_ext autoreload\n",
    "%autoreload 2"
   ]
  },
  {
   "cell_type": "code",
   "execution_count": 2,
   "id": "0b2bdc71-1edf-4f6f-8ad5-8dccc70e2688",
   "metadata": {},
   "outputs": [],
   "source": [
    "import dap_prinz_green_jobs.analysis.ojo_analysis.process_ojo_green_measures as pg\n",
    "from dap_prinz_green_jobs.getters.data_getters import save_to_s3, load_s3_data\n",
    "from dap_prinz_green_jobs import BUCKET_NAME, logger, analysis_config\n",
    "from dap_prinz_green_jobs import BUCKET_NAME, PROJECT_DIR, analysis_config\n",
    "from dap_prinz_green_jobs.getters.ojo_getters import (\n",
    "    get_mixed_ojo_location_sample,\n",
    "    get_mixed_ojo_salaries_sample,\n",
    "    get_large_ojo_location_sample,\n",
    "    get_large_ojo_salaries_sample,\n",
    ")\n",
    "from dap_prinz_green_jobs.utils.plotting import configure_plots\n",
    "from sklearn.metrics.pairwise import cosine_similarity\n",
    "import altair as alt\n",
    "from datetime import datetime\n",
    "import yaml\n",
    "import os\n",
    "\n",
    "import pandas as pd\n",
    "import numpy as np\n",
    "\n",
    "from tqdm import tqdm\n",
    "from textwrap import wrap"
   ]
  },
  {
   "cell_type": "markdown",
   "id": "1fd94e1c-4fea-4c9a-b5ad-59a8cd67323e",
   "metadata": {},
   "source": [
    "## Skills per occupations"
   ]
  },
  {
   "cell_type": "code",
   "execution_count": 3,
   "id": "6c9d06db-f4e1-4b54-a9b3-45e60837172e",
   "metadata": {},
   "outputs": [],
   "source": [
    "occ_sim_folder = f'outputs/data/ojo_application/extracted_green_measures/analysis/occupation_similarity/{analysis_config[\"analysis_files\"][\"occ_most_similar_date\"]}'"
   ]
  },
  {
   "cell_type": "code",
   "execution_count": 4,
   "id": "6fb3f385-2286-4fa7-b4e0-e31710c54b34",
   "metadata": {},
   "outputs": [
    {
     "name": "stdout",
     "output_type": "stream",
     "text": [
      "2024-03-20 16:29:46,245 - botocore.credentials - INFO - Found credentials in shared credentials file: ~/.aws/credentials\n"
     ]
    }
   ],
   "source": [
    "occ_most_similar = load_s3_data(\n",
    "            BUCKET_NAME,\n",
    "            f\"{occ_sim_folder}/occ_most_similar.json\",\n",
    "        )\n",
    "del occ_most_similar['Betting shop managers']"
   ]
  },
  {
   "cell_type": "code",
   "execution_count": 5,
   "id": "c54dcf6e-cd28-43ce-b293-516b5431e15e",
   "metadata": {},
   "outputs": [
    {
     "name": "stdout",
     "output_type": "stream",
     "text": [
      "2024-03-20 16:29:47,616 - botocore.credentials - INFO - Found credentials in shared credentials file: ~/.aws/credentials\n"
     ]
    }
   ],
   "source": [
    "occ_agg = load_s3_data(\n",
    "        BUCKET_NAME,\n",
    "        f'outputs/data/ojo_application/extracted_green_measures/analysis/occupation_aggregated_data_{analysis_config[\"analysis_files\"][\"agg_soc_date_stamp\"]}_all.csv',\n",
    "    )\n",
    "\n",
    "occ_agg = occ_agg[occ_agg['clean_soc_name']!='Betting shop managers']\n",
    "\n",
    "# Lets not include so many of the occupations - it makes the plot laggy\n",
    "occ_agg = occ_agg[occ_agg['num_job_ads']>500]\n",
    "\n",
    "occ_agg.reset_index(inplace=True)"
   ]
  },
  {
   "cell_type": "code",
   "execution_count": 6,
   "id": "d7d2e90a-9796-4b3c-bb90-e5220fa41ffb",
   "metadata": {},
   "outputs": [],
   "source": [
    "occ_skills_info = load_s3_data(\n",
    "            BUCKET_NAME,\n",
    "            f\"{occ_sim_folder}/occ_skills_info.json\",\n",
    "        )"
   ]
  },
  {
   "cell_type": "code",
   "execution_count": 7,
   "id": "7cf555e4-9b0b-4d67-991b-1366429c091e",
   "metadata": {},
   "outputs": [],
   "source": [
    "soc_2num = dict(zip(occ_agg['SOC_2020_EXT'], occ_agg['num_job_ads']))\n",
    "soc_2_prop_green = dict(zip(occ_agg['SOC_2020_EXT'], occ_agg[\"average_prop_green_skills\"]))"
   ]
  },
  {
   "cell_type": "code",
   "execution_count": 8,
   "id": "fdf6f78e-7fee-46f1-ac24-2d0e1b02ccbf",
   "metadata": {},
   "outputs": [
    {
     "data": {
      "text/plain": [
       "1329"
      ]
     },
     "execution_count": 8,
     "metadata": {},
     "output_type": "execute_result"
    }
   ],
   "source": [
    "len(occ_most_similar)"
   ]
  },
  {
   "cell_type": "markdown",
   "id": "f570f2b6-253c-49c1-8f9d-08fba3ec793c",
   "metadata": {},
   "source": [
    "## format for plot"
   ]
  },
  {
   "cell_type": "code",
   "execution_count": 9,
   "id": "7e53c724-b55f-488a-bce2-81d2dd411384",
   "metadata": {},
   "outputs": [],
   "source": [
    "soc_name_2_id = {pg.clean_soc_name(k):v['SOC_2020_EXT'] for k,v in occ_skills_info.items()}"
   ]
  },
  {
   "cell_type": "code",
   "execution_count": 10,
   "id": "ada38051-e143-4ac3-9331-0341d28cde9b",
   "metadata": {},
   "outputs": [],
   "source": [
    "collated_df = pd.DataFrame()\n",
    "for occ_name, occ_sim_details in occ_most_similar.items():\n",
    "    occ_sim_details_df = pd.DataFrame(occ_sim_details)\n",
    "    occ_sim_details_df[\"SOC_2020_EXT_name\"] = occ_sim_details_df[\"SOC_2020_EXT_name\"].apply(lambda x: pg.clean_soc_name(x))\n",
    "    occ_sim_details_df['Occupation'] = occ_name\n",
    "    occ_sim_details_df['Occupation_num_jobs_ads'] = soc_2num.get(soc_name_2_id[occ_name])\n",
    "    occ_sim_details_df[\"av_proportion_green_skills\"] = occ_sim_details_df[\"SOC_2020_EXT_name\"].apply(lambda x: soc_2_prop_green.get(soc_name_2_id[x]))\n",
    "    occ_sim_details_df['similar_num_skills'] = occ_sim_details_df['number of skills']\n",
    "    collated_df = pd.concat([collated_df, occ_sim_details_df])\n",
    "\n",
    "# And only use data with an ok similarity\n",
    "collated_df = collated_df[collated_df['similarity']>0.75]"
   ]
  },
  {
   "cell_type": "code",
   "execution_count": 11,
   "id": "0960bbd8-cee9-402f-95b6-25065b8f705b",
   "metadata": {},
   "outputs": [
    {
     "data": {
      "text/plain": [
       "3799"
      ]
     },
     "execution_count": 11,
     "metadata": {},
     "output_type": "execute_result"
    }
   ],
   "source": [
    "len(collated_df)"
   ]
  },
  {
   "cell_type": "code",
   "execution_count": 12,
   "id": "cc637aca-5a73-4e49-8e97-419c623e56a1",
   "metadata": {},
   "outputs": [],
   "source": [
    "collated_df[\"av_perc_green_skills\"] = collated_df[\"av_proportion_green_skills\"]*100\n",
    "collated_df[\"SOC_2020_EXT_name_wrapped\"] = collated_df[\"SOC_2020_EXT_name\"].apply(wrap, args=[50])"
   ]
  },
  {
   "cell_type": "markdown",
   "id": "942c52b1-a47b-44f8-8b30-026287e815fc",
   "metadata": {},
   "source": [
    "## Plot"
   ]
  },
  {
   "cell_type": "code",
   "execution_count": 13,
   "id": "5ab1a3ed-f6f8-4ef1-84fd-fab53ebd9edb",
   "metadata": {},
   "outputs": [
    {
     "name": "stdout",
     "output_type": "stream",
     "text": [
      "/Users/elizabethgallagher/Code/dap_prinz_green_jobs/outputs/figures/green_jobs_explorer/240320 directory already exists\n"
     ]
    }
   ],
   "source": [
    "# save graphs\n",
    "today = datetime.today().strftime(\"%y%m%d\")\n",
    "graph_dir = str(PROJECT_DIR / f\"outputs/figures/green_jobs_explorer/{today}/\")\n",
    "\n",
    "if not os.path.exists(graph_dir):\n",
    "    print(f\"Creating {graph_dir} directory\")\n",
    "    os.makedirs(graph_dir)\n",
    "else:\n",
    "    print(f\"{graph_dir} directory already exists\")"
   ]
  },
  {
   "cell_type": "code",
   "execution_count": 14,
   "id": "4fc7d9b4-0bc4-406f-a453-d4912fc4b910",
   "metadata": {},
   "outputs": [
    {
     "name": "stdout",
     "output_type": "stream",
     "text": [
      "3799\n",
      "2035\n"
     ]
    }
   ],
   "source": [
    "print(len(collated_df))\n",
    "collated_df = collated_df[collated_df['Occupation_num_jobs_ads']>2000]\n",
    "collated_df.sort_values(by='Occupation', inplace=True)\n",
    "print(len(collated_df))"
   ]
  },
  {
   "cell_type": "code",
   "execution_count": 59,
   "id": "addf6707-a10f-452b-9a57-f237a14e20ee",
   "metadata": {},
   "outputs": [],
   "source": [
    "collated_df['av_perc_green_skills_fixed'] = collated_df['av_perc_green_skills'].apply(lambda x: x if pd.notnull(x) else -1)"
   ]
  },
  {
   "cell_type": "code",
   "execution_count": 75,
   "id": "221df4c9-6984-48e7-bb0f-4f15dcf12ce7",
   "metadata": {},
   "outputs": [],
   "source": [
    "select_box = alt.binding_select(\n",
    "    options=list(collated_df[\"Occupation\"].unique()), name=\"Occupation \"\n",
    ")\n",
    "selection = alt.selection_point(\n",
    "    value=list(collated_df[\"Occupation\"].unique())[0],\n",
    "    fields=[\"Occupation\"],\n",
    "    bind=select_box,\n",
    ")\n",
    "\n",
    "similar_skills_plot = alt.Chart(collated_df,\n",
    "                                # padding={\"left\": 10, \"top\": 100, \"right\": 10, \"bottom\": 10}\n",
    "                               ).mark_bar().encode(\n",
    "    x=alt.X('similarity', title='Skill similarity', scale=alt.Scale(domain=[0, 1])),\n",
    "    y=alt.Y('SOC_2020_EXT_name', sort='-x', title='', axis=alt.Axis(labelLimit=300)\n",
    "           ),    \n",
    "    color=alt.Color(\n",
    "        'av_perc_green_skills_fixed',\n",
    "        title=[\"Average percentage\", \"of green skills\"],\n",
    "        scale=alt.Scale(\n",
    "            scheme='goldgreen',\n",
    "            reverse=False,\n",
    "            domain=[0, collated_df['av_perc_green_skills'].max()],\n",
    "            domainMid=collated_df['av_perc_green_skills'].quantile(q=0.5)\n",
    "        ),\n",
    "        legend=None,\n",
    "    ),\n",
    "    tooltip=[\n",
    "        alt.Tooltip(\"SOC_2020_EXT_name\", title=\"Occupation\"),\n",
    "        alt.Tooltip(\"similarity\", title=\"Similarity score\", format=\".2\"),\n",
    "        alt.Tooltip(\"average number of skills per job advert\", title=\"Average number of skills per job advert\"),\n",
    "        alt.Tooltip(\"av_proportion_green_skills\", title=\"Average percentage of green skills\", format=\".2%\"),\n",
    "        alt.Tooltip(\"popular_overlap\", title=\"Popular skills overlap\"),\n",
    "    ]\n",
    ").add_params(selection).transform_filter(selection)\n",
    "\n"
   ]
  },
  {
   "cell_type": "code",
   "execution_count": 86,
   "id": "9cf93f61-45f5-4f59-ab5f-dda4f316cf7f",
   "metadata": {},
   "outputs": [],
   "source": [
    "configure_plots(\n",
    "    similar_skills_plot.properties(width='container', height=300).configure(autosize=\"fit-x\"),\n",
    "    chart_title=\"Most similar occupations based off skill similarity\",\n",
    "    fontsize_normal=16,\n",
    "    fontsize_title=18,\n",
    ").configure_title(offset=100).save(\n",
    "    f\"{graph_dir}/similar_skills_plot.html\"\n",
    ")"
   ]
  },
  {
   "cell_type": "code",
   "execution_count": 87,
   "id": "274fe9ac-fdc2-4a1f-80f9-58d9bb27f306",
   "metadata": {},
   "outputs": [],
   "source": [
    "# configure_title will allow us to put the dropdown above the plot (done later in the html)"
   ]
  },
  {
   "cell_type": "code",
   "execution_count": null,
   "id": "dd04147e-4fb5-4cef-9021-83fe8207372b",
   "metadata": {},
   "outputs": [],
   "source": []
  }
 ],
 "metadata": {
  "jupytext": {
   "cell_metadata_filter": "-all",
   "comment_magics": true
  },
  "kernelspec": {
   "display_name": "Python 3 (ipykernel)",
   "language": "python",
   "name": "python3"
  },
  "language_info": {
   "codemirror_mode": {
    "name": "ipython",
    "version": 3
   },
   "file_extension": ".py",
   "mimetype": "text/x-python",
   "name": "python",
   "nbconvert_exporter": "python",
   "pygments_lexer": "ipython3",
   "version": "3.8.18"
  },
  "vscode": {
   "interpreter": {
    "hash": "1165a7969a9687ff40a9a1cba7fbc27daccde7acf9ca503596a533568b05dd6d"
   }
  }
 },
 "nbformat": 4,
 "nbformat_minor": 5
}
