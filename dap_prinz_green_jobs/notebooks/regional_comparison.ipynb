{
 "cells": [
  {
   "cell_type": "markdown",
   "id": "4bcda72a-ec94-4504-9920-3df7035585f7",
   "metadata": {},
   "source": [
    "# Chloropleth plot\n",
    "Average greenness by region\n"
   ]
  },
  {
   "cell_type": "code",
   "execution_count": 62,
   "id": "0158b9df-0024-474f-ac6c-f9de28df5dd6",
   "metadata": {},
   "outputs": [],
   "source": [
    "from dap_prinz_green_jobs.analysis.ojo_analysis.process_ojo_green_measures import *\n",
    "from dap_prinz_green_jobs.getters.ojo_getters import (\n",
    "\tget_mixed_ojo_location_sample, get_mixed_ojo_salaries_sample\n",
    ")\n",
    "from dap_prinz_green_jobs.getters.industry_getters import load_sic\n",
    "from dap_prinz_green_jobs import BUCKET_NAME, logger, PROJECT_DIR\n",
    "from dap_prinz_green_jobs.getters.data_getters import load_s3_data, save_to_s3\n",
    "from dap_prinz_green_jobs.utils.chloropleth_utils import get_nuts2polygons_dict, get_nuts1polygons_dict, get_nuts3polygons_dict\n",
    "\n",
    "from dap_prinz_green_jobs.utils.plotting import configure_plots\n",
    "\n",
    "import altair as alt\n",
    "import geopandas as gpd\n",
    "\n",
    "from datetime import datetime\n",
    "\n",
    "import os"
   ]
  },
  {
   "cell_type": "code",
   "execution_count": 63,
   "id": "645ca31e-8d35-4511-a4ed-cfc08cf4d640",
   "metadata": {},
   "outputs": [
    {
     "name": "stdout",
     "output_type": "stream",
     "text": [
      "/Users/elizabethgallagher/Code/dap_prinz_green_jobs/outputs/figures/green_jobs_explorer/231214 directory already exists\n"
     ]
    }
   ],
   "source": [
    "#save graphs\n",
    "today = datetime.today().strftime('%y%m%d')\n",
    "graph_dir = str(PROJECT_DIR / f\"outputs/figures/green_jobs_explorer/{today}/\")\n",
    "\n",
    "if not os.path.exists(graph_dir):\n",
    "    print(f\"Creating {graph_dir} directory\")\n",
    "    os.makedirs(graph_dir)\n",
    "else:\n",
    "    print(f\"{graph_dir} directory already exists\")"
   ]
  },
  {
   "cell_type": "markdown",
   "id": "d0d78391-d0bb-45f6-956b-962a6bb35e36",
   "metadata": {},
   "source": [
    "## Load the aggregated by region dataset"
   ]
  },
  {
   "cell_type": "code",
   "execution_count": 80,
   "id": "b1ffec2d-e65c-4d37-9a17-876538480e7d",
   "metadata": {},
   "outputs": [],
   "source": [
    "agg_itl_by = \"itl_3_code\"\n",
    "date_stamp = \"20231214\"\n",
    "itl_aggregated_data = load_s3_data(BUCKET_NAME, f\"outputs/data/ojo_application/extracted_green_measures/analysis/{agg_itl_by}_aggregated_data_{date_stamp}.csv\")"
   ]
  },
  {
   "cell_type": "code",
   "execution_count": 81,
   "id": "48d641ce-b2da-40d3-80d6-b0f34ee5c40f",
   "metadata": {},
   "outputs": [
    {
     "data": {
      "text/plain": [
       "963316"
      ]
     },
     "execution_count": 81,
     "metadata": {},
     "output_type": "execute_result"
    }
   ],
   "source": [
    "itl_aggregated_data['num_job_ads'].sum()"
   ]
  },
  {
   "cell_type": "markdown",
   "id": "b81ab1ae-9184-451f-832e-793f5678fc3f",
   "metadata": {},
   "source": [
    "## Get additional geometry data needed for chloropleth"
   ]
  },
  {
   "cell_type": "code",
   "execution_count": 82,
   "id": "cd250a3e-24fd-4413-a985-ca99e6d6548b",
   "metadata": {},
   "outputs": [],
   "source": [
    "nuts1polygons_dict = get_nuts1polygons_dict()\n",
    "itl1polygons_dict = {k.replace(\"UK\",\"TL\"):v for k, v in nuts1polygons_dict.items()}\n",
    "\n",
    "nuts2polygons_dict = get_nuts2polygons_dict()\n",
    "itl2polygons_dict = {k.replace(\"UK\",\"TL\"):v for k, v in nuts2polygons_dict.items()}\n",
    "\n",
    "nuts3polygons_dict = get_nuts3polygons_dict()\n",
    "itl3polygons_dict = {k.replace(\"UK\",\"TL\"):v for k, v in nuts3polygons_dict.items()}"
   ]
  },
  {
   "cell_type": "code",
   "execution_count": 83,
   "id": "561dba10-3597-41d9-84dc-c50b5b0c6e93",
   "metadata": {},
   "outputs": [
    {
     "data": {
      "text/plain": [
       "Index(['itl_3_code', 'itl_3_code.1', 'num_job_ads', 'prop_job_ads',\n",
       "       'top_5_socs', 'occ_timeshare', 'occ_topics',\n",
       "       'average_occ_green_timeshare', 'average_num_skills',\n",
       "       'average_prop_green_skills', 'top_5_green_skills',\n",
       "       'top_5_not_green_skills', 'num_unique_SIC', 'num_null_sic',\n",
       "       'num_top_sic', 'num_other_sic', 'average_ind_perunit_ghg',\n",
       "       'average_ind_prop_hours', 'average_ind_prop_workers', 'top_5_sics',\n",
       "       'median_min_annualised_salary', 'median_max_annualised_salary',\n",
       "       'top_5_itl2_quotient', 'top_3_sics_names', 'top_3_green_skills_names',\n",
       "       'top_3_socs_names', 'occ_greenness', 'ind_greenness',\n",
       "       'skills_greenness', 'greenness_score'],\n",
       "      dtype='object')"
      ]
     },
     "execution_count": 83,
     "metadata": {},
     "output_type": "execute_result"
    }
   ],
   "source": [
    "itl_aggregated_data.columns"
   ]
  },
  {
   "cell_type": "code",
   "execution_count": 85,
   "id": "1be41ab6-1695-4299-aea7-d8739de3edc2",
   "metadata": {},
   "outputs": [
    {
     "ename": "TypeError",
     "evalue": "'NoneType' object is not subscriptable",
     "output_type": "error",
     "traceback": [
      "\u001b[0;31m---------------------------------------------------------------------------\u001b[0m",
      "\u001b[0;31mTypeError\u001b[0m                                 Traceback (most recent call last)",
      "Cell \u001b[0;32mIn[85], line 2\u001b[0m\n\u001b[1;32m      1\u001b[0m \u001b[38;5;28;01mif\u001b[39;00m agg_itl_by \u001b[38;5;241m==\u001b[39m \u001b[38;5;124m\"\u001b[39m\u001b[38;5;124mitl_3_code\u001b[39m\u001b[38;5;124m\"\u001b[39m:\n\u001b[0;32m----> 2\u001b[0m     itl_aggregated_data[\u001b[38;5;124m'\u001b[39m\u001b[38;5;124mgeometry\u001b[39m\u001b[38;5;124m'\u001b[39m] \u001b[38;5;241m=\u001b[39m \u001b[43mitl_aggregated_data\u001b[49m\u001b[43m[\u001b[49m\u001b[43magg_itl_by\u001b[49m\u001b[43m]\u001b[49m\u001b[38;5;241;43m.\u001b[39;49m\u001b[43mapply\u001b[49m\u001b[43m(\u001b[49m\u001b[38;5;28;43;01mlambda\u001b[39;49;00m\u001b[43m \u001b[49m\u001b[43mx\u001b[49m\u001b[43m:\u001b[49m\u001b[43m \u001b[49m\u001b[43mitl2polygons_dict\u001b[49m\u001b[38;5;241;43m.\u001b[39;49m\u001b[43mget\u001b[49m\u001b[43m(\u001b[49m\u001b[43mx\u001b[49m\u001b[43m,\u001b[49m\u001b[43m \u001b[49m\u001b[43mitl1polygons_dict\u001b[49m\u001b[38;5;241;43m.\u001b[39;49m\u001b[43mget\u001b[49m\u001b[43m(\u001b[49m\u001b[43mx\u001b[49m\u001b[43m)\u001b[49m\u001b[43m)\u001b[49m\u001b[43m[\u001b[49m\u001b[38;5;241;43m0\u001b[39;49m\u001b[43m]\u001b[49m\u001b[43m)\u001b[49m\n\u001b[1;32m      3\u001b[0m     itl_aggregated_data[\u001b[38;5;124m'\u001b[39m\u001b[38;5;124mitl_name\u001b[39m\u001b[38;5;124m'\u001b[39m] \u001b[38;5;241m=\u001b[39m itl_aggregated_data[agg_itl_by]\u001b[38;5;241m.\u001b[39mapply(\u001b[38;5;28;01mlambda\u001b[39;00m x: itl2polygons_dict\u001b[38;5;241m.\u001b[39mget(x, itl1polygons_dict\u001b[38;5;241m.\u001b[39mget(x))[\u001b[38;5;241m1\u001b[39m])\n\u001b[1;32m      4\u001b[0m \u001b[38;5;28;01melse\u001b[39;00m:\n",
      "File \u001b[0;32m~/miniconda3/envs/dap_prinz_green_jobs/lib/python3.8/site-packages/pandas/core/series.py:4357\u001b[0m, in \u001b[0;36mSeries.apply\u001b[0;34m(self, func, convert_dtype, args, **kwargs)\u001b[0m\n\u001b[1;32m   4247\u001b[0m \u001b[38;5;28;01mdef\u001b[39;00m \u001b[38;5;21mapply\u001b[39m(\n\u001b[1;32m   4248\u001b[0m     \u001b[38;5;28mself\u001b[39m,\n\u001b[1;32m   4249\u001b[0m     func: AggFuncType,\n\u001b[0;32m   (...)\u001b[0m\n\u001b[1;32m   4252\u001b[0m     \u001b[38;5;241m*\u001b[39m\u001b[38;5;241m*\u001b[39mkwargs,\n\u001b[1;32m   4253\u001b[0m ) \u001b[38;5;241m-\u001b[39m\u001b[38;5;241m>\u001b[39m FrameOrSeriesUnion:\n\u001b[1;32m   4254\u001b[0m \u001b[38;5;250m    \u001b[39m\u001b[38;5;124;03m\"\"\"\u001b[39;00m\n\u001b[1;32m   4255\u001b[0m \u001b[38;5;124;03m    Invoke function on values of Series.\u001b[39;00m\n\u001b[1;32m   4256\u001b[0m \n\u001b[0;32m   (...)\u001b[0m\n\u001b[1;32m   4355\u001b[0m \u001b[38;5;124;03m    dtype: float64\u001b[39;00m\n\u001b[1;32m   4356\u001b[0m \u001b[38;5;124;03m    \"\"\"\u001b[39;00m\n\u001b[0;32m-> 4357\u001b[0m     \u001b[38;5;28;01mreturn\u001b[39;00m \u001b[43mSeriesApply\u001b[49m\u001b[43m(\u001b[49m\u001b[38;5;28;43mself\u001b[39;49m\u001b[43m,\u001b[49m\u001b[43m \u001b[49m\u001b[43mfunc\u001b[49m\u001b[43m,\u001b[49m\u001b[43m \u001b[49m\u001b[43mconvert_dtype\u001b[49m\u001b[43m,\u001b[49m\u001b[43m \u001b[49m\u001b[43margs\u001b[49m\u001b[43m,\u001b[49m\u001b[43m \u001b[49m\u001b[43mkwargs\u001b[49m\u001b[43m)\u001b[49m\u001b[38;5;241;43m.\u001b[39;49m\u001b[43mapply\u001b[49m\u001b[43m(\u001b[49m\u001b[43m)\u001b[49m\n",
      "File \u001b[0;32m~/miniconda3/envs/dap_prinz_green_jobs/lib/python3.8/site-packages/pandas/core/apply.py:1043\u001b[0m, in \u001b[0;36mSeriesApply.apply\u001b[0;34m(self)\u001b[0m\n\u001b[1;32m   1039\u001b[0m \u001b[38;5;28;01mif\u001b[39;00m \u001b[38;5;28misinstance\u001b[39m(\u001b[38;5;28mself\u001b[39m\u001b[38;5;241m.\u001b[39mf, \u001b[38;5;28mstr\u001b[39m):\n\u001b[1;32m   1040\u001b[0m     \u001b[38;5;66;03m# if we are a string, try to dispatch\u001b[39;00m\n\u001b[1;32m   1041\u001b[0m     \u001b[38;5;28;01mreturn\u001b[39;00m \u001b[38;5;28mself\u001b[39m\u001b[38;5;241m.\u001b[39mapply_str()\n\u001b[0;32m-> 1043\u001b[0m \u001b[38;5;28;01mreturn\u001b[39;00m \u001b[38;5;28;43mself\u001b[39;49m\u001b[38;5;241;43m.\u001b[39;49m\u001b[43mapply_standard\u001b[49m\u001b[43m(\u001b[49m\u001b[43m)\u001b[49m\n",
      "File \u001b[0;32m~/miniconda3/envs/dap_prinz_green_jobs/lib/python3.8/site-packages/pandas/core/apply.py:1098\u001b[0m, in \u001b[0;36mSeriesApply.apply_standard\u001b[0;34m(self)\u001b[0m\n\u001b[1;32m   1092\u001b[0m         values \u001b[38;5;241m=\u001b[39m obj\u001b[38;5;241m.\u001b[39mastype(\u001b[38;5;28mobject\u001b[39m)\u001b[38;5;241m.\u001b[39m_values\n\u001b[1;32m   1093\u001b[0m         \u001b[38;5;66;03m# error: Argument 2 to \"map_infer\" has incompatible type\u001b[39;00m\n\u001b[1;32m   1094\u001b[0m         \u001b[38;5;66;03m# \"Union[Callable[..., Any], str, List[Union[Callable[..., Any], str]],\u001b[39;00m\n\u001b[1;32m   1095\u001b[0m         \u001b[38;5;66;03m# Dict[Hashable, Union[Union[Callable[..., Any], str],\u001b[39;00m\n\u001b[1;32m   1096\u001b[0m         \u001b[38;5;66;03m# List[Union[Callable[..., Any], str]]]]]\"; expected\u001b[39;00m\n\u001b[1;32m   1097\u001b[0m         \u001b[38;5;66;03m# \"Callable[[Any], Any]\"\u001b[39;00m\n\u001b[0;32m-> 1098\u001b[0m         mapped \u001b[38;5;241m=\u001b[39m \u001b[43mlib\u001b[49m\u001b[38;5;241;43m.\u001b[39;49m\u001b[43mmap_infer\u001b[49m\u001b[43m(\u001b[49m\n\u001b[1;32m   1099\u001b[0m \u001b[43m            \u001b[49m\u001b[43mvalues\u001b[49m\u001b[43m,\u001b[49m\n\u001b[1;32m   1100\u001b[0m \u001b[43m            \u001b[49m\u001b[43mf\u001b[49m\u001b[43m,\u001b[49m\u001b[43m  \u001b[49m\u001b[38;5;66;43;03m# type: ignore[arg-type]\u001b[39;49;00m\n\u001b[1;32m   1101\u001b[0m \u001b[43m            \u001b[49m\u001b[43mconvert\u001b[49m\u001b[38;5;241;43m=\u001b[39;49m\u001b[38;5;28;43mself\u001b[39;49m\u001b[38;5;241;43m.\u001b[39;49m\u001b[43mconvert_dtype\u001b[49m\u001b[43m,\u001b[49m\n\u001b[1;32m   1102\u001b[0m \u001b[43m        \u001b[49m\u001b[43m)\u001b[49m\n\u001b[1;32m   1104\u001b[0m \u001b[38;5;28;01mif\u001b[39;00m \u001b[38;5;28mlen\u001b[39m(mapped) \u001b[38;5;129;01mand\u001b[39;00m \u001b[38;5;28misinstance\u001b[39m(mapped[\u001b[38;5;241m0\u001b[39m], ABCSeries):\n\u001b[1;32m   1105\u001b[0m     \u001b[38;5;66;03m# GH 25959 use pd.array instead of tolist\u001b[39;00m\n\u001b[1;32m   1106\u001b[0m     \u001b[38;5;66;03m# so extension arrays can be used\u001b[39;00m\n\u001b[1;32m   1107\u001b[0m     \u001b[38;5;28;01mreturn\u001b[39;00m obj\u001b[38;5;241m.\u001b[39m_constructor_expanddim(pd_array(mapped), index\u001b[38;5;241m=\u001b[39mobj\u001b[38;5;241m.\u001b[39mindex)\n",
      "File \u001b[0;32m~/miniconda3/envs/dap_prinz_green_jobs/lib/python3.8/site-packages/pandas/_libs/lib.pyx:2859\u001b[0m, in \u001b[0;36mpandas._libs.lib.map_infer\u001b[0;34m()\u001b[0m\n",
      "Cell \u001b[0;32mIn[85], line 2\u001b[0m, in \u001b[0;36m<lambda>\u001b[0;34m(x)\u001b[0m\n\u001b[1;32m      1\u001b[0m \u001b[38;5;28;01mif\u001b[39;00m agg_itl_by \u001b[38;5;241m==\u001b[39m \u001b[38;5;124m\"\u001b[39m\u001b[38;5;124mitl_3_code\u001b[39m\u001b[38;5;124m\"\u001b[39m:\n\u001b[0;32m----> 2\u001b[0m     itl_aggregated_data[\u001b[38;5;124m'\u001b[39m\u001b[38;5;124mgeometry\u001b[39m\u001b[38;5;124m'\u001b[39m] \u001b[38;5;241m=\u001b[39m itl_aggregated_data[agg_itl_by]\u001b[38;5;241m.\u001b[39mapply(\u001b[38;5;28;01mlambda\u001b[39;00m x: \u001b[43mitl2polygons_dict\u001b[49m\u001b[38;5;241;43m.\u001b[39;49m\u001b[43mget\u001b[49m\u001b[43m(\u001b[49m\u001b[43mx\u001b[49m\u001b[43m,\u001b[49m\u001b[43m \u001b[49m\u001b[43mitl1polygons_dict\u001b[49m\u001b[38;5;241;43m.\u001b[39;49m\u001b[43mget\u001b[49m\u001b[43m(\u001b[49m\u001b[43mx\u001b[49m\u001b[43m)\u001b[49m\u001b[43m)\u001b[49m\u001b[43m[\u001b[49m\u001b[38;5;241;43m0\u001b[39;49m\u001b[43m]\u001b[49m)\n\u001b[1;32m      3\u001b[0m     itl_aggregated_data[\u001b[38;5;124m'\u001b[39m\u001b[38;5;124mitl_name\u001b[39m\u001b[38;5;124m'\u001b[39m] \u001b[38;5;241m=\u001b[39m itl_aggregated_data[agg_itl_by]\u001b[38;5;241m.\u001b[39mapply(\u001b[38;5;28;01mlambda\u001b[39;00m x: itl2polygons_dict\u001b[38;5;241m.\u001b[39mget(x, itl1polygons_dict\u001b[38;5;241m.\u001b[39mget(x))[\u001b[38;5;241m1\u001b[39m])\n\u001b[1;32m      4\u001b[0m \u001b[38;5;28;01melse\u001b[39;00m:\n",
      "\u001b[0;31mTypeError\u001b[0m: 'NoneType' object is not subscriptable"
     ]
    }
   ],
   "source": [
    "if agg_itl_by == \"itl_3_code\":\n",
    "    itl_aggregated_data['geometry'] = itl_aggregated_data[agg_itl_by].apply(lambda x: itl2polygons_dict.get(x, itl1polygons_dict.get(x))[0])\n",
    "    itl_aggregated_data['itl_name'] = itl_aggregated_data[agg_itl_by].apply(lambda x: itl2polygons_dict.get(x, itl1polygons_dict.get(x))[1])\n",
    "else:\n",
    "    itl_aggregated_data['geometry'] = itl_aggregated_data[agg_itl_by].apply(lambda x: itl3polygons_dict.get(x, itl1polygons_dict.get(x))[0])\n",
    "    itl_aggregated_data['itl_name'] = itl_aggregated_data[agg_itl_by].apply(lambda x: itl3polygons_dict.get(x, itl1polygons_dict.get(x))[1])\n",
    "\n",
    "geo_df = gpd.GeoDataFrame(itl_aggregated_data)"
   ]
  },
  {
   "cell_type": "markdown",
   "id": "75eae896-2826-4600-9158-4f027d101635",
   "metadata": {},
   "source": [
    "## Normalise and numerate greenness measures"
   ]
  },
  {
   "cell_type": "code",
   "execution_count": null,
   "id": "4d4920c8-2534-4039-9159-87b14533e181",
   "metadata": {},
   "outputs": [],
   "source": [
    "geo_df[\"Relative occupation greenness\"] = geo_df[\"occ_greenness\"].map({\"low\":0,\"mid\":1,\"high\":2})/2\n",
    "geo_df[\"Relative industry greenness\"] = geo_df[\"ind_greenness\"].map({\"low\":0,\"mid\":1,\"high\":2})/2\n",
    "geo_df[\"Relative skills greenness\"] = geo_df[\"skills_greenness\"].map({\"low\":0,\"mid\":1,\"high\":2})/2\n",
    "geo_df[\"Relative overall greenness\"] = geo_df[\"greenness_score\"].map({\"low\":0,\"low-mid\":1,\"mid-high\":2,\"high\":3})/3"
   ]
  },
  {
   "cell_type": "markdown",
   "id": "14eddf46-1e4a-4df4-a2a9-b059ef9ca434",
   "metadata": {},
   "source": [
    "## Get data in format to filter in viz"
   ]
  },
  {
   "cell_type": "code",
   "execution_count": 69,
   "id": "42df92d3-6635-4c81-85bb-d76d1168d72f",
   "metadata": {
    "lines_to_next_cell": 2
   },
   "outputs": [
    {
     "name": "stderr",
     "output_type": "stream",
     "text": [
      "/Users/elizabethgallagher/miniconda3/envs/dap_prinz_green_jobs/lib/python3.8/site-packages/pandas/core/frame.py:5039: SettingWithCopyWarning: \n",
      "A value is trying to be set on a copy of a slice from a DataFrame\n",
      "\n",
      "See the caveats in the documentation: https://pandas.pydata.org/pandas-docs/stable/user_guide/indexing.html#returning-a-view-versus-a-copy\n",
      "  return super().rename(\n",
      "/Users/elizabethgallagher/miniconda3/envs/dap_prinz_green_jobs/lib/python3.8/site-packages/geopandas/geodataframe.py:1538: SettingWithCopyWarning: \n",
      "A value is trying to be set on a copy of a slice from a DataFrame.\n",
      "Try using .loc[row_indexer,col_indexer] = value instead\n",
      "\n",
      "See the caveats in the documentation: https://pandas.pydata.org/pandas-docs/stable/user_guide/indexing.html#returning-a-view-versus-a-copy\n",
      "  super().__setitem__(key, value)\n"
     ]
    }
   ],
   "source": [
    "static_columns = ['itl_name', 'geometry', 'num_job_ads',\n",
    "                  'average_occ_green_timeshare', 'average_prop_green_skills', 'average_ind_perunit_ghg',\n",
    "                  'top_3_sics_names', 'top_3_green_skills_names', 'top_3_socs_names',\n",
    "                 'occ_greenness', 'ind_greenness', 'skills_greenness','greenness_score']\n",
    "\n",
    "merged_data = pd.DataFrame()\n",
    "for col_name in [\"Relative occupation greenness\", \"Relative industry greenness\", \"Relative skills greenness\", \"Relative overall greenness\"]:\n",
    "    c_df = geo_df[static_columns + [col_name]]\n",
    "    c_df.rename(columns = {col_name: \"value\"}, inplace=True)\n",
    "    c_df['variable'] = [col_name]*len(c_df)\n",
    "\n",
    "    merged_data = pd.concat([merged_data, c_df])"
   ]
  },
  {
   "cell_type": "markdown",
   "id": "6834d854-b476-4d8f-b81b-8ab3362fc21e",
   "metadata": {},
   "source": [
    "## Plot"
   ]
  },
  {
   "cell_type": "code",
   "execution_count": 70,
   "id": "b304ec60-21d3-4ed9-8b6a-e1e4b544bc02",
   "metadata": {},
   "outputs": [
    {
     "name": "stderr",
     "output_type": "stream",
     "text": [
      "/Users/elizabethgallagher/miniconda3/envs/dap_prinz_green_jobs/lib/python3.8/site-packages/altair/utils/deprecation.py:65: AltairDeprecationWarning: 'add_selection' is deprecated. Use 'add_params' instead.\n",
      "  warnings.warn(message, AltairDeprecationWarning, stacklevel=1)\n"
     ]
    }
   ],
   "source": [
    "select_box = alt.binding_select(options=list(merged_data['variable'].unique()), name=\"Regional comparison measure \")\n",
    "selection = alt.selection_point(value=\"Relative overall greenness\", fields=['variable'], bind=select_box)\n",
    "\n",
    "regional_measures_plot = alt.Chart(merged_data).mark_geoshape().encode(\n",
    "    color=alt.Color(\n",
    "        'value', title=\"\",\n",
    "        # scale=alt.Scale(scheme='goldgreen',reverse=False),\n",
    "        scale=alt.Scale(domain=[0,0.5,1],range=['#5a443aff', '#39834cff','#06e43eff']), # ['#3a5240ff', '#06e43eff']\n",
    "        legend=alt.Legend(title='Relative greenness'),\n",
    "        # legend=None\n",
    "    ), \n",
    "    tooltip=[\n",
    "                alt.Tooltip(\"itl_name\", title=\"Region\"),\n",
    "                alt.Tooltip(\"num_job_ads\", title=\"Number of job adverts\"),\n",
    "        alt.Tooltip(\"greenness_score\", title=\"Relative overall greenness\"),\n",
    "        alt.Tooltip(\"occ_greenness\", title=\"Relative occupational greenness\"),\n",
    "        alt.Tooltip(\"skills_greenness\",title=\"Relative skills greenness\"),\n",
    "        alt.Tooltip(\"ind_greenness\", title=\"Relative industry greenness\"),\n",
    "        alt.Tooltip(\"top_3_green_skills_names\", title=\"Top 3 green skills\"),\n",
    "        alt.Tooltip(\"top_3_sics_names\", title=\"Top 3 industries\"),\n",
    "        alt.Tooltip(\"top_3_socs_names\", title=\"Top 3 occupations\"),\n",
    "        \n",
    "            ]\n",
    ").add_selection(\n",
    "    selection\n",
    ").transform_filter(\n",
    "    selection\n",
    ")"
   ]
  },
  {
   "cell_type": "code",
   "execution_count": 71,
   "id": "1c88f80f-b085-4db9-bb22-16ec29959287",
   "metadata": {
    "lines_to_next_cell": 2
   },
   "outputs": [],
   "source": [
    "regional_measures_plot_config = configure_plots(regional_measures_plot, \n",
    "                chart_title='Average relative greenness measure per region',\n",
    "                chart_subtitle='Select a greenness measure and see which regions have the highest values for it.'\n",
    "                                               ).properties(width=600, height=400)"
   ]
  },
  {
   "cell_type": "code",
   "execution_count": 72,
   "id": "95f0b753-8c9b-442e-8d3d-5478e875c600",
   "metadata": {},
   "outputs": [],
   "source": [
    "regional_measures_plot_config.save(f'{graph_dir}/green_measures_{agg_itl_by}_chloropleth.html')"
   ]
  },
  {
   "cell_type": "code",
   "execution_count": null,
   "id": "8a3dbc1d-2c2b-4c7a-bcce-a482d869c48f",
   "metadata": {},
   "outputs": [],
   "source": []
  }
 ],
 "metadata": {
  "jupytext": {
   "cell_metadata_filter": "-all",
   "comment_magics": true
  },
  "kernelspec": {
   "display_name": "Python 3 (ipykernel)",
   "language": "python",
   "name": "python3"
  },
  "language_info": {
   "codemirror_mode": {
    "name": "ipython",
    "version": 3
   },
   "file_extension": ".py",
   "mimetype": "text/x-python",
   "name": "python",
   "nbconvert_exporter": "python",
   "pygments_lexer": "ipython3",
   "version": "3.8.18"
  }
 },
 "nbformat": 4,
 "nbformat_minor": 5
}
