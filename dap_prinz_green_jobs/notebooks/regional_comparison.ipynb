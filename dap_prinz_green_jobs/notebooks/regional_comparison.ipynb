{
 "cells": [
  {
   "cell_type": "markdown",
   "id": "4bcda72a-ec94-4504-9920-3df7035585f7",
   "metadata": {},
   "source": [
    "# Chloropleth plot\n",
    "Average greenness by region\n"
   ]
  },
  {
   "cell_type": "code",
   "execution_count": 1,
   "id": "0158b9df-0024-474f-ac6c-f9de28df5dd6",
   "metadata": {},
   "outputs": [],
   "source": [
    "from dap_prinz_green_jobs.analysis.ojo_analysis.process_ojo_green_measures import *\n",
    "from dap_prinz_green_jobs.getters.ojo_getters import (\n",
    "\tget_mixed_ojo_location_sample, get_mixed_ojo_salaries_sample\n",
    ")\n",
    "from dap_prinz_green_jobs.getters.industry_getters import load_sic\n",
    "from dap_prinz_green_jobs import BUCKET_NAME, logger, PROJECT_DIR\n",
    "from dap_prinz_green_jobs.getters.data_getters import load_s3_data, save_to_s3\n",
    "from dap_prinz_green_jobs.utils.chloropleth_utils import get_nuts2polygons_dict, get_nuts1polygons_dict, get_nuts3polygons_dict\n",
    "\n",
    "from dap_prinz_green_jobs.utils.plotting import configure_plots\n",
    "\n",
    "import altair as alt\n",
    "import geopandas as gpd\n",
    "\n",
    "from datetime import datetime\n",
    "\n",
    "import os"
   ]
  },
  {
   "cell_type": "code",
   "execution_count": 2,
   "id": "645ca31e-8d35-4511-a4ed-cfc08cf4d640",
   "metadata": {},
   "outputs": [
    {
     "name": "stdout",
     "output_type": "stream",
     "text": [
      "/Users/elizabethgallagher/Code/dap_prinz_green_jobs/outputs/figures/green_jobs_explorer/231213 directory already exists\n"
     ]
    }
   ],
   "source": [
    "#save graphs\n",
    "today = datetime.today().strftime('%y%m%d')\n",
    "graph_dir = str(PROJECT_DIR / f\"outputs/figures/green_jobs_explorer/{today}/\")\n",
    "\n",
    "if not os.path.exists(graph_dir):\n",
    "    print(f\"Creating {graph_dir} directory\")\n",
    "    os.makedirs(graph_dir)\n",
    "else:\n",
    "    print(f\"{graph_dir} directory already exists\")"
   ]
  },
  {
   "cell_type": "markdown",
   "id": "d0d78391-d0bb-45f6-956b-962a6bb35e36",
   "metadata": {},
   "source": [
    "## Load the aggregated by region dataset"
   ]
  },
  {
   "cell_type": "code",
   "execution_count": 3,
   "id": "b1ffec2d-e65c-4d37-9a17-876538480e7d",
   "metadata": {},
   "outputs": [
    {
     "name": "stdout",
     "output_type": "stream",
     "text": [
      "2023-12-13 14:47:50,737 - botocore.credentials - INFO - Found credentials in shared credentials file: ~/.aws/credentials\n",
      "2023-12-13 14:47:50,977 - botocore.credentials - INFO - Found credentials in shared credentials file: ~/.aws/credentials\n"
     ]
    }
   ],
   "source": [
    "agg_itl_by = \"itl_3_code\"\n",
    "date_stamp = \"20231213\"\n",
    "itl_aggregated_data = load_s3_data(BUCKET_NAME, f\"outputs/data/ojo_application/extracted_green_measures/analysis/{agg_itl_by}_aggregated_data_{date_stamp}.csv\")"
   ]
  },
  {
   "cell_type": "markdown",
   "id": "b81ab1ae-9184-451f-832e-793f5678fc3f",
   "metadata": {},
   "source": [
    "## Get additional geometry data needed for chloropleth"
   ]
  },
  {
   "cell_type": "code",
   "execution_count": 4,
   "id": "cd250a3e-24fd-4413-a985-ca99e6d6548b",
   "metadata": {},
   "outputs": [],
   "source": [
    "nuts1polygons_dict = get_nuts1polygons_dict()\n",
    "itl1polygons_dict = {k.replace(\"UK\",\"TL\"):v for k, v in nuts1polygons_dict.items()}\n",
    "\n",
    "nuts2polygons_dict = get_nuts2polygons_dict()\n",
    "itl2polygons_dict = {k.replace(\"UK\",\"TL\"):v for k, v in nuts2polygons_dict.items()}\n",
    "\n",
    "nuts3polygons_dict = get_nuts3polygons_dict()\n",
    "itl3polygons_dict = {k.replace(\"UK\",\"TL\"):v for k, v in nuts3polygons_dict.items()}"
   ]
  },
  {
   "cell_type": "code",
   "execution_count": 5,
   "id": "1be41ab6-1695-4299-aea7-d8739de3edc2",
   "metadata": {},
   "outputs": [],
   "source": [
    "if agg_itl_by == \"itl_2_code\":\n",
    "    itl_aggregated_data['geometry'] = itl_aggregated_data[agg_itl_by].apply(lambda x: itl2polygons_dict.get(x, itl1polygons_dict.get(x))[0])\n",
    "    itl_aggregated_data['itl_name'] = itl_aggregated_data[agg_itl_by].apply(lambda x: itl2polygons_dict.get(x, itl1polygons_dict.get(x))[1])\n",
    "else:\n",
    "    itl_aggregated_data['geometry'] = itl_aggregated_data[agg_itl_by].apply(lambda x: itl3polygons_dict.get(x, itl1polygons_dict.get(x))[0])\n",
    "    itl_aggregated_data['itl_name'] = itl_aggregated_data[agg_itl_by].apply(lambda x: itl3polygons_dict.get(x, itl1polygons_dict.get(x))[1])\n",
    "\n",
    "geo_df = gpd.GeoDataFrame(itl_aggregated_data)"
   ]
  },
  {
   "cell_type": "markdown",
   "id": "75eae896-2826-4600-9158-4f027d101635",
   "metadata": {},
   "source": [
    "## Normalise and numerate greenness measures"
   ]
  },
  {
   "cell_type": "code",
   "execution_count": 6,
   "id": "4d4920c8-2534-4039-9159-87b14533e181",
   "metadata": {},
   "outputs": [],
   "source": [
    "geo_df[\"Relative occupation greenness\"] = geo_df[\"occ_greenness\"].map({\"low\":0,\"mid\":1,\"high\":2})/2\n",
    "geo_df[\"Relative industry greenness\"] = geo_df[\"ind_greenness\"].map({\"low\":0,\"mid\":1,\"high\":2})/2\n",
    "geo_df[\"Relative skills greenness\"] = geo_df[\"skills_greenness\"].map({\"low\":0,\"mid\":1,\"high\":2})/2\n",
    "geo_df[\"Relative overall greenness\"] = geo_df[\"greenness_score\"].map({\"low\":0,\"low-mid\":1,\"mid-high\":2,\"high\":3})/3"
   ]
  },
  {
   "cell_type": "markdown",
   "id": "14eddf46-1e4a-4df4-a2a9-b059ef9ca434",
   "metadata": {},
   "source": [
    "## Get data in format to filter in viz"
   ]
  },
  {
   "cell_type": "code",
   "execution_count": 7,
   "id": "42df92d3-6635-4c81-85bb-d76d1168d72f",
   "metadata": {
    "lines_to_next_cell": 2
   },
   "outputs": [
    {
     "name": "stderr",
     "output_type": "stream",
     "text": [
      "/Users/elizabethgallagher/miniconda3/envs/dap_prinz_green_jobs/lib/python3.8/site-packages/pandas/core/frame.py:5039: SettingWithCopyWarning: \n",
      "A value is trying to be set on a copy of a slice from a DataFrame\n",
      "\n",
      "See the caveats in the documentation: https://pandas.pydata.org/pandas-docs/stable/user_guide/indexing.html#returning-a-view-versus-a-copy\n",
      "  return super().rename(\n",
      "/Users/elizabethgallagher/miniconda3/envs/dap_prinz_green_jobs/lib/python3.8/site-packages/geopandas/geodataframe.py:1538: SettingWithCopyWarning: \n",
      "A value is trying to be set on a copy of a slice from a DataFrame.\n",
      "Try using .loc[row_indexer,col_indexer] = value instead\n",
      "\n",
      "See the caveats in the documentation: https://pandas.pydata.org/pandas-docs/stable/user_guide/indexing.html#returning-a-view-versus-a-copy\n",
      "  super().__setitem__(key, value)\n"
     ]
    }
   ],
   "source": [
    "static_columns = ['itl_name', 'geometry', 'num_job_ads',\n",
    "                  'average_occ_green_timeshare', 'average_prop_green_skills', 'average_ind_perunit_ghg',\n",
    "                  'top_3_sics_names', 'top_3_green_skills_names', 'top_3_socs_names',\n",
    "                 'occ_greenness', 'ind_greenness', 'skills_greenness','greenness_score']\n",
    "\n",
    "merged_data = pd.DataFrame()\n",
    "for col_name in [\"Relative occupation greenness\", \"Relative industry greenness\", \"Relative skills greenness\", \"Relative overall greenness\"]:\n",
    "    c_df = geo_df[static_columns + [col_name]]\n",
    "    c_df.rename(columns = {col_name: \"value\"}, inplace=True)\n",
    "    c_df['variable'] = [col_name]*len(c_df)\n",
    "\n",
    "    merged_data = pd.concat([merged_data, c_df])"
   ]
  },
  {
   "cell_type": "markdown",
   "id": "6834d854-b476-4d8f-b81b-8ab3362fc21e",
   "metadata": {},
   "source": [
    "## Plot"
   ]
  },
  {
   "cell_type": "code",
   "execution_count": 8,
   "id": "b304ec60-21d3-4ed9-8b6a-e1e4b544bc02",
   "metadata": {},
   "outputs": [
    {
     "name": "stderr",
     "output_type": "stream",
     "text": [
      "/Users/elizabethgallagher/miniconda3/envs/dap_prinz_green_jobs/lib/python3.8/site-packages/altair/utils/deprecation.py:65: AltairDeprecationWarning: 'add_selection' is deprecated. Use 'add_params' instead.\n",
      "  warnings.warn(message, AltairDeprecationWarning, stacklevel=1)\n"
     ]
    }
   ],
   "source": [
    "select_box = alt.binding_select(options=list(merged_data['variable'].unique()), name=\"Regional comparison measure \")\n",
    "selection = alt.selection_point(value=\"Relative overall greenness\", fields=['variable'], bind=select_box)\n",
    "\n",
    "regional_measures_plot = alt.Chart(merged_data).mark_geoshape().encode(\n",
    "    color=alt.Color(\n",
    "        'value', title=\"\",\n",
    "        # scale=alt.Scale(scheme='goldgreen',reverse=False),\n",
    "        scale=alt.Scale(domain=[0,0.5,1],range=['#5a443aff', '#39834cff','#06e43eff']), # ['#3a5240ff', '#06e43eff']\n",
    "        # legend=alt.Legend(title='Relative greenness'),\n",
    "        legend=None\n",
    "    ), \n",
    "    tooltip=[\n",
    "                alt.Tooltip(\"itl_name\", title=\"Region\"),\n",
    "                alt.Tooltip(\"num_job_ads\", title=\"Number of job adverts\"),\n",
    "        alt.Tooltip(\"greenness_score\", title=\"Relative overall greenness\"),\n",
    "        alt.Tooltip(\"occ_greenness\", title=\"Relative occupational greenness\"),\n",
    "        alt.Tooltip(\"skills_greenness\",title=\"Relative skills greenness\"),\n",
    "        alt.Tooltip(\"ind_greenness\", title=\"Relative industry greenness\"),\n",
    "        alt.Tooltip(\"top_3_green_skills_names\", title=\"Top 3 green skills\"),\n",
    "        alt.Tooltip(\"top_3_sics_names\", title=\"Top 3 industries\"),\n",
    "        alt.Tooltip(\"top_3_socs_names\", title=\"Top 3 occupations\"),\n",
    "        \n",
    "            ]\n",
    ").add_selection(\n",
    "    selection\n",
    ").transform_filter(\n",
    "    selection\n",
    ")"
   ]
  },
  {
   "cell_type": "code",
   "execution_count": 9,
   "id": "1c88f80f-b085-4db9-bb22-16ec29959287",
   "metadata": {},
   "outputs": [],
   "source": [
    "regional_measures_plot_config = configure_plots(regional_measures_plot, \n",
    "                chart_title='Average relative greenness measure per region',\n",
    "                chart_subtitle='Select a greenness measure and see which regions have the highest values for it.'\n",
    "                                               ).properties(width=600, height=400)\n"
   ]
  },
  {
   "cell_type": "code",
   "execution_count": 10,
   "id": "95f0b753-8c9b-442e-8d3d-5478e875c600",
   "metadata": {},
   "outputs": [],
   "source": [
    "regional_measures_plot_config.save(f'{graph_dir}/green_measures_chloropleth.html')"
   ]
  },
  {
   "cell_type": "code",
   "execution_count": null,
   "id": "fb934149-ed64-4705-bacb-a41e21c07b3e",
   "metadata": {},
   "outputs": [],
   "source": []
  }
 ],
 "metadata": {
  "jupytext": {
   "cell_metadata_filter": "-all",
   "comment_magics": true
  },
  "kernelspec": {
   "display_name": "Python 3 (ipykernel)",
   "language": "python",
   "name": "python3"
  },
  "language_info": {
   "codemirror_mode": {
    "name": "ipython",
    "version": 3
   },
   "file_extension": ".py",
   "mimetype": "text/x-python",
   "name": "python",
   "nbconvert_exporter": "python",
   "pygments_lexer": "ipython3",
   "version": "3.8.18"
  }
 },
 "nbformat": 4,
 "nbformat_minor": 5
}
