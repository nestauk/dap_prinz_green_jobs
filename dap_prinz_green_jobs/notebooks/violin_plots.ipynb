{
 "cells": [
  {
   "attachments": {},
   "cell_type": "markdown",
   "metadata": {},
   "source": [
    "## Create violin plots\n",
    "\n",
    "Create violin plots of the greenness measures for the the Green Jobs Explorer."
   ]
  },
  {
   "cell_type": "code",
   "execution_count": 1,
   "metadata": {},
   "outputs": [],
   "source": [
    "import dap_prinz_green_jobs.analysis.ojo_analysis.process_ojo_green_measures as pg\n",
    "\n",
    "from dap_prinz_green_jobs import PROJECT_DIR, analysis_config\n",
    "import dap_prinz_green_jobs.utils.plotting as pt\n",
    "from datetime import datetime\n",
    "import os\n",
    "import pandas as pd\n",
    "import numpy as np\n",
    "import altair as alt"
   ]
  },
  {
   "cell_type": "code",
   "execution_count": 2,
   "metadata": {},
   "outputs": [
    {
     "name": "stdout",
     "output_type": "stream",
     "text": [
      "/Users/elizabethgallagher/Code/dap_prinz_green_jobs/outputs/figures/green_jobs_explorer/240320 directory already exists\n"
     ]
    }
   ],
   "source": [
    "#save graphs\n",
    "today = datetime.today().strftime('%y%m%d')\n",
    "graph_dir = str(PROJECT_DIR / f\"outputs/figures/green_jobs_explorer/{today}/\")\n",
    "\n",
    "if not os.path.exists(graph_dir):\n",
    "    print(f\"Creating {graph_dir} directory\")\n",
    "    os.makedirs(graph_dir)\n",
    "else:\n",
    "    print(f\"{graph_dir} directory already exists\")"
   ]
  },
  {
   "cell_type": "code",
   "execution_count": 3,
   "metadata": {},
   "outputs": [],
   "source": [
    "#alt disable max rows\n",
    "\n",
    "alt.data_transformers.disable_max_rows()\n",
    "\n",
    "\n",
    "green = pt.NESTA_COLOURS_DICT['green'] # skills\n",
    "blue = pt.NESTA_COLOURS_DICT['aqua'] # occupation\n",
    "purple = pt.NESTA_COLOURS_DICT['purple'] # industry\n",
    "red = pt.NESTA_COLOURS_DICT['red']\n",
    "grey = \"#1a1a1aff\" # industry\n",
    "\n",
    "chart_width = 200\n",
    "chart_height = 450\n",
    "x_value = 96"
   ]
  },
  {
   "attachments": {},
   "cell_type": "markdown",
   "metadata": {},
   "source": [
    "## 0. Load data"
   ]
  },
  {
   "cell_type": "code",
   "execution_count": 4,
   "metadata": {},
   "outputs": [
    {
     "name": "stdout",
     "output_type": "stream",
     "text": [
      "2024-03-20 17:27:14,424 - botocore.credentials - INFO - Found credentials in shared credentials file: ~/.aws/credentials\n"
     ]
    }
   ],
   "source": [
    "occ_date = analysis_config['analysis_files']['agg_soc_date_stamp']\n",
    "occ_agg = pd.read_csv(f's3://prinz-green-jobs/outputs/data/ojo_application/extracted_green_measures/analysis/occupation_aggregated_data_{occ_date}.csv')\n",
    "\n",
    "occ_agg = occ_agg[occ_agg['clean_soc_name']!='Betting shop managers']\n",
    "occ_agg.reset_index(inplace=True)\n",
    "\n",
    "occ_agg = occ_agg.query('num_job_ads > 100').reset_index(drop=True)"
   ]
  },
  {
   "cell_type": "code",
   "execution_count": 5,
   "metadata": {
    "lines_to_next_cell": 2
   },
   "outputs": [],
   "source": [
    "# Turn prop green skills into % for clarity\n",
    "occ_agg['average_perc_green_skills']=occ_agg['average_prop_green_skills']*100\n",
    "occ_agg['average_prop_occ_green_timeshare']=occ_agg['average_occ_green_timeshare']/100"
   ]
  },
  {
   "attachments": {},
   "cell_type": "markdown",
   "metadata": {},
   "source": [
    "## 2. Generate violin plots"
   ]
  },
  {
   "cell_type": "code",
   "execution_count": 6,
   "metadata": {},
   "outputs": [
    {
     "name": "stderr",
     "output_type": "stream",
     "text": [
      "/Users/elizabethgallagher/miniconda3/envs/dap_prinz_green_jobs/lib/python3.8/site-packages/altair/utils/deprecation.py:65: AltairDeprecationWarning: 'selection_single' is deprecated.  Use 'selection_point'\n",
      "  warnings.warn(message, AltairDeprecationWarning, stacklevel=1)\n"
     ]
    }
   ],
   "source": [
    "occ_names = sorted(list(occ_agg['clean_soc_name'].unique()))\n",
    "\n",
    "occupation_dropdown = alt.selection_single(\n",
    "    fields=['clean_soc_name'],\n",
    "    name='OccupationSelect',\n",
    "    value=occ_names[0],\n",
    "    bind=alt.binding_select(options=occ_names))"
   ]
  },
  {
   "cell_type": "code",
   "execution_count": 7,
   "metadata": {},
   "outputs": [],
   "source": [
    "skills_vio = alt.Chart(occ_agg, width=100).transform_density(\n",
    "    'average_perc_green_skills',\n",
    "    as_=['average_perc_green_skills', 'density'],\n",
    ").mark_area(orient='horizontal', color=green).encode(\n",
    "    alt.X('density:Q')\n",
    "        .stack('center')\n",
    "        .impute(None)\n",
    "        .title(None)\n",
    "        .axis(labels=False, values=[0], grid=False, ticks=True),\n",
    "    alt.Y('average_perc_green_skills:Q', title=\"Average proportion of green skills\")).properties(\n",
    "    width=chart_width,\n",
    "    height=chart_height\n",
    ")\n",
    "\n",
    "\n",
    "ind_vio = alt.Chart(occ_agg, width=100).transform_density(\n",
    "    'average_ind_perunit_ghg',\n",
    "    as_=['average_ind_perunit_ghg', 'density'],\n",
    ").mark_area(orient='horizontal', color=grey).encode(\n",
    "    alt.X('density:Q')\n",
    "        .stack('center')\n",
    "        .impute(None)\n",
    "        .title(None)\n",
    "        .axis(labels=False, values=[0], grid=False, ticks=True),\n",
    "    alt.Y('average_ind_perunit_ghg:Q', title=\"Average GHG emissions per unit of economic activity\")).properties(\n",
    "    width=chart_width,\n",
    "    height=chart_height\n",
    ")\n",
    "\n",
    "    \n",
    "occ1_vio =  alt.Chart(occ_agg, width=100).transform_density(\n",
    "    'average_occ_green_timeshare',\n",
    "    as_=['average_occ_green_timeshare', 'density'],\n",
    ").mark_area(orient='horizontal', color=blue).encode(\n",
    "    alt.X('density:Q')\n",
    "        .stack('center')\n",
    "        .impute(None)\n",
    "        .title(None)\n",
    "        .axis(labels=False, values=[0], grid=False, ticks=True),\n",
    "    alt.Y('average_occ_green_timeshare:Q', title=\"Fraction of time spent doing green tasks\")).properties(\n",
    "    width=chart_width,\n",
    "    height=chart_height\n",
    ")"
   ]
  },
  {
   "cell_type": "code",
   "execution_count": 8,
   "metadata": {},
   "outputs": [],
   "source": [
    "\n",
    "\n",
    "# Dots for skills_vio with dynamic data based on dropdown selection\n",
    "skills_dots = alt.Chart(occ_agg).mark_point(color=red, filled=True, size=100, opacity=0.6).encode(\n",
    "    x=alt.value(x_value),\n",
    "    y='average_perc_green_skills:Q'\n",
    ").transform_filter(occupation_dropdown)\n",
    "\n",
    "# Dots for ind_vio with dynamic data based on dropdown selection\n",
    "ind_dots = alt.Chart(occ_agg).mark_point(color=red, filled=True, size=100, opacity=0.6).encode(\n",
    "    x=alt.value(x_value),\n",
    "    y='average_ind_perunit_ghg:Q'\n",
    ").transform_filter(occupation_dropdown)\n",
    "\n",
    "# Dots for occ1_vio with dynamic data based on dropdown selection\n",
    "occ1_dots = alt.Chart(occ_agg).mark_point(color=red, filled=True, size=100, opacity=0.6).encode(\n",
    "    x=alt.value(x_value),\n",
    "    y='average_occ_green_timeshare:Q'\n",
    ").transform_filter(occupation_dropdown)"
   ]
  },
  {
   "cell_type": "code",
   "execution_count": 9,
   "metadata": {},
   "outputs": [
    {
     "name": "stderr",
     "output_type": "stream",
     "text": [
      "/Users/elizabethgallagher/miniconda3/envs/dap_prinz_green_jobs/lib/python3.8/site-packages/altair/utils/deprecation.py:65: AltairDeprecationWarning: 'add_selection' is deprecated. Use 'add_params' instead.\n",
      "  warnings.warn(message, AltairDeprecationWarning, stacklevel=1)\n"
     ]
    }
   ],
   "source": [
    "# Combine everything into a single chart\n",
    "vio_chart_with_dots = (occ1_vio + occ1_dots) | (skills_vio + skills_dots) | (ind_vio + ind_dots)\n",
    "\n",
    "final_chart = alt.vconcat(vio_chart_with_dots).add_selection(\n",
    "    occupation_dropdown\n",
    ")\n",
    "\n",
    "#add chart title based on occupation dropdown\n",
    "vio_chart_with_dots_config = pt.configure_plots(final_chart)"
   ]
  },
  {
   "cell_type": "code",
   "execution_count": 10,
   "metadata": {},
   "outputs": [],
   "source": [
    "vio_chart_with_dots_config.save(f\"{graph_dir}/vio_chart_with_dots.html\")"
   ]
  },
  {
   "cell_type": "markdown",
   "metadata": {},
   "source": [
    "## Beeswarm plot\n",
    "- Use the numbers of occupations in cuts of the measures to determine the amount of x jitter added"
   ]
  },
  {
   "cell_type": "code",
   "execution_count": 11,
   "metadata": {},
   "outputs": [],
   "source": [
    "occ_agg.dropna(subset=['average_occ_green_timeshare'], inplace=True)"
   ]
  },
  {
   "cell_type": "code",
   "execution_count": 12,
   "metadata": {},
   "outputs": [],
   "source": [
    "n_cuts=100\n",
    "occ_agg['average_prop_green_skills_cut'] = pd.cut(occ_agg['average_prop_green_skills'], n_cuts).apply(lambda x: float(x.left))\n",
    "occ_agg['average_ind_perunit_ghg_cut'] = pd.cut(occ_agg['average_ind_perunit_ghg'], n_cuts).apply(lambda x: float(x.left)) \n",
    "occ_agg['average_occ_green_timeshare_cut'] = pd.cut(occ_agg['average_occ_green_timeshare'], n_cuts).apply(lambda x: float(x.left)) \n",
    "\n",
    "num_each_interval = occ_agg['average_prop_green_skills_cut'].value_counts().to_dict()\n",
    "occ_agg['average_prop_green_skills_cut_n'] = occ_agg['average_prop_green_skills_cut'].map(num_each_interval)\n",
    "num_each_interval = occ_agg['average_ind_perunit_ghg_cut'].value_counts().to_dict()\n",
    "occ_agg['average_ind_perunit_ghg_cut_n'] = occ_agg['average_ind_perunit_ghg_cut'].map(num_each_interval)\n",
    "num_each_interval = occ_agg['average_occ_green_timeshare_cut'].value_counts().to_dict()\n",
    "occ_agg['average_occ_green_timeshare_cut_n'] = occ_agg['average_occ_green_timeshare_cut'].map(num_each_interval)\n",
    "\n",
    "occ_agg['average_prop_green_skills_x_jitter'] = occ_agg['average_prop_green_skills_cut_n'].apply(lambda x: np.random.uniform(-x,x))\n",
    "occ_agg['average_ind_perunit_ghg_x_jitter'] = occ_agg['average_ind_perunit_ghg_cut_n'].apply(lambda x: np.random.uniform(-x,x))\n",
    "occ_agg['average_occ_green_timeshare_x_jitter'] = occ_agg['average_occ_green_timeshare_cut_n'].apply(lambda x: np.random.uniform(-x,x))\n",
    "\n",
    "# occ_agg['average_prop_green_skills_x_jitter'] = occ_agg['average_prop_green_skills_cut_n'].apply(lambda x: np.random.uniform(-1,1))\n",
    "# occ_agg['average_ind_perunit_ghg_x_jitter'] = occ_agg['average_ind_perunit_ghg_cut_n'].apply(lambda x: np.random.uniform(-1,1))\n",
    "# occ_agg['average_occ_green_timeshare_x_jitter'] = occ_agg['average_occ_green_timeshare_cut_n'].apply(lambda x: np.random.uniform(-1,1))\n",
    "\n"
   ]
  },
  {
   "cell_type": "code",
   "execution_count": 13,
   "metadata": {
    "lines_to_next_cell": 2
   },
   "outputs": [],
   "source": [
    "occ_names = sorted(list(occ_agg['clean_soc_name'].unique()))\n",
    "\n",
    "occupation_dropdown = alt.selection_point(\n",
    "    fields=['clean_soc_name'],\n",
    "    value=occ_names[0],\n",
    "    bind=alt.binding_select(options=occ_names, name='Highlight occupation: ',),\n",
    ")"
   ]
  },
  {
   "cell_type": "code",
   "execution_count": 14,
   "metadata": {},
   "outputs": [],
   "source": [
    "circle_size = 50\n",
    "select_dot_size = 100\n",
    "circle_alpha=0.3\n",
    "\n",
    "skills_beeswarm = alt.Chart(\n",
    "    occ_agg,\n",
    ").mark_circle(size=circle_size, color=green, opacity = circle_alpha).encode(\n",
    "    y=alt.Y('average_prop_green_skills_x_jitter', title=\"\").axis(labels=False, values=[0], grid=False, ticks=True),\n",
    "    x=alt.X('average_perc_green_skills:Q',\n",
    "          title=\"Average percentage of green skills (%)\").axis(grid=False, ticks=True),\n",
    "    tooltip=[\n",
    "                alt.Tooltip(\"clean_soc_name\", title=\"Occupation\"),\n",
    "                alt.Tooltip(\"average_prop_green_skills\", title=\"Average percentage of green skills (%)\", format='.2%')\n",
    "    ]\n",
    ").properties(\n",
    ")\n",
    "\n",
    "# Dots for skills_vio with dynamic data based on dropdown selection\n",
    "skills_beeswarm_dots = alt.Chart(occ_agg).mark_point(color=red, filled=True, size=select_dot_size, opacity=0.6).encode(\n",
    "    y='average_prop_green_skills_x_jitter',\n",
    "    x='average_perc_green_skills:Q'\n",
    ").transform_filter(occupation_dropdown)\n",
    "\n",
    "\n",
    "inds_beeswarm = alt.Chart(\n",
    "    occ_agg,\n",
    ").mark_circle(size=circle_size, color=grey, opacity = circle_alpha).encode(\n",
    "    y=alt.Y('average_ind_perunit_ghg_x_jitter', title=\"\").axis(labels=False, values=[0], grid=False, ticks=True),\n",
    "    x=alt.X('average_ind_perunit_ghg:Q',\n",
    "          title=\"Average GHG emissions per unit of economic output\").axis(grid=False, ticks=True),\n",
    "    tooltip=[\n",
    "                alt.Tooltip(\"clean_soc_name\", title=\"Occupation\"),\n",
    "                alt.Tooltip(\"average_ind_perunit_ghg\", title=\"Average GHG emissions per unit of economic output\", format='.3')\n",
    "    ]\n",
    ").properties(\n",
    ")\n",
    "\n",
    "# Dots for skills_vio with dynamic data based on dropdown selection\n",
    "inds_beeswarm_dots = alt.Chart(occ_agg).mark_point(color=red, filled=True, size=select_dot_size, opacity=0.6).encode(\n",
    "    y='average_ind_perunit_ghg_x_jitter',\n",
    "    x='average_ind_perunit_ghg:Q'\n",
    ").transform_filter(occupation_dropdown)\n",
    "\n",
    "\n",
    "occs_beeswarm = alt.Chart(\n",
    "    occ_agg,\n",
    ").mark_circle(size=circle_size, color=blue, opacity = circle_alpha).encode(\n",
    "    y=alt.Y('average_occ_green_timeshare_x_jitter', title=\"\").axis(labels=False, values=[0], grid=False, ticks=True),\n",
    "    x=alt.X('average_occ_green_timeshare:Q',\n",
    "          title=\"Percentage of time spent on green tasks (%)\").axis(grid=False, ticks=True),\n",
    "    tooltip=[\n",
    "                alt.Tooltip(\"clean_soc_name\", title=\"Occupation\"),\n",
    "                alt.Tooltip(\"average_prop_occ_green_timeshare\", title=\"Percentage of time spent on green tasks (%)\", format='.2%')\n",
    "    ]\n",
    ").properties(\n",
    ")\n",
    "\n",
    "# Dots for skills_vio with dynamic data based on dropdown selection\n",
    "occs_beeswarm_dots = alt.Chart(occ_agg).mark_point(color=red, filled=True, size=select_dot_size, opacity=0.6).encode(\n",
    "    y='average_occ_green_timeshare_x_jitter',\n",
    "    x='average_occ_green_timeshare:Q'\n",
    ").transform_filter(occupation_dropdown)\n",
    "\n"
   ]
  },
  {
   "cell_type": "code",
   "execution_count": 17,
   "metadata": {
    "lines_to_next_cell": 2
   },
   "outputs": [],
   "source": [
    "# Combine everything into a single chart\n",
    "\n",
    "beeswarm_chart_with_dots = alt.vconcat(\n",
    "    (occs_beeswarm + occs_beeswarm_dots).properties(width='container', height=100),\n",
    "    (skills_beeswarm + skills_beeswarm_dots).properties(width='container', height=100),\n",
    "    (inds_beeswarm + inds_beeswarm_dots).properties(width='container', height=100),\n",
    "    spacing=50\n",
    ")\n",
    "    \n",
    "\n",
    "beeswarm_final_chart = beeswarm_chart_with_dots.add_selection(\n",
    "    occupation_dropdown\n",
    ")\n",
    "\n",
    "#add chart title based on occupation dropdown\n",
    "beeswarm_final_chart_config = pt.configure_plots(\n",
    "    beeswarm_final_chart.configure(autosize=\"fit-x\"),\n",
    "    fontsize_normal=16,\n",
    "    fontsize_title=18,\n",
    "    chart_title=\"Green measure values across occupations\"\n",
    ").configure_title(offset=100)"
   ]
  },
  {
   "cell_type": "code",
   "execution_count": 18,
   "metadata": {},
   "outputs": [],
   "source": [
    "beeswarm_final_chart_config.save(f\"{graph_dir}/beeswarm_chart_with_dots.html\")"
   ]
  },
  {
   "cell_type": "code",
   "execution_count": null,
   "metadata": {},
   "outputs": [],
   "source": []
  }
 ],
 "metadata": {
  "jupytext": {
   "cell_metadata_filter": "-all",
   "comment_magics": true
  },
  "kernelspec": {
   "display_name": "Python 3 (ipykernel)",
   "language": "python",
   "name": "python3"
  },
  "language_info": {
   "codemirror_mode": {
    "name": "ipython",
    "version": 3
   },
   "file_extension": ".py",
   "mimetype": "text/x-python",
   "name": "python",
   "nbconvert_exporter": "python",
   "pygments_lexer": "ipython3",
   "version": "3.8.18"
  },
  "vscode": {
   "interpreter": {
    "hash": "1165a7969a9687ff40a9a1cba7fbc27daccde7acf9ca503596a533568b05dd6d"
   }
  }
 },
 "nbformat": 4,
 "nbformat_minor": 4
}
