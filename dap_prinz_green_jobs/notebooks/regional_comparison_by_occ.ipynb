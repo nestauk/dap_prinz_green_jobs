{
 "cells": [
  {
   "cell_type": "markdown",
   "id": "75b4ee4f",
   "metadata": {},
   "source": [
    "# Chloropleth plot\n",
    "Average greenness by region\n"
   ]
  },
  {
   "cell_type": "code",
   "execution_count": 1,
   "id": "fee11fef",
   "metadata": {},
   "outputs": [],
   "source": [
    "from dap_prinz_green_jobs.analysis.ojo_analysis.process_ojo_green_measures import *\n",
    "from dap_prinz_green_jobs.getters.ojo_getters import (\n",
    "    get_mixed_ojo_location_sample,\n",
    "    get_mixed_ojo_salaries_sample,\n",
    ")\n",
    "from dap_prinz_green_jobs.getters.industry_getters import load_sic\n",
    "from dap_prinz_green_jobs import BUCKET_NAME, logger, PROJECT_DIR\n",
    "from dap_prinz_green_jobs.getters.data_getters import load_s3_data, save_to_s3\n",
    "from dap_prinz_green_jobs.utils.chloropleth_utils import (\n",
    "    get_nuts2polygons_dict,\n",
    "    get_nuts1polygons_dict,\n",
    "    get_nuts3polygons_dict,\n",
    ")\n",
    "from dap_prinz_green_jobs.utils.plotting import configure_plots\n",
    "\n",
    "import altair as alt\n",
    "import geopandas as gpd\n",
    "\n",
    "from datetime import datetime\n",
    "\n",
    "import os"
   ]
  },
  {
   "cell_type": "code",
   "execution_count": 2,
   "id": "8983d011",
   "metadata": {},
   "outputs": [
    {
     "name": "stdout",
     "output_type": "stream",
     "text": [
      "/Users/elizabethgallagher/Code/dap_prinz_green_jobs/outputs/figures/green_jobs_explorer/231213 directory already exists\n"
     ]
    }
   ],
   "source": [
    "# save graphs\n",
    "today = datetime.today().strftime(\"%y%m%d\")\n",
    "graph_dir = str(PROJECT_DIR / f\"outputs/figures/green_jobs_explorer/{today}/\")\n",
    "\n",
    "if not os.path.exists(graph_dir):\n",
    "    print(f\"Creating {graph_dir} directory\")\n",
    "    os.makedirs(graph_dir)\n",
    "else:\n",
    "    print(f\"{graph_dir} directory already exists\")"
   ]
  },
  {
   "cell_type": "markdown",
   "id": "10c2c926",
   "metadata": {},
   "source": [
    "## Load the aggregated by region dataset"
   ]
  },
  {
   "cell_type": "code",
   "execution_count": 3,
   "id": "429d8297",
   "metadata": {},
   "outputs": [
    {
     "name": "stdout",
     "output_type": "stream",
     "text": [
      "2023-12-13 14:47:13,911 - botocore.credentials - INFO - Found credentials in shared credentials file: ~/.aws/credentials\n",
      "2023-12-13 14:47:14,166 - botocore.credentials - INFO - Found credentials in shared credentials file: ~/.aws/credentials\n"
     ]
    }
   ],
   "source": [
    "agg_itl_by = \"itl_1_code\"  # cant do 3 since altair cant deal with this much data\n",
    "date_stamp = \"20231213\"\n",
    "itl_aggregated_data = load_s3_data(\n",
    "    BUCKET_NAME,\n",
    "    f\"outputs/data/ojo_application/extracted_green_measures/analysis/prop_green_skills_per_occ_{agg_itl_by}_{date_stamp}.csv\",\n",
    ")"
   ]
  },
  {
   "cell_type": "code",
   "execution_count": 4,
   "id": "d8c27f48",
   "metadata": {},
   "outputs": [],
   "source": [
    "df1 = pd.DataFrame(itl_aggregated_data[agg_itl_by].unique(), columns=[agg_itl_by])\n",
    "df2 = pd.DataFrame(\n",
    "    itl_aggregated_data[\"SOC_2020_name\"].unique(), columns=[\"SOC_2020_name\"]\n",
    ")\n",
    "\n",
    "blank_df = df1.merge(df2, how=\"cross\")\n",
    "\n",
    "itl_aggregated_data = itl_aggregated_data.merge(blank_df, how=\"outer\")"
   ]
  },
  {
   "cell_type": "markdown",
   "id": "96022e90",
   "metadata": {},
   "source": [
    "## Get additional geometry data needed for chloropleth"
   ]
  },
  {
   "cell_type": "code",
   "execution_count": 5,
   "id": "40877be4",
   "metadata": {},
   "outputs": [],
   "source": [
    "nuts1polygons_dict = get_nuts1polygons_dict()\n",
    "itl1polygons_dict = {k.replace(\"UK\", \"TL\"): v for k, v in nuts1polygons_dict.items()}\n",
    "\n",
    "nuts2polygons_dict = get_nuts2polygons_dict()\n",
    "itl2polygons_dict = {k.replace(\"UK\", \"TL\"): v for k, v in nuts2polygons_dict.items()}\n",
    "\n",
    "nuts3polygons_dict = get_nuts3polygons_dict()\n",
    "itl3polygons_dict = {k.replace(\"UK\", \"TL\"): v for k, v in nuts3polygons_dict.items()}"
   ]
  },
  {
   "cell_type": "code",
   "execution_count": 6,
   "id": "6ce13ae0",
   "metadata": {},
   "outputs": [],
   "source": [
    "if agg_itl_by == \"itl_1_code\":\n",
    "    itl_aggregated_data[\"geometry\"] = itl_aggregated_data[agg_itl_by].apply(\n",
    "        lambda x: itl1polygons_dict.get(x)[0]\n",
    "    )\n",
    "    itl_aggregated_data[\"itl_name\"] = itl_aggregated_data[agg_itl_by].apply(\n",
    "        lambda x: itl1polygons_dict.get(x)[1]\n",
    "    )\n",
    "    region_name = \"ITL 1\"\n",
    "elif agg_itl_by == \"itl_2_code\":\n",
    "    itl_aggregated_data[\"geometry\"] = itl_aggregated_data[agg_itl_by].apply(\n",
    "        lambda x: itl2polygons_dict.get(x, itl1polygons_dict.get(x))[0]\n",
    "    )\n",
    "    itl_aggregated_data[\"itl_name\"] = itl_aggregated_data[agg_itl_by].apply(\n",
    "        lambda x: itl2polygons_dict.get(x, itl1polygons_dict.get(x))[1]\n",
    "    )\n",
    "    region_name = \"ITL 2\"\n",
    "else:\n",
    "    itl_aggregated_data[\"geometry\"] = itl_aggregated_data[agg_itl_by].apply(\n",
    "        lambda x: itl3polygons_dict.get(x, itl1polygons_dict.get(x))[0]\n",
    "    )\n",
    "    itl_aggregated_data[\"itl_name\"] = itl_aggregated_data[agg_itl_by].apply(\n",
    "        lambda x: itl3polygons_dict.get(x, itl1polygons_dict.get(x))[1]\n",
    "    )\n",
    "    region_name = \"ITL 3\"\n",
    "\n",
    "geo_df = gpd.GeoDataFrame(itl_aggregated_data)"
   ]
  },
  {
   "cell_type": "markdown",
   "id": "43494dc4",
   "metadata": {},
   "source": [
    "## Plot"
   ]
  },
  {
   "cell_type": "code",
   "execution_count": 7,
   "id": "364cab61",
   "metadata": {},
   "outputs": [
    {
     "name": "stderr",
     "output_type": "stream",
     "text": [
      "/Users/elizabethgallagher/miniconda3/envs/dap_prinz_green_jobs/lib/python3.8/site-packages/altair/utils/deprecation.py:65: AltairDeprecationWarning: 'add_selection' is deprecated. Use 'add_params' instead.\n",
      "  warnings.warn(message, AltairDeprecationWarning, stacklevel=1)\n"
     ]
    }
   ],
   "source": [
    "select_box = alt.binding_select(\n",
    "    options=list(geo_df[\"SOC_2020_name\"].unique()), name=\"SOC 2020 EXT \"\n",
    ")\n",
    "selection = alt.selection_point(\n",
    "    value=\"Actuaries, economists and statisticians\",\n",
    "    fields=[\"SOC_2020_name\"],\n",
    "    bind=select_box,\n",
    ")\n",
    "\n",
    "regional_measures_plot = (\n",
    "    alt.Chart(geo_df, title=\"Regional proportion of green skills\")\n",
    "    .mark_geoshape(invalid=None)\n",
    "    .encode(\n",
    "        color=alt.condition(\n",
    "            \"isValid(datum.mean_PROP_GREEN)\",\n",
    "            alt.Color(\n",
    "                \"mean_PROP_GREEN:O\",\n",
    "                title=\"\",\n",
    "                scale=alt.Scale(scheme=\"goldgreen\", reverse=False),\n",
    "                legend=None,\n",
    "            ),\n",
    "            alt.value(\"gray\"),\n",
    "        ),\n",
    "        tooltip=[\n",
    "            alt.Tooltip(\"SOC_2020_name\", title=\"SOC_2020_name\"),\n",
    "            alt.Tooltip(\"itl_name\", title=f\"Region ({region_name})\"),\n",
    "            alt.Tooltip(\n",
    "                \"mean_PROP_GREEN\",\n",
    "                title=\"Average proportion of green skills per job advert\",\n",
    "                format=\".3f\",\n",
    "            ),\n",
    "            alt.Tooltip(\"num_job_ads\", title=\"Number of job adverts\"),\n",
    "        ],\n",
    "    )\n",
    "    .add_selection(selection)\n",
    "    .transform_filter(selection)\n",
    ")"
   ]
  },
  {
   "cell_type": "code",
   "execution_count": 8,
   "id": "c2147ed9-eb13-4ab0-b78e-19f03202169f",
   "metadata": {},
   "outputs": [],
   "source": [
    "regional_measures_plot_config = configure_plots(regional_measures_plot, \n",
    "                chart_title='Regional proportion of green skills',\n",
    "                chart_subtitle='Select an occupation and see which regions have the highest proportion of green skills.'\n",
    "                                               ).properties(width=600, height=400)\n"
   ]
  },
  {
   "cell_type": "code",
   "execution_count": 9,
   "id": "29ddacc5",
   "metadata": {},
   "outputs": [],
   "source": [
    "regional_measures_plot_config.save(\n",
    "    f\"{graph_dir}/green_measures_per_occ_{agg_itl_by}_chloropleth.html\"\n",
    ")"
   ]
  },
  {
   "cell_type": "code",
   "execution_count": null,
   "id": "d84e2e61-a2d1-4520-b482-ea84c53ea15b",
   "metadata": {},
   "outputs": [],
   "source": []
  }
 ],
 "metadata": {
  "jupytext": {
   "cell_metadata_filter": "-all",
   "comment_magics": true
  },
  "kernelspec": {
   "display_name": "Python 3 (ipykernel)",
   "language": "python",
   "name": "python3"
  },
  "language_info": {
   "codemirror_mode": {
    "name": "ipython",
    "version": 3
   },
   "file_extension": ".py",
   "mimetype": "text/x-python",
   "name": "python",
   "nbconvert_exporter": "python",
   "pygments_lexer": "ipython3",
   "version": "3.8.18"
  }
 },
 "nbformat": 4,
 "nbformat_minor": 5
}
