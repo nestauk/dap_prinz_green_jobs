{
 "cells": [
  {
   "attachments": {},
   "cell_type": "markdown",
   "metadata": {},
   "source": [
    "This notebook contains initial analysis _between_ measures of skills-, industries- and occupations on a sample of 100k job adverts"
   ]
  },
  {
   "cell_type": "code",
   "execution_count": 63,
   "metadata": {},
   "outputs": [],
   "source": [
    "from dap_prinz_green_jobs.getters.ojo_getters import (\n",
    "    get_extracted_green_measures,\n",
    "    \n",
    ")\n",
    "\n",
    "from dap_prinz_green_jobs.getters.occupation_getters import load_job_title_soc\n",
    "from dap_prinz_green_jobs import BUCKET_NAME, logger, PROJECT_DIR\n",
    "from dap_prinz_green_jobs.utils.bert_vectorizer import BertVectorizer\n",
    "import pandas as pd\n",
    "import numpy as np\n",
    "\n",
    "import altair as alt\n",
    "\n",
    "import umap\n",
    "from sklearn.cluster import KMeans\n",
    "import random"
   ]
  },
  {
   "cell_type": "code",
   "execution_count": 64,
   "metadata": {},
   "outputs": [],
   "source": [
    "#save graphs\n",
    "\n",
    "graph_dir = str(PROJECT_DIR / \"outputs/figures/between_measure_analysis/\")"
   ]
  },
  {
   "attachments": {},
   "cell_type": "markdown",
   "metadata": {},
   "source": [
    "### 0. Load relevant data for analysis\n",
    "Load extracted green measures at the skill-, occupation- and industry-level. Also load job titles to contextualise results."
   ]
  },
  {
   "cell_type": "code",
   "execution_count": 65,
   "metadata": {},
   "outputs": [],
   "source": [
    "# #step 0. Load extracted green measures from s3 \n",
    "\n",
    "green_measures = get_extracted_green_measures()\n",
    "\n",
    "# #step 1. load ojo related data - SOC names for additional context\n",
    "\n",
    "soc_occ_dict = (load_job_title_soc()\n",
    "                .set_index(\"SOC 2020\")\n",
    "                ['SOC 2020 UNIT GROUP DESCRIPTIONS']\n",
    "                .to_dict())"
   ]
  },
  {
   "attachments": {},
   "cell_type": "markdown",
   "metadata": {},
   "source": [
    "### 1. Merge and clean data so green measures are in a df\n",
    "Clean up green measures and produce two dataframes:\n",
    "1. numerical green measures;\n",
    "2. extracted green skills"
   ]
  },
  {
   "cell_type": "code",
   "execution_count": 66,
   "metadata": {},
   "outputs": [],
   "source": [
    "industry_measures_df = pd.DataFrame(green_measures['INDUSTRY MEASURES'])\n",
    "occ_measures_df = pd.DataFrame(green_measures['OCCUPATION MEASURES'])\n",
    "occ_measures_df = pd.merge(occ_measures_df, occ_measures_df['SOC'].apply(pd.Series), left_index=True, right_index=True).drop(columns=['SOC'])\n",
    "occ_measures_df['soc_name'] = occ_measures_df['SOC_2020'].map(soc_occ_dict)\n",
    "\n",
    "#create exploded skills df with skills info\n",
    "green_skills_df = (pd.DataFrame(green_measures['SKILL MEASURES'])\n",
    "                     .explode('skills')\n",
    "                     .reset_index(drop=True))\n",
    "green_skills_df[['skill_label', 'extracted_skill']] = pd.DataFrame(green_skills_df.skills.tolist(), index=green_skills_df.index)\n",
    "green_skills_df[['extracted_skill','extracted_skill_id']] = pd.DataFrame(green_skills_df.extracted_skill.tolist(), index= green_skills_df.index)\n",
    "green_skills_df.drop(columns=['skills'], inplace=True)\n",
    "green_skills_df= pd.merge(green_skills_df, occ_measures_df, left_on='job_id', right_on='job_id')[['job_id', 'soc_name', 'skill_label', 'extracted_skill', 'extracted_skill_id']].rename(columns={'soc_name': 'occupation'})\n",
    "green_skills_df.extracted_skill.replace('', None, inplace=True)\n",
    "\n",
    "#create green skills measures df WITHOUT extracted skills \n",
    "num_green_skills_df = (green_skills_df\n",
    "                     .groupby('job_id')\n",
    "                     .extracted_skill_id\n",
    "                     .agg(['count'])\n",
    "                     .reset_index()\n",
    "                     .rename(columns={'count': 'green_skills_count'}))\n",
    "#add green skill percentage \n",
    "num_skills_df = (green_skills_df\n",
    "                 .groupby('job_id')\n",
    "                 .skill_label\n",
    "                 .count()\n",
    "                 .reset_index()\n",
    "                 .rename(columns={'skill_label': 'skills_count'}))\n",
    "skill_measures_df = pd.merge(num_green_skills_df, num_skills_df, how='left', on='job_id').assign(green_skill_percentage = lambda x: x.green_skills_count/x.skills_count)\n",
    "\n",
    "#merge industry, occ and skills measures WITHOUT extracted skills\n",
    "green_measures_df = pd.merge(industry_measures_df, occ_measures_df, on='job_id')\n",
    "green_measures_df.columns = [i.lower() for i in green_measures_df.columns]\n",
    "green_measures_df_skills = pd.merge(green_measures_df, skill_measures_df, on='job_id', how='left')\n",
    "\n",
    "all_green_measures_df = (green_measures_df_skills\n",
    "    [['job_id', 'soc_2020', 'soc_name', 'industry_ghg_emissions', 'green category', 'green/not green', 'green timeshare', 'skills_count', 'green_skills_count', 'green_skill_percentage']]\n",
    "    .rename(columns={\n",
    "        'job_title_raw': 'job_title',\n",
    "        'company_raw': 'company',\n",
    "        'soc_name': 'occupation',\n",
    "        'job_location_raw': 'job_location',\n",
    "        'green category': 'occupation_green_category',\n",
    "        'green/not green': 'occupation_green_not_green',\n",
    "        'green timeshare': 'occupation_green_timeshare',\n",
    "    }))\n",
    "\n",
    "#drop nas across all measures\n",
    "all_green_measures_df.dropna(subset=['industry_ghg_emissions', 'occupation_green_category', 'occupation_green_not_green', 'occupation_green_timeshare', 'skills_count', 'green_skills_count', 'green_skill_percentage', 'soc_2020'], inplace=True)\n",
    "all_green_measures_df = all_green_measures_df.replace(0, np.NaN)"
   ]
  },
  {
   "cell_type": "code",
   "execution_count": 67,
   "metadata": {},
   "outputs": [],
   "source": [
    "#get occupations for which we have over 50 job adverts for \n",
    "representative_occs = (all_green_measures_df\n",
    ".groupby('occupation')\n",
    ".job_id\n",
    ".count()\n",
    ".sort_values(ascending=False)\n",
    ".where(lambda x: x >= 50)\n",
    ".dropna()\n",
    ".keys()\n",
    ".tolist())\n",
    "\n",
    "all_green_measures_df = all_green_measures_df[all_green_measures_df['occupation'].isin(representative_occs)].reset_index(drop=True)"
   ]
  },
  {
   "attachments": {},
   "cell_type": "markdown",
   "metadata": {},
   "source": [
    "2. Analyse green measures between occupations, industries and skills \n",
    "\n",
    "Look at:\n",
    "- job adverts that have both **high** occupational greenness and **high** % of green skills \n",
    "- job adverts with **low** occupation greenness and **high** % of green skills\n",
    "- job adverts with **low** industry greeness (defined by high ghg emissions) and **high** occupation greenness\n",
    "\n",
    "Plot:\n",
    "- relationships between occupational, skill and industry greenness"
   ]
  },
  {
   "cell_type": "code",
   "execution_count": 68,
   "metadata": {},
   "outputs": [
    {
     "name": "stdout",
     "output_type": "stream",
     "text": [
      "Correlation between the #mean  of green skills requested per occ and the greenness of an occupation:  -0.09990383424687987\n"
     ]
    }
   ],
   "source": [
    "# high occupation greenness (based on green share) and % of green skills\n",
    "mean_green_timeshare_per_occ = (all_green_measures_df\n",
    "                                .groupby('occupation')\n",
    "                                .occupation_green_timeshare\n",
    "                                .agg(['mean'])\n",
    "                                .reset_index()\n",
    "                                .rename(columns={'mean': 'mean_occupation_green_timeshare'}))\n",
    "\n",
    "green_skill_occ = (all_green_measures_df\n",
    ".groupby('occupation')\n",
    ".green_skill_percentage\n",
    ".agg(['mean'])\n",
    ".reset_index()\n",
    ".rename(columns={'mean': 'total_green_skills'})\n",
    ".merge(mean_green_timeshare_per_occ, on='occupation', how='left'))\n",
    "\n",
    "#is there a correlation between the # of green skills requested and the greenness of an occupation?\n",
    "print('Correlation between the #mean  of green skills requested per occ and the greenness of an occupation: ', green_skill_occ['total_green_skills'].corr(green_skill_occ['mean_occupation_green_timeshare']))"
   ]
  },
  {
   "cell_type": "code",
   "execution_count": 69,
   "metadata": {},
   "outputs": [],
   "source": [
    "# low occupation greenness and high % of green skills\n",
    "\n",
    "non_green_occ_green_skills = (all_green_measures_df\n",
    ".query('occupation_green_category == \"Non-Green\"')\n",
    ".groupby('occupation')\n",
    ".green_skill_percentage\n",
    ".agg(['sum'])\n",
    ".reset_index()\n",
    ".rename(columns={'sum': 'total_green_skills'})\n",
    ".sort_values(by='total_green_skills', ascending=False)\n",
    ".query('total_green_skills > 0'))"
   ]
  },
  {
   "cell_type": "code",
   "execution_count": 70,
   "metadata": {},
   "outputs": [
    {
     "data": {
      "text/html": [
       "<div>\n",
       "<style scoped>\n",
       "    .dataframe tbody tr th:only-of-type {\n",
       "        vertical-align: middle;\n",
       "    }\n",
       "\n",
       "    .dataframe tbody tr th {\n",
       "        vertical-align: top;\n",
       "    }\n",
       "\n",
       "    .dataframe thead th {\n",
       "        text-align: right;\n",
       "    }\n",
       "</style>\n",
       "<table border=\"1\" class=\"dataframe\">\n",
       "  <thead>\n",
       "    <tr style=\"text-align: right;\">\n",
       "      <th></th>\n",
       "      <th>occupation</th>\n",
       "      <th>extracted_skill</th>\n",
       "      <th>count</th>\n",
       "    </tr>\n",
       "  </thead>\n",
       "  <tbody>\n",
       "    <tr>\n",
       "      <th>34</th>\n",
       "      <td>Book-keepers, payroll managers and wages clerks</td>\n",
       "      <td>analysing biological data</td>\n",
       "      <td>11</td>\n",
       "    </tr>\n",
       "    <tr>\n",
       "      <th>47</th>\n",
       "      <td>Book-keepers, payroll managers and wages clerks</td>\n",
       "      <td>ensure compliance with environmental regulations</td>\n",
       "      <td>45</td>\n",
       "    </tr>\n",
       "    <tr>\n",
       "      <th>65</th>\n",
       "      <td>Book-keepers, payroll managers and wages clerks</td>\n",
       "      <td>prepare management plans</td>\n",
       "      <td>21</td>\n",
       "    </tr>\n",
       "    <tr>\n",
       "      <th>95</th>\n",
       "      <td>Business and financial project management prof...</td>\n",
       "      <td>ensure compliance with environmental regulations</td>\n",
       "      <td>19</td>\n",
       "    </tr>\n",
       "    <tr>\n",
       "      <th>101</th>\n",
       "      <td>Business and financial project management prof...</td>\n",
       "      <td>give advice on environmental risk management s...</td>\n",
       "      <td>42</td>\n",
       "    </tr>\n",
       "    <tr>\n",
       "      <th>102</th>\n",
       "      <td>Business and financial project management prof...</td>\n",
       "      <td>health and safety regulations</td>\n",
       "      <td>18</td>\n",
       "    </tr>\n",
       "    <tr>\n",
       "      <th>108</th>\n",
       "      <td>Business and financial project management prof...</td>\n",
       "      <td>management plans developing</td>\n",
       "      <td>13</td>\n",
       "    </tr>\n",
       "    <tr>\n",
       "      <th>190</th>\n",
       "      <td>Care workers and home carers</td>\n",
       "      <td>perform cleaning activity in an environmentall...</td>\n",
       "      <td>26</td>\n",
       "    </tr>\n",
       "    <tr>\n",
       "      <th>221</th>\n",
       "      <td>Caretakers</td>\n",
       "      <td>health and safety regulations</td>\n",
       "      <td>16</td>\n",
       "    </tr>\n",
       "    <tr>\n",
       "      <th>226</th>\n",
       "      <td>Caretakers</td>\n",
       "      <td>perform cleaning activity in an environmentall...</td>\n",
       "      <td>13</td>\n",
       "    </tr>\n",
       "    <tr>\n",
       "      <th>302</th>\n",
       "      <td>Chefs</td>\n",
       "      <td>checking industrial equipment</td>\n",
       "      <td>11</td>\n",
       "    </tr>\n",
       "    <tr>\n",
       "      <th>314</th>\n",
       "      <td>Chefs</td>\n",
       "      <td>health and safety regulations</td>\n",
       "      <td>19</td>\n",
       "    </tr>\n",
       "    <tr>\n",
       "      <th>333</th>\n",
       "      <td>Chief executives and senior officials</td>\n",
       "      <td>ensure compliance with environmental regulations</td>\n",
       "      <td>12</td>\n",
       "    </tr>\n",
       "    <tr>\n",
       "      <th>350</th>\n",
       "      <td>Cleaners and domestics</td>\n",
       "      <td>application of health and safety standards</td>\n",
       "      <td>22</td>\n",
       "    </tr>\n",
       "    <tr>\n",
       "      <th>372</th>\n",
       "      <td>Cleaners and domestics</td>\n",
       "      <td>health and safety regulations</td>\n",
       "      <td>31</td>\n",
       "    </tr>\n",
       "    <tr>\n",
       "      <th>377</th>\n",
       "      <td>Cleaners and domestics</td>\n",
       "      <td>perform cleaning activity in an environmentall...</td>\n",
       "      <td>123</td>\n",
       "    </tr>\n",
       "    <tr>\n",
       "      <th>378</th>\n",
       "      <td>Cleaners and domestics</td>\n",
       "      <td>perform environmentally friendly cleaning acti...</td>\n",
       "      <td>22</td>\n",
       "    </tr>\n",
       "    <tr>\n",
       "      <th>380</th>\n",
       "      <td>Cleaners and domestics</td>\n",
       "      <td>performing cleaning activities in an environme...</td>\n",
       "      <td>72</td>\n",
       "    </tr>\n",
       "    <tr>\n",
       "      <th>394</th>\n",
       "      <td>Cleaning and housekeeping managers and supervi...</td>\n",
       "      <td>disposing of chemicals correctly</td>\n",
       "      <td>24</td>\n",
       "    </tr>\n",
       "    <tr>\n",
       "      <th>406</th>\n",
       "      <td>Cleaning and housekeeping managers and supervi...</td>\n",
       "      <td>perform cleaning activity in an environmentall...</td>\n",
       "      <td>13</td>\n",
       "    </tr>\n",
       "    <tr>\n",
       "      <th>522</th>\n",
       "      <td>Early education and childcare assistants</td>\n",
       "      <td>health and safety regulations</td>\n",
       "      <td>13</td>\n",
       "    </tr>\n",
       "    <tr>\n",
       "      <th>576</th>\n",
       "      <td>Elementary process plant occupations n.e.c.</td>\n",
       "      <td>health and safety regulations</td>\n",
       "      <td>17</td>\n",
       "    </tr>\n",
       "    <tr>\n",
       "      <th>714</th>\n",
       "      <td>Financial managers and directors</td>\n",
       "      <td>ensure compliance with environmental regulations</td>\n",
       "      <td>18</td>\n",
       "    </tr>\n",
       "    <tr>\n",
       "      <th>750</th>\n",
       "      <td>Fork-lift truck drivers</td>\n",
       "      <td>application of health and safety standards</td>\n",
       "      <td>11</td>\n",
       "    </tr>\n",
       "    <tr>\n",
       "      <th>765</th>\n",
       "      <td>Fork-lift truck drivers</td>\n",
       "      <td>health and safety regulations</td>\n",
       "      <td>18</td>\n",
       "    </tr>\n",
       "    <tr>\n",
       "      <th>815</th>\n",
       "      <td>Housekeepers and related occupations</td>\n",
       "      <td>perform cleaning activity in an environmentall...</td>\n",
       "      <td>12</td>\n",
       "    </tr>\n",
       "    <tr>\n",
       "      <th>843</th>\n",
       "      <td>Human resource managers and directors</td>\n",
       "      <td>ensure compliance with environmental regulations</td>\n",
       "      <td>11</td>\n",
       "    </tr>\n",
       "    <tr>\n",
       "      <th>904</th>\n",
       "      <td>Human resources and industrial relations officers</td>\n",
       "      <td>ensure compliance with environmental regulations</td>\n",
       "      <td>13</td>\n",
       "    </tr>\n",
       "    <tr>\n",
       "      <th>906</th>\n",
       "      <td>Human resources and industrial relations officers</td>\n",
       "      <td>ensuring compliance with environmental legisla...</td>\n",
       "      <td>13</td>\n",
       "    </tr>\n",
       "    <tr>\n",
       "      <th>1052</th>\n",
       "      <td>Industrial cleaning process occupations</td>\n",
       "      <td>perform cleaning activity in an environmentall...</td>\n",
       "      <td>13</td>\n",
       "    </tr>\n",
       "    <tr>\n",
       "      <th>1054</th>\n",
       "      <td>Industrial cleaning process occupations</td>\n",
       "      <td>performing cleaning activities in an environme...</td>\n",
       "      <td>16</td>\n",
       "    </tr>\n",
       "    <tr>\n",
       "      <th>1105</th>\n",
       "      <td>Kitchen and catering assistants</td>\n",
       "      <td>natural food supplies</td>\n",
       "      <td>14</td>\n",
       "    </tr>\n",
       "    <tr>\n",
       "      <th>1247</th>\n",
       "      <td>Nursing auxiliaries and assistants</td>\n",
       "      <td>perform cleaning activity in an environmentall...</td>\n",
       "      <td>13</td>\n",
       "    </tr>\n",
       "    <tr>\n",
       "      <th>1324</th>\n",
       "      <td>Other administrative occupations n.e.c.</td>\n",
       "      <td>coverage of health and safety standards</td>\n",
       "      <td>21</td>\n",
       "    </tr>\n",
       "    <tr>\n",
       "      <th>1328</th>\n",
       "      <td>Other administrative occupations n.e.c.</td>\n",
       "      <td>ensure compliance with environmental regulations</td>\n",
       "      <td>13</td>\n",
       "    </tr>\n",
       "    <tr>\n",
       "      <th>1339</th>\n",
       "      <td>Other administrative occupations n.e.c.</td>\n",
       "      <td>health and safety regulations</td>\n",
       "      <td>20</td>\n",
       "    </tr>\n",
       "    <tr>\n",
       "      <th>1342</th>\n",
       "      <td>Other administrative occupations n.e.c.</td>\n",
       "      <td>maintaining recycling records</td>\n",
       "      <td>13</td>\n",
       "    </tr>\n",
       "    <tr>\n",
       "      <th>1488</th>\n",
       "      <td>Printing machine assistants</td>\n",
       "      <td>health and safety regulations</td>\n",
       "      <td>26</td>\n",
       "    </tr>\n",
       "    <tr>\n",
       "      <th>1535</th>\n",
       "      <td>Property, housing and estate managers</td>\n",
       "      <td>health and safety regulations</td>\n",
       "      <td>21</td>\n",
       "    </tr>\n",
       "    <tr>\n",
       "      <th>1637</th>\n",
       "      <td>Residential, day and domiciliary care managers...</td>\n",
       "      <td>ensure compliance with environmental regulations</td>\n",
       "      <td>14</td>\n",
       "    </tr>\n",
       "    <tr>\n",
       "      <th>1641</th>\n",
       "      <td>Residential, day and domiciliary care managers...</td>\n",
       "      <td>health and safety regulations</td>\n",
       "      <td>12</td>\n",
       "    </tr>\n",
       "    <tr>\n",
       "      <th>1720</th>\n",
       "      <td>Sales accounts and business development managers</td>\n",
       "      <td>responsible business</td>\n",
       "      <td>15</td>\n",
       "    </tr>\n",
       "    <tr>\n",
       "      <th>1771</th>\n",
       "      <td>Sales and retail assistants</td>\n",
       "      <td>perform cleaning activity in an environmentall...</td>\n",
       "      <td>17</td>\n",
       "    </tr>\n",
       "    <tr>\n",
       "      <th>1909</th>\n",
       "      <td>Stock control clerks and assistants</td>\n",
       "      <td>health and safety regulations</td>\n",
       "      <td>12</td>\n",
       "    </tr>\n",
       "  </tbody>\n",
       "</table>\n",
       "</div>"
      ],
      "text/plain": [
       "                                             occupation  \\\n",
       "34      Book-keepers, payroll managers and wages clerks   \n",
       "47      Book-keepers, payroll managers and wages clerks   \n",
       "65      Book-keepers, payroll managers and wages clerks   \n",
       "95    Business and financial project management prof...   \n",
       "101   Business and financial project management prof...   \n",
       "102   Business and financial project management prof...   \n",
       "108   Business and financial project management prof...   \n",
       "190                        Care workers and home carers   \n",
       "221                                          Caretakers   \n",
       "226                                          Caretakers   \n",
       "302                                               Chefs   \n",
       "314                                               Chefs   \n",
       "333               Chief executives and senior officials   \n",
       "350                              Cleaners and domestics   \n",
       "372                              Cleaners and domestics   \n",
       "377                              Cleaners and domestics   \n",
       "378                              Cleaners and domestics   \n",
       "380                              Cleaners and domestics   \n",
       "394   Cleaning and housekeeping managers and supervi...   \n",
       "406   Cleaning and housekeeping managers and supervi...   \n",
       "522            Early education and childcare assistants   \n",
       "576         Elementary process plant occupations n.e.c.   \n",
       "714                    Financial managers and directors   \n",
       "750                             Fork-lift truck drivers   \n",
       "765                             Fork-lift truck drivers   \n",
       "815                Housekeepers and related occupations   \n",
       "843               Human resource managers and directors   \n",
       "904   Human resources and industrial relations officers   \n",
       "906   Human resources and industrial relations officers   \n",
       "1052            Industrial cleaning process occupations   \n",
       "1054            Industrial cleaning process occupations   \n",
       "1105                    Kitchen and catering assistants   \n",
       "1247                 Nursing auxiliaries and assistants   \n",
       "1324            Other administrative occupations n.e.c.   \n",
       "1328            Other administrative occupations n.e.c.   \n",
       "1339            Other administrative occupations n.e.c.   \n",
       "1342            Other administrative occupations n.e.c.   \n",
       "1488                        Printing machine assistants   \n",
       "1535              Property, housing and estate managers   \n",
       "1637  Residential, day and domiciliary care managers...   \n",
       "1641  Residential, day and domiciliary care managers...   \n",
       "1720   Sales accounts and business development managers   \n",
       "1771                        Sales and retail assistants   \n",
       "1909                Stock control clerks and assistants   \n",
       "\n",
       "                                        extracted_skill  count  \n",
       "34                            analysing biological data     11  \n",
       "47     ensure compliance with environmental regulations     45  \n",
       "65                             prepare management plans     21  \n",
       "95     ensure compliance with environmental regulations     19  \n",
       "101   give advice on environmental risk management s...     42  \n",
       "102                       health and safety regulations     18  \n",
       "108                         management plans developing     13  \n",
       "190   perform cleaning activity in an environmentall...     26  \n",
       "221                       health and safety regulations     16  \n",
       "226   perform cleaning activity in an environmentall...     13  \n",
       "302                       checking industrial equipment     11  \n",
       "314                       health and safety regulations     19  \n",
       "333    ensure compliance with environmental regulations     12  \n",
       "350          application of health and safety standards     22  \n",
       "372                       health and safety regulations     31  \n",
       "377   perform cleaning activity in an environmentall...    123  \n",
       "378   perform environmentally friendly cleaning acti...     22  \n",
       "380   performing cleaning activities in an environme...     72  \n",
       "394                    disposing of chemicals correctly     24  \n",
       "406   perform cleaning activity in an environmentall...     13  \n",
       "522                       health and safety regulations     13  \n",
       "576                       health and safety regulations     17  \n",
       "714    ensure compliance with environmental regulations     18  \n",
       "750          application of health and safety standards     11  \n",
       "765                       health and safety regulations     18  \n",
       "815   perform cleaning activity in an environmentall...     12  \n",
       "843    ensure compliance with environmental regulations     11  \n",
       "904    ensure compliance with environmental regulations     13  \n",
       "906   ensuring compliance with environmental legisla...     13  \n",
       "1052  perform cleaning activity in an environmentall...     13  \n",
       "1054  performing cleaning activities in an environme...     16  \n",
       "1105                              natural food supplies     14  \n",
       "1247  perform cleaning activity in an environmentall...     13  \n",
       "1324            coverage of health and safety standards     21  \n",
       "1328   ensure compliance with environmental regulations     13  \n",
       "1339                      health and safety regulations     20  \n",
       "1342                      maintaining recycling records     13  \n",
       "1488                      health and safety regulations     26  \n",
       "1535                      health and safety regulations     21  \n",
       "1637   ensure compliance with environmental regulations     14  \n",
       "1641                      health and safety regulations     12  \n",
       "1720                               responsible business     15  \n",
       "1771  perform cleaning activity in an environmentall...     17  \n",
       "1909                      health and safety regulations     12  "
      ]
     },
     "execution_count": 70,
     "metadata": {},
     "output_type": "execute_result"
    }
   ],
   "source": [
    "non_green_occ_green_skills_list = non_green_occ_green_skills.occupation.to_list()\n",
    "\n",
    "(green_skills_df\n",
    ".query('occupation in @non_green_occ_green_skills_list')\n",
    ".groupby(['occupation', 'extracted_skill'])\n",
    ".job_id\n",
    ".count()\n",
    ".reset_index()\n",
    ".rename(columns={'job_id': 'count'})\n",
    ".query('count > 10'))\n",
    "\n",
    "#looks like the green skills associated to non-green occupations relate primarily to health and safety regulations "
   ]
  },
  {
   "cell_type": "code",
   "execution_count": 71,
   "metadata": {},
   "outputs": [
    {
     "name": "stdout",
     "output_type": "stream",
     "text": [
      "green occupations with high industry ghg emissions include: ['Construction operatives n.e.c.', 'Managers in storage and warehousing', 'Construction and building trades supervisors', 'Design occupations n.e.c.', 'Laboratory technicians', 'Large goods vehicle drivers', 'Production managers and directors in construction', 'Production and process engineers', 'Marketing, sales and advertising directors', 'Public services associate professionals']\n"
     ]
    }
   ],
   "source": [
    "# low industry greeness aka high ghg emissions and high occupation greenness\n",
    "\n",
    "low_ind_high_occ_green = (all_green_measures_df\n",
    ".query('occupation_green_not_green == \"Green\"')\n",
    ".groupby('occupation')\n",
    ".industry_ghg_emissions\n",
    ".agg(['mean'])\n",
    ".reset_index()\n",
    ".rename(columns={'mean': 'mean_industry_ghg_emissions'})\n",
    ".sort_values(by='mean_industry_ghg_emissions', ascending=False))[:10]\n",
    "\n",
    "print(f'green occupations with high industry ghg emissions include: {low_ind_high_occ_green.occupation.to_list()}')"
   ]
  },
  {
   "cell_type": "code",
   "execution_count": 72,
   "metadata": {},
   "outputs": [],
   "source": [
    "#generate a dataframe with summed green measures per occupation\n",
    "\n",
    "all_green_measures_df_occ = all_green_measures_df.groupby('occupation').aggregate({'industry_ghg_emissions': ['mean'], 'occupation_green_timeshare': ['mean'], 'green_skills_count': ['mean'], 'green_skill_percentage': ['sum']}).reset_index()\n",
    "all_green_measures_df_occ.columns = all_green_measures_df_occ.columns.levels[0]\n",
    "all_green_measures_df_occ.columns  = ['occupation', 'industry_ghg_emissions_mean', 'occupation_green_timeshare_mean', 'green_skills_count_mean', 'green_skill_percentage_sum']\n",
    "\n",
    "#pick majority occupation greenness\n",
    "occ_green_cat = all_green_measures_df.groupby('occupation').occupation_green_category.agg(\n",
    "    lambda x: pd.Series.mode(x)[0])\n",
    "#pick majority green/non-green occupation\n",
    "occ_green_nongreen = all_green_measures_df.groupby('occupation').occupation_green_not_green.agg(\n",
    "    lambda x: pd.Series.mode(x)[0])\n",
    "all_green_measures_df_occ['occ_green_non_green'] = all_green_measures_df_occ.occupation.map(occ_green_nongreen)\n",
    "all_green_measures_df_occ['occ_green_category'] = all_green_measures_df_occ.occupation.map(occ_green_cat)"
   ]
  },
  {
   "cell_type": "code",
   "execution_count": 73,
   "metadata": {},
   "outputs": [],
   "source": [
    "# industry greenness vs. occupational greenness \n",
    "\n",
    "ind_occ_greeness = alt.Chart(all_green_measures_df_occ).mark_circle(size=60).encode(\n",
    "    x=alt.X('occupation_green_timeshare_mean', scale=alt.Scale(zero=False)),\n",
    "    y=alt.Y('industry_ghg_emissions_mean', scale=alt.Scale(zero=False)),\n",
    "    color=alt.Color('occ_green_category',\n",
    "                   scale=alt.Scale(\n",
    "            domain=['Non-Green', 'Green Enhanced Skills', 'Green New & Emerging', 'Green Increased Demand'],\n",
    "            range=['red', '#013220', 'green', '#90ee90'])),\n",
    "    tooltip=['occupation', 'green_skills_count_mean', 'green_skill_percentage_sum']\n",
    ").interactive()\n",
    "\n",
    "#save graph\n",
    "ind_occ_greeness.save(f'{graph_dir}/ind_occ_greeness.html')"
   ]
  },
  {
   "cell_type": "code",
   "execution_count": 46,
   "metadata": {},
   "outputs": [],
   "source": [
    "# industry greenness vs. mean # of green skills requested\n",
    "\n",
    "ind_skills_greeness = alt.Chart(all_green_measures_df_occ).mark_circle(size=60).encode(\n",
    "    x=alt.X('green_skill_percentage_sum', scale=alt.Scale(zero=False)),\n",
    "    y=alt.Y('industry_ghg_emissions_mean', scale=alt.Scale(zero=False)),\n",
    "    color=alt.Color('occ_green_non_green',\n",
    "                   scale=alt.Scale(\n",
    "            domain=['Non-green', 'Green'],\n",
    "            range=['red', 'green'])),\n",
    "    tooltip=['occupation', 'green_skills_count_mean', 'green_skill_percentage_sum']\n",
    ").interactive()\n",
    "\n",
    "ind_skills_greeness.save(f'{graph_dir}/ind_skills_greeness.html')\n"
   ]
  },
  {
   "cell_type": "code",
   "execution_count": 47,
   "metadata": {},
   "outputs": [
    {
     "name": "stdout",
     "output_type": "stream",
     "text": [
      "greening occupations:\n"
     ]
    },
    {
     "data": {
      "text/plain": [
       "194                                       Welding trades\n",
       "23                                   Chartered surveyors\n",
       "121             Nursery education teaching professionals\n",
       "177                               Solicitors and lawyers\n",
       "38                             Customer service managers\n",
       "22     Chartered architectural technologists, plannin...\n",
       "102                           Legal professionals n.e.c.\n",
       "55                                  Electrical engineers\n",
       "96                                Insurance underwriters\n",
       "101                        Legal associate professionals\n",
       "Name: occupation, dtype: object"
      ]
     },
     "execution_count": 47,
     "metadata": {},
     "output_type": "execute_result"
    }
   ],
   "source": [
    "print('greening occupations:')\n",
    "(all_green_measures_df_occ\n",
    " .dropna(subset=['industry_ghg_emissions_mean', 'green_skill_percentage_sum'])\n",
    " .sort_values(['industry_ghg_emissions_mean', 'green_skill_percentage_sum'], ascending=[True, False])\n",
    " [:10]\n",
    " .occupation)"
   ]
  },
  {
   "cell_type": "code",
   "execution_count": 48,
   "metadata": {},
   "outputs": [
    {
     "name": "stdout",
     "output_type": "stream",
     "text": [
      "green occupations based on industry + green skills:\n"
     ]
    },
    {
     "data": {
      "text/plain": [
       "29                                Cleaners and domestics\n",
       "192                                 Warehouse operatives\n",
       "78               Health and safety managers and officers\n",
       "119     Metal working production and maintenance fitters\n",
       "141                          Printing machine assistants\n",
       "64                             Environment professionals\n",
       "6        Book-keepers, payroll managers and wages clerks\n",
       "94               Industrial cleaning process occupations\n",
       "138    Plumbers & heating and ventilating installers ...\n",
       "152       Quality assurance and regulatory professionals\n",
       "Name: occupation, dtype: object"
      ]
     },
     "execution_count": 48,
     "metadata": {},
     "output_type": "execute_result"
    }
   ],
   "source": [
    "print('green occupations based on industry + green skills:')\n",
    "(all_green_measures_df_occ\n",
    " .dropna(subset=['industry_ghg_emissions_mean', 'green_skill_percentage_sum'])\n",
    " .sort_values(['green_skill_percentage_sum', 'industry_ghg_emissions_mean'], ascending=[False, True])\n",
    " [:10]\n",
    " .occupation)"
   ]
  },
  {
   "cell_type": "code",
   "execution_count": 49,
   "metadata": {},
   "outputs": [
    {
     "name": "stdout",
     "output_type": "stream",
     "text": [
      "brown occupations based on industry + green skills:\n"
     ]
    },
    {
     "data": {
      "text/plain": [
       "135    Pharmacy and optical dispensing assistants\n",
       "45                  Delivery drivers and couriers\n",
       "136                              Physiotherapists\n",
       "131        Packers, bottlers, canners and fillers\n",
       "116                          Mental health nurses\n",
       "134                                   Pharmacists\n",
       "125                            Office supervisors\n",
       "35                 Construction operatives n.e.c.\n",
       "165                   Sales and retail assistants\n",
       "109           Managers in storage and warehousing\n",
       "Name: occupation, dtype: object"
      ]
     },
     "execution_count": 49,
     "metadata": {},
     "output_type": "execute_result"
    }
   ],
   "source": [
    "print('brown occupations based on industry + green skills:')\n",
    "(all_green_measures_df_occ\n",
    " .dropna(subset=['industry_ghg_emissions_mean', 'green_skill_percentage_sum'])\n",
    " .sort_values(['industry_ghg_emissions_mean', 'green_skill_percentage_sum'], ascending=[False, False])\n",
    " [:10]\n",
    " .occupation)"
   ]
  },
  {
   "cell_type": "code",
   "execution_count": 50,
   "metadata": {},
   "outputs": [],
   "source": [
    "# occupational greenness vs. # of green skills requested\n",
    "\n",
    "occ_skill_greeness = alt.Chart(all_green_measures_df_occ).mark_circle(size=60).encode(\n",
    "    x=alt.X('green_skill_percentage_sum', scale=alt.Scale(zero=False)),\n",
    "    y=alt.Y('occupation_green_timeshare_mean', scale=alt.Scale(zero=False)),\n",
    "    color=alt.Color('occ_green_non_green',\n",
    "                   scale=alt.Scale(\n",
    "            domain=['Non-green', 'Green'],\n",
    "            range=['red', 'green'])),\n",
    "    tooltip=['occupation', 'green_skills_count_mean']\n",
    ").interactive()\n",
    "\n",
    "occ_skill_greeness.save(f'{graph_dir}/occ_skill_greeness.html')\n",
    "\n",
    "#list of \"new\" green skills\n",
    "\n",
    "#list of \"new\" green occupations"
   ]
  },
  {
   "cell_type": "code",
   "execution_count": 51,
   "metadata": {},
   "outputs": [
    {
     "name": "stdout",
     "output_type": "stream",
     "text": [
      "Occuptations with high % of green skills and low occupation greenness (based on green timeshare):\n"
     ]
    },
    {
     "data": {
      "text/plain": [
       "['Warehouse operatives',\n",
       " 'Health and safety managers and officers',\n",
       " 'Metal working production and maintenance fitters',\n",
       " 'Environment professionals',\n",
       " 'Industrial cleaning process occupations',\n",
       " 'Plumbers & heating and ventilating installers and repairers',\n",
       " 'Quality assurance and regulatory professionals',\n",
       " 'Business and financial project management professionals',\n",
       " 'Sales accounts and business development managers',\n",
       " 'Electricians and electrical fitters']"
      ]
     },
     "execution_count": 51,
     "metadata": {},
     "output_type": "execute_result"
    }
   ],
   "source": [
    "#new green occupations (high % of green skills, low occ greeness)\n",
    "print('Occuptations with high % of green skills and low occupation greenness (based on green timeshare):')\n",
    "(all_green_measures_df_occ\n",
    ".dropna(subset=['green_skill_percentage_sum', 'occupation_green_timeshare_mean'])\n",
    "#sort values by high green skills percentage and low occupation greenness\n",
    ".sort_values(['green_skill_percentage_sum', 'occupation_green_timeshare_mean'], ascending=[False, True])\n",
    "[:10]\n",
    ").occupation.to_list()"
   ]
  },
  {
   "cell_type": "code",
   "execution_count": 52,
   "metadata": {},
   "outputs": [
    {
     "name": "stdout",
     "output_type": "stream",
     "text": [
      "occupations with high % of green skills and low occupation greenness (based on green timeshare):\n",
      "['Authors, writers and translators', 'Communication operators', 'Local government administrative occupations', 'Brokers', 'Other health professionals n.e.c.', 'Education managers ', 'Electrical and electronic trades n.e.c.', 'Estate agents and auctioneers', 'Sales related occupations n.e.c.', 'Other vocational and industrial trainers']\n"
     ]
    }
   ],
   "source": [
    "#new green occupations (high % of green skills, low occ greeness)\n",
    "print('occupations with high % of green skills and low occupation greenness (based on green timeshare):')\n",
    "high_green_skills_low_occ_list = (all_green_measures_df_occ\n",
    ".dropna(subset=['green_skill_percentage_sum', 'occupation_green_timeshare_mean'])\n",
    "#sort values by high green skills percentage and low occupation greenness\n",
    ".sort_values(['green_skill_percentage_sum', 'occupation_green_timeshare_mean'], ascending=[True, False])\n",
    "[:10]\n",
    ").occupation.to_list()\n",
    "print(high_green_skills_low_occ_list)"
   ]
  },
  {
   "cell_type": "code",
   "execution_count": 53,
   "metadata": {},
   "outputs": [
    {
     "name": "stderr",
     "output_type": "stream",
     "text": [
      "\u001b[94;1;1m2023-06-01 17:50:35,436 - SkillsExtractor - INFO - Getting embeddings for 15317 texts ... (bert_vectorizer.py:35)\u001b[0m\n",
      "\u001b[94;1;1m2023-06-01 17:50:35,436 - SkillsExtractor - INFO - .. with multiprocessing (bert_vectorizer.py:38)\u001b[0m\n",
      "\u001b[94;1;1m2023-06-01 17:51:26,377 - SkillsExtractor - INFO - Took 50.94004511833191 seconds (bert_vectorizer.py:46)\u001b[0m\n"
     ]
    }
   ],
   "source": [
    "new_green_skills = list(set(green_skills_df[(green_skills_df.occupation.isin(high_green_skills_low_occ_list)) & (green_skills_df.extracted_skill.isna())].skill_label))\n",
    "\n",
    "bert_model = BertVectorizer().fit()\n",
    "new_green_skills_embeds = bert_model.transform(new_green_skills)"
   ]
  },
  {
   "cell_type": "code",
   "execution_count": 54,
   "metadata": {},
   "outputs": [],
   "source": [
    "#reduce embeds \n",
    "reducer = umap.UMAP()\n",
    "embedding = reducer.fit_transform(new_green_skills_embeds)\n",
    "kmeans = KMeans(n_clusters=30, random_state=0).fit(embedding)\n",
    "labels = kmeans.labels_"
   ]
  },
  {
   "cell_type": "code",
   "execution_count": 26,
   "metadata": {},
   "outputs": [],
   "source": [
    "new_skill_cluster_df = pd.DataFrame({'skill': new_green_skills, 'cluster_number': labels, 'x': embedding[:, 0], 'y': embedding[:, 1]})"
   ]
  },
  {
   "cell_type": "code",
   "execution_count": 56,
   "metadata": {},
   "outputs": [],
   "source": [
    "alt.data_transformers.disable_max_rows()\n",
    "\n",
    "new_green_skills = alt.Chart(new_skill_cluster_df, title='new \"green\" skill groups based on high green occupation greenness and low % of green skills requested').mark_circle(size=60).encode(\n",
    "    x='x',\n",
    "    y='y',\n",
    "    color=alt.Color('cluster_number', legend=None),\n",
    "    tooltip=['skill', 'cluster_number']\n",
    ").interactive()\n",
    "\n",
    "new_green_skills\n",
    "\n",
    "new_green_skills.save(f'{graph_dir}/new_green_skills.html')"
   ]
  },
  {
   "cell_type": "code",
   "execution_count": 57,
   "metadata": {},
   "outputs": [],
   "source": [
    "green_occs = list(all_green_measures_df_occ[all_green_measures_df_occ['occ_green_non_green'] == 'Green'].occupation)"
   ]
  },
  {
   "cell_type": "code",
   "execution_count": 58,
   "metadata": {},
   "outputs": [
    {
     "name": "stderr",
     "output_type": "stream",
     "text": [
      "\u001b[94;1;1m2023-06-01 17:52:26,659 - SkillsExtractor - INFO - Getting embeddings for 3779 texts ... (bert_vectorizer.py:35)\u001b[0m\n",
      "\u001b[94;1;1m2023-06-01 17:52:26,660 - SkillsExtractor - INFO - .. with multiprocessing (bert_vectorizer.py:38)\u001b[0m\n",
      "\u001b[94;1;1m2023-06-01 17:52:48,892 - SkillsExtractor - INFO - Took 22.231809854507446 seconds (bert_vectorizer.py:46)\u001b[0m\n"
     ]
    }
   ],
   "source": [
    "# #reduce embeds \n",
    "random.seed(50)\n",
    "green_occ = random.choice(green_occs)\n",
    "\n",
    "new_green_skills = list(set(green_skills_df[(green_skills_df.occupation == green_occ) & (green_skills_df.extracted_skill.isna())].skill_label))\n",
    "new_green_skills_embeds = bert_model.transform(new_green_skills)\n",
    "embedding = reducer.fit_transform(new_green_skills_embeds)\n",
    "kmeans = KMeans(n_clusters=15, random_state=0).fit(embedding)\n",
    "labels = kmeans.labels_\n",
    "\n",
    "new_skill_cluster_df = pd.DataFrame({'skill': new_green_skills, 'cluster_number': labels, 'x': embedding[:, 0], 'y': embedding[:, 1]})\n",
    "\n",
    "alt.data_transformers.disable_max_rows()\n",
    "\n",
    "occ1_new_skills = alt.Chart(new_skill_cluster_df, title=f'new \"green\" skill groups based on green \"{green_occ}\"occupation').mark_circle(size=60).encode(\n",
    "    x='x',\n",
    "    y='y',\n",
    "    color=alt.Color('cluster_number', legend=None),\n",
    "    tooltip=['skill', 'cluster_number']\n",
    ").interactive()\n",
    "\n",
    "occ1_new_skills.save(f'{graph_dir}/occ1_new_skills.html')"
   ]
  },
  {
   "cell_type": "code",
   "execution_count": 60,
   "metadata": {},
   "outputs": [
    {
     "name": "stderr",
     "output_type": "stream",
     "text": [
      "\u001b[94;1;1m2023-06-01 17:53:31,955 - SkillsExtractor - INFO - Getting embeddings for 722 texts ... (bert_vectorizer.py:35)\u001b[0m\n",
      "\u001b[94;1;1m2023-06-01 17:53:31,955 - SkillsExtractor - INFO - .. with multiprocessing (bert_vectorizer.py:38)\u001b[0m\n",
      "\u001b[94;1;1m2023-06-01 17:53:44,354 - SkillsExtractor - INFO - Took 12.398320198059082 seconds (bert_vectorizer.py:46)\u001b[0m\n"
     ]
    }
   ],
   "source": [
    "#reduce embeds \n",
    "random.seed(57)\n",
    "green_occ = random.choice(green_occs)\n",
    "\n",
    "new_green_skills = list(set(green_skills_df[(green_skills_df.occupation == green_occ) & (green_skills_df.extracted_skill.isna())].skill_label))\n",
    "new_green_skills_embeds = bert_model.transform(new_green_skills)\n",
    "embedding = reducer.fit_transform(new_green_skills_embeds)\n",
    "kmeans = KMeans(n_clusters=10, random_state=0).fit(embedding)\n",
    "labels = kmeans.labels_\n",
    "\n",
    "new_skill_cluster_df = pd.DataFrame({'skill': new_green_skills, 'cluster_number': labels, 'x': embedding[:, 0], 'y': embedding[:, 1]})\n",
    "\n",
    "alt.data_transformers.disable_max_rows()\n",
    "\n",
    "occ2_new_skills = alt.Chart(new_skill_cluster_df, title=f'new \"green\" skill groups based on green \"{green_occ}\"occupation').mark_circle(size=60).encode(\n",
    "    x='x',\n",
    "    y='y',\n",
    "    color=alt.Color('cluster_number', legend=None),\n",
    "    tooltip=['skill', 'cluster_number']\n",
    ").interactive()\n",
    "\n",
    "occ2_new_skills.save(f'{graph_dir}/occ2_new_skills.html')"
   ]
  },
  {
   "cell_type": "code",
   "execution_count": 61,
   "metadata": {},
   "outputs": [
    {
     "name": "stderr",
     "output_type": "stream",
     "text": [
      "\u001b[94;1;1m2023-06-01 17:53:46,309 - SkillsExtractor - INFO - Getting embeddings for 1494 texts ... (bert_vectorizer.py:35)\u001b[0m\n",
      "\u001b[94;1;1m2023-06-01 17:53:46,310 - SkillsExtractor - INFO - .. with multiprocessing (bert_vectorizer.py:38)\u001b[0m\n",
      "\u001b[94;1;1m2023-06-01 17:54:00,138 - SkillsExtractor - INFO - Took 13.828178882598877 seconds (bert_vectorizer.py:46)\u001b[0m\n"
     ]
    }
   ],
   "source": [
    "#reduce embeds \n",
    "random.seed(12)\n",
    "green_occ = random.choice(green_occs)\n",
    "\n",
    "new_green_skills = list(set(green_skills_df[(green_skills_df.occupation == green_occ) & (green_skills_df.extracted_skill.isna())].skill_label))\n",
    "new_green_skills_embeds = bert_model.transform(new_green_skills)\n",
    "embedding = reducer.fit_transform(new_green_skills_embeds)\n",
    "kmeans = KMeans(n_clusters=10, random_state=0).fit(embedding)\n",
    "labels = kmeans.labels_\n",
    "\n",
    "new_skill_cluster_df = pd.DataFrame({'skill': new_green_skills, 'cluster_number': labels, 'x': embedding[:, 0], 'y': embedding[:, 1]})\n",
    "\n",
    "alt.data_transformers.disable_max_rows()\n",
    "\n",
    "occ3_new_skills = alt.Chart(new_skill_cluster_df, title=f'new \"green\" skill groups based on green \"{green_occ}\"occupation').mark_circle(size=60).encode(\n",
    "    x='x',\n",
    "    y='y',\n",
    "    color=alt.Color('cluster_number', legend=None),\n",
    "    tooltip=['skill', 'cluster_number']\n",
    ").interactive()\n",
    "\n",
    "occ3_new_skills.save(f'{graph_dir}/occ3_new_skills.html')"
   ]
  },
  {
   "attachments": {},
   "cell_type": "markdown",
   "metadata": {},
   "source": [
    "### Next steps\n",
    "\n",
    "1. **Skills improvement**: looks like the green skill 'health and safety regulation' heavily skews skills-based results. We will also need to develop a method to determine if unmatched skill clusters are indeed green, even if the occupation is considered green. \n",
    "\n",
    "2. **Better sample**: given how few job adverts contain 'green' skills, should we engineer a sample that artificially would contain more green skills?"
   ]
  }
 ],
 "metadata": {
  "kernelspec": {
   "display_name": "dap_prinz_green_jobs",
   "language": "python",
   "name": "python3"
  },
  "language_info": {
   "codemirror_mode": {
    "name": "ipython",
    "version": 3
   },
   "file_extension": ".py",
   "mimetype": "text/x-python",
   "name": "python",
   "nbconvert_exporter": "python",
   "pygments_lexer": "ipython3",
   "version": "3.8.16"
  },
  "orig_nbformat": 4,
  "vscode": {
   "interpreter": {
    "hash": "1165a7969a9687ff40a9a1cba7fbc27daccde7acf9ca503596a533568b05dd6d"
   }
  }
 },
 "nbformat": 4,
 "nbformat_minor": 2
}
