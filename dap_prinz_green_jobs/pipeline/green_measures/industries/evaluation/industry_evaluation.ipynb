{
 "cells": [
  {
   "attachments": {},
   "cell_type": "markdown",
   "metadata": {},
   "source": [
    "### 📓👋 Welcome to the industries evaluation notebook.\n",
    "\n",
    "The key aim of the notebook is to evaluate the performance of the SICMapper and the IndustryMeasures overall. It is split into the following sections:\n",
    "\n",
    "**0️⃣ Null analysis:** On the full dataset of extracted industries measures, what proportion are null? This includes null analysis of SIC codes in addition to industries measures. \n",
    "\n",
    "**🌊 Threshold analysis:** On the full dataset of extracted industries measures, what is the optimal threshold for the two SIC mapping approaches? This includes a thresholding analysis of the `closest SIC` and `majority SIC` approaches to better understand completeness.\n",
    "\n",
    "**🤔 Labelled Evaluation:** This section is split into two subsections: \n",
    "- one that explores a labelled dataset of job ads to explore the effect of different thresholds on accuracy. \n",
    "- one that explores a different, labelled dataset of job ads (incl. SIC codes mapped via companies house) to explore overall accuracy. \n"
   ]
  },
  {
   "cell_type": "code",
   "execution_count": 611,
   "metadata": {},
   "outputs": [],
   "source": [
    "from dap_prinz_green_jobs.getters.data_getters import load_s3_data\n",
    "\n",
    "from dap_prinz_green_jobs import BUCKET_NAME, PROJECT_DIR\n",
    "\n",
    "import pandas as pd\n",
    "import altair as alt\n",
    "import numpy as np\n",
    "import os \n",
    "\n",
    "from datetime import datetime"
   ]
  },
  {
   "cell_type": "code",
   "execution_count": 612,
   "metadata": {},
   "outputs": [
    {
     "name": "stdout",
     "output_type": "stream",
     "text": [
      "/Users/india.kerlenesta/Projects/dap_green_jobs/dap_prinz_green_jobs/outputs/figures/evaluation/industries/231011 directory already exists\n"
     ]
    }
   ],
   "source": [
    "# global variables, settings, create directory for the whole notebook\n",
    "\n",
    "alt.data_transformers.disable_max_rows()\n",
    "\n",
    "today = datetime.today().strftime('%y%m%d')\n",
    "graph_dir = str(PROJECT_DIR / f\"outputs/figures/evaluation/industries/{today}/\")\n",
    "\n",
    "if not os.path.exists(graph_dir):\n",
    "    print(f\"Creating {graph_dir} directory\")\n",
    "    os.makedirs(graph_dir)\n",
    "else:\n",
    "    print(f\"{graph_dir} directory already exists\")"
   ]
  },
  {
   "attachments": {},
   "cell_type": "markdown",
   "metadata": {},
   "source": [
    "### 💾 0. Load data\n",
    "- full dataset of SIC codes\n",
    "- evaluation dataset of labelled SIC mappings"
   ]
  },
  {
   "cell_type": "code",
   "execution_count": 613,
   "metadata": {},
   "outputs": [
    {
     "name": "stdout",
     "output_type": "stream",
     "text": [
      "loading full dataset of SIC codes...\n",
      "loading labelled threshold evaluation dataset...\n",
      "loading overall labelled evaluation dataset...\n"
     ]
    }
   ],
   "source": [
    "print('loading full dataset of SIC codes...')\n",
    "production = \"True\"\n",
    "config=\"base\"\n",
    "date_stamp = \"20231007\"\n",
    "\n",
    "green_inds_outputs = load_s3_data(\n",
    "        BUCKET_NAME,\n",
    "        f\"outputs/data/ojo_application/extracted_green_measures/{date_stamp}/ojo_sample_industry_green_measures_production_{production}_{config}.json\",\n",
    "    )\n",
    "\n",
    "inds_measures_df = pd.DataFrame.from_dict(green_inds_outputs, orient='index').reset_index().rename(columns={'index':'id'})\n",
    "\n",
    "print('loading labelled threshold evaluation dataset...')\n",
    "threshold_evaluation_df = pd.read_csv('s3://prinz-green-jobs/outputs/data/labelled_job_adverts/evaluation/industries/231010_threshold_eval_df_ojo_sicmapper_labelled.csv')\n",
    "\n",
    "print('loading overall labelled evaluation dataset...')\n",
    "labelled_evaluation_df = pd.read_csv('s3://prinz-green-jobs/outputs/data/labelled_job_adverts/evaluation/industries/231010_evaluation_df_labelled.csv')"
   ]
  },
  {
   "attachments": {},
   "cell_type": "markdown",
   "metadata": {},
   "source": [
    "### 0️⃣ 1. Null analysis\n",
    "\n",
    "This section explores the null values in the dataset (incl. industry measures) without doing any additional thresholding."
   ]
  },
  {
   "cell_type": "code",
   "execution_count": 614,
   "metadata": {},
   "outputs": [
    {
     "name": "stdout",
     "output_type": "stream",
     "text": [
      "saving charts to html...\n",
      "done!\n"
     ]
    }
   ],
   "source": [
    "#% of SIC codes missing\n",
    "inds_measures_df_nona = inds_measures_df[inds_measures_df['SIC'].notna()]\n",
    "\n",
    "sic_na_df = pd.DataFrame({'no': inds_measures_df['SIC'].isna().sum(), \n",
    "                          'yes': inds_measures_df_nona.shape[0]}, index=[0]).T.rename(columns={0:'count'}).reset_index().rename(columns={'index':'SIC'})\n",
    "\n",
    "#make bar chart all add up to 100%\n",
    "sic_count_bar = (alt.Chart(sic_na_df).mark_bar().encode(\n",
    "    y=alt.Y('SIC', sort='-y', title='SIC code present'),\n",
    "    #add light blue to bars to add up to the full count of job ads\n",
    "    x=alt.X('count', title=\"Number of job ads\"),\n",
    "    color=alt.Color('SIC', legend=None))).properties(\n",
    "    title={\n",
    "      \"text\": [\"Percentage (%) of SIC codes missing\"], \n",
    "      \"subtitle\": [f\"{round(((len(inds_measures_df_nona)/len(inds_measures_df))*100),2)}% of job adverts have a SIC code associated to them.\", \"\"],\n",
    "      \"color\": \"black\",\n",
    "      \"subtitleColor\": \"black\"\n",
    "    }\n",
    ")\n",
    "\n",
    "# SIC code matching method\n",
    "sic_method_count = (inds_measures_df_nona\n",
    "                    ['SIC_method']\n",
    "                    .value_counts()\n",
    "                    .reset_index()\n",
    "                    .rename(columns={'index':'SIC_method','SIC_method':'count'}))\n",
    "\n",
    "\n",
    "#make bar chart all add up to 100%\n",
    "sic_method_count_bar = (alt.Chart(sic_method_count).mark_bar().encode(\n",
    "    y=alt.Y('SIC_method', sort='y', title='Matching method'),\n",
    "    #add light blue to bars to add up to the full count of job ads\n",
    "    x=alt.X('count', \n",
    "            title=\"Number of job ads\", \n",
    "            ))).properties(title=\"SIC matching method\")\n",
    "\n",
    "#calcualte the % of missing values per column\n",
    "#drop SIC confidence column as it is not relevant for this analysis\n",
    "inds_measures_df_no_conf = inds_measures_df.drop(columns=['SIC_confidence'])\n",
    "na_df = (inds_measures_df_no_conf\n",
    "         .isna()\n",
    "         .mean()\n",
    "         .round(4) * 100).reset_index().rename(columns={'index':'column',0:'percent_missing'})\n",
    "\n",
    "missing_chart = alt.Chart(na_df).mark_bar().encode(\n",
    "    x=alt.X('percent_missing', title='% Missing'),\n",
    "    #change the label limit to show all columns\n",
    "    y=alt.Y('column', sort='-x', title='', axis=alt.Axis(labelLimit=1000)),\n",
    "    #color condition if % missing is greater than 20% then color red\n",
    "    color=alt.condition(alt.datum.percent_missing > 18, alt.value('red'), alt.value('blue'))).properties(\n",
    "    title={\n",
    "      \"text\": [\"Percentage (%) of missing values by column\"], \n",
    "      \"subtitle\": [\"columns in red have more than 18% in missing values\", \"\"],\n",
    "      \"color\": \"black\",\n",
    "      \"subtitleColor\": \"black\"\n",
    "    }\n",
    ")\n",
    "\n",
    "null_analysis_charts = ((sic_method_count_bar & sic_count_bar)| missing_chart).properties(title=\"NA analysis: No additional thresholds applied\")\n",
    "\n",
    "print('saving charts to html...')\n",
    "null_analysis_charts.save(f\"{graph_dir}/null_analysis_charts.html\")\n",
    "print('done!')"
   ]
  },
  {
   "attachments": {},
   "cell_type": "markdown",
   "metadata": {},
   "source": [
    "### 🌊  2. Thresholding Analysis\n",
    "\n",
    "The `IndustryMeasures` class maps to a SIC code based on the following default thresholds:\n",
    "\n",
    "1. **`closest SIC`**: **0.5**\n",
    "2. **`majority SIC`**: **0.3**\n",
    "\n",
    "This section produces graphs that analyse the effect of thresholding on completeness. "
   ]
  },
  {
   "attachments": {},
   "cell_type": "markdown",
   "metadata": {},
   "source": [
    "##### Generate graphs on the complete dataset to investigate the effect of thresholding on completeness"
   ]
  },
  {
   "cell_type": "code",
   "execution_count": 615,
   "metadata": {},
   "outputs": [
    {
     "name": "stdout",
     "output_type": "stream",
     "text": [
      "saving charts to html...\n",
      "done!\n"
     ]
    }
   ],
   "source": [
    "#drop rows where the SIC method is \"companies house\" i.e. there is no SIC confidence\n",
    "#score associated to the SIC code\n",
    "inds_measures_df_nona_noncomp = inds_measures_df_nona.query('SIC_method != \"companies house\"')\n",
    "\n",
    "#plot the overall distribution of SIC confidence scores for the SIC codes\n",
    "#generated by the \"closest distance\" method\n",
    "map_type = \"closest distance\"\n",
    "closest_dist_df = inds_measures_df_nona_noncomp.query(f'SIC_method == \"{map_type}\"')\n",
    "closet_dist_dens = alt.Chart(closest_dist_df).transform_density(\n",
    "    'SIC_confidence',\n",
    "    as_=['SIC_confidence', 'density'],).mark_area().encode(\n",
    "    x=alt.X(\"SIC_confidence:Q\", title=\"confidence score\"),\n",
    "    y='density:Q',\n",
    "    color=alt.value('purple'),\n",
    ").properties(title=f\"'{map_type}'\")\n",
    "    \n",
    "#plot the overall distribution of SIC confidence scores for the SIC codes\n",
    "#generated by the \"majority\" method\n",
    "map_type = \"majority SIC\"\n",
    "major_sic_df = inds_measures_df_nona_noncomp.query(f'SIC_method == \"{map_type}\"')\n",
    "major_sic_dens = alt.Chart(major_sic_df).transform_density(\n",
    "    'SIC_confidence',\n",
    "    as_=['SIC_confidence', 'density'],).mark_area().encode(\n",
    "    x=alt.X(\"SIC_confidence:Q\", title=\"confidence score\"),\n",
    "    y='density:Q',\n",
    "    color=alt.value('orange'),\n",
    ").properties(title=f\"'{map_type}'\")\n",
    "    \n",
    "#clean up the distribution plots by adding a title and subtitle\n",
    "dists = (closet_dist_dens | major_sic_dens).properties(\n",
    "    title={\n",
    "      \"text\": [\"Threshold distribution by SIC matching method\"], \n",
    "      \"subtitle\": [\"\"],\n",
    "      \"color\": \"black\",\n",
    "      \"subtitleColor\": \"black\"\n",
    "    }\n",
    ")\n",
    "\n",
    "#Plot the # of job ads at different minimum SIC confidence thresholds\n",
    "\n",
    "##for the closest distance method\n",
    "bins=[0.5, 0.55, 0.6, 0.65, 0.7, 0.75, 0.8, 0.85, 0.9, 0.95, 1]\n",
    "cum_count = {}\n",
    "for bin in bins:\n",
    "    no_job_ads = closest_dist_df.query(f'SIC_confidence >= {bin}').id.nunique()\n",
    "    cum_count[bin] = no_job_ads\n",
    "cum_count_df = pd.DataFrame.from_dict(cum_count, orient='index').reset_index().rename(columns={'index':'SIC_confidence_range', 0:'cumulative_count'})\n",
    "cum_count_df['cumulative_percent'] = round((cum_count_df['cumulative_count']/closest_dist_df.id.nunique())*100,2)\n",
    "\n",
    "cumsum_area_chart = alt.Chart(cum_count_df, width=600).mark_area().encode(\n",
    "    #start the X acis at 0.5\n",
    "    x=alt.X('SIC_confidence_range', title='SIC confidence score', axis=alt.Axis(labelAngle=45), scale=alt.Scale(zero=False)),\n",
    "    # Plot the calculated field created by the transformation\n",
    "    y=alt.Y('cumulative_percent:Q', title='% of job ads (cumulative)'),\n",
    "    color=alt.value('purple'),\n",
    ")\n",
    "\n",
    "percent_thresh_bar = alt.Chart(cum_count_df).mark_bar().encode(\n",
    "    x=alt.X('cumulative_percent', title='% of job ads (cumulative)'),\n",
    "    y=alt.Y('SIC_confidence_range:N', title='minimum threshold'),\n",
    "    color=alt.value('purple'))\n",
    "\n",
    "closest_dist_thresholding = (cumsum_area_chart | percent_thresh_bar).properties(title=\"'closest distance'\")\n",
    "\n",
    "##for the majority SIC method\n",
    "bins=[0.30, 0.33, 0.36, 0.39, 0.42, 0.45]\n",
    "cum_count = {}\n",
    "for bin in bins:\n",
    "    no_job_ads = major_sic_df.query(f'SIC_confidence >= {bin}').id.nunique()\n",
    "    cum_count[bin] = no_job_ads\n",
    "cum_count_df = pd.DataFrame.from_dict(cum_count, orient='index').reset_index().rename(columns={'index':'SIC_confidence_range', 0:'cumulative_count'})\n",
    "cum_count_df['cumulative_percent'] = round((cum_count_df['cumulative_count']/major_sic_df.id.nunique())*100,2)\n",
    "\n",
    "cumsum_area_chart = alt.Chart(cum_count_df, width=600).mark_area().encode(\n",
    "    x=alt.X('SIC_confidence_range', title='SIC confidence score', axis=alt.Axis(labelAngle=45), scale=alt.Scale(zero=False)),\n",
    "    y=alt.Y('cumulative_percent:Q', title='% of job ads (cumulative)'),\n",
    "    color=alt.value('orange'),\n",
    ")\n",
    "\n",
    "percent_thresh_bar = alt.Chart(cum_count_df).mark_bar().encode(\n",
    "    x=alt.X('cumulative_percent', title='% of job ads (cumulative)'),\n",
    "    y=alt.Y('SIC_confidence_range:N', title='minimum threshold'),\n",
    "    color=alt.value('orange'))\n",
    "\n",
    "##combine them and add title/subtitle\n",
    "maj_sic_thresholding = (cumsum_area_chart | percent_thresh_bar).properties(title=\"'majority SIC'\")\n",
    "\n",
    "threshold_analysis_charts = dists & (closest_dist_thresholding & maj_sic_thresholding).properties(\n",
    "    title={\n",
    "      \"text\": [\"Percent (%) of job ads at different SIC confidence thresholds\"], \n",
    "      \"subtitle\": [\"\"],\n",
    "      \"color\": \"black\",\n",
    "      \"subtitleColor\": \"black\"\n",
    "    }\n",
    ")\n",
    "\n",
    "\n",
    "print('saving charts to html...')\n",
    "threshold_analysis_charts.save(f\"{graph_dir}/threshold_analysis_charts.html\")\n",
    "print('done!')"
   ]
  },
  {
   "attachments": {},
   "cell_type": "markdown",
   "metadata": {},
   "source": [
    "### 🤔 3. Labelled Evaluation\n",
    "\n",
    "In this section, we evaluate **two** labelled datasets:\n",
    "\n",
    "1. **_A labelled thresholding evaluation set_**: This labelled dataset does not include any SIC code matches to company house. It is used to evaluate the effect of thresholding on completeness and SIC quality. The dataset includes **111** job ads (`random_state=42`).\n",
    "\n",
    "2. **_An overall evaluation set_**: This labelled dataset uses the `SicMapper` to map to a SIC code. As a result, it also includes code matches to company house. It is used to evaluate the overall performance of the `SicMapper`. The dataset includes **500** job ads (`random_state=62`). "
   ]
  },
  {
   "attachments": {},
   "cell_type": "markdown",
   "metadata": {},
   "source": [
    "#### 🌊 3.1 Threshold evaluation"
   ]
  },
  {
   "attachments": {},
   "cell_type": "markdown",
   "metadata": {},
   "source": [
    "##### Print some high level statistics on the labelled thresholding evaluation set"
   ]
  },
  {
   "cell_type": "code",
   "execution_count": 616,
   "metadata": {},
   "outputs": [
    {
     "name": "stdout",
     "output_type": "stream",
     "text": [
      "Number of job ads in threshold evaluation set: 111\n",
      "Number of job ads with extracted SIC: 92\n",
      "% of job ads WITH extracted SIC: 0.8288288288288288\n",
      "% of job ads WITHOUT extracted SIC: 0.17117117117117117\n"
     ]
    }
   ],
   "source": [
    "print(f\"Number of job ads in threshold evaluation set: {threshold_evaluation_df.id.nunique()}\")\n",
    "print(f\"Number of job ads with extracted SIC: {threshold_evaluation_df[threshold_evaluation_df['match_quality[0-bad, 1-ok, 2-good]'].notnull()].id.nunique()}\")\n",
    "print(f\"% of job ads WITH extracted SIC: {threshold_evaluation_df[threshold_evaluation_df['match_quality[0-bad, 1-ok, 2-good]'].notnull()].id.nunique()/len(threshold_evaluation_df)}\")\n",
    "print(f\"% of job ads WITHOUT extracted SIC: {threshold_evaluation_df[threshold_evaluation_df['match_quality[0-bad, 1-ok, 2-good]'].isna()].id.nunique()/len(threshold_evaluation_df)}\")"
   ]
  },
  {
   "attachments": {},
   "cell_type": "markdown",
   "metadata": {},
   "source": [
    "##### Clean up labelled thresholding evaluation set"
   ]
  },
  {
   "cell_type": "code",
   "execution_count": 617,
   "metadata": {},
   "outputs": [
    {
     "name": "stderr",
     "output_type": "stream",
     "text": [
      "/var/folders/cq/9gxjkt2j2g1c0cfhjb2qtz000000gn/T/ipykernel_29305/1365476889.py:4: SettingWithCopyWarning: \n",
      "A value is trying to be set on a copy of a slice from a DataFrame.\n",
      "Try using .loc[row_indexer,col_indexer] = value instead\n",
      "\n",
      "See the caveats in the documentation: https://pandas.pydata.org/pandas-docs/stable/user_guide/indexing.html#returning-a-view-versus-a-copy\n",
      "  threshold_evaluation_df_labelled['closest_dist_sic_confidence_threshold'] = pd.cut(threshold_evaluation_df_labelled['sic_confidence'],\n",
      "/var/folders/cq/9gxjkt2j2g1c0cfhjb2qtz000000gn/T/ipykernel_29305/1365476889.py:8: SettingWithCopyWarning: \n",
      "A value is trying to be set on a copy of a slice from a DataFrame.\n",
      "Try using .loc[row_indexer,col_indexer] = value instead\n",
      "\n",
      "See the caveats in the documentation: https://pandas.pydata.org/pandas-docs/stable/user_guide/indexing.html#returning-a-view-versus-a-copy\n",
      "  threshold_evaluation_df_labelled['majority_sic_confidence_threshold'] = pd.cut(threshold_evaluation_df_labelled['sic_confidence'],\n"
     ]
    }
   ],
   "source": [
    "#clean up dataframe\n",
    "threshold_evaluation_df.rename(columns={'match_quality[0-bad, 1-ok, 2-good]':'match_quality'}, inplace=True)\n",
    "threshold_evaluation_df_labelled = threshold_evaluation_df[threshold_evaluation_df.match_quality.notna()]\n",
    "threshold_evaluation_df_labelled['closest_dist_sic_confidence_threshold'] = pd.cut(threshold_evaluation_df_labelled['sic_confidence'],\n",
    "                                                                      bins=[0.5, 0.55, 0.6, 0.65, 0.7],\n",
    "                                                                    labels=['0.5-0.55', '0.55-0.6', '0.6-0.65', '0.65-0.7'])\n",
    "\n",
    "threshold_evaluation_df_labelled['majority_sic_confidence_threshold'] = pd.cut(threshold_evaluation_df_labelled['sic_confidence'],\n",
    "                                                                      bins=[0.3, 0.33, 0.36, 0.39, 0.42, 0.45],\n",
    "                                                                    labels=['0.3-0.33', '0.33-0.36', '0.36-0.39', '0.39-0.42', '0.42-0.45'])"
   ]
  },
  {
   "attachments": {},
   "cell_type": "markdown",
   "metadata": {},
   "source": [
    "##### Generate graphs investigating the thresholding evaluation set"
   ]
  },
  {
   "cell_type": "code",
   "execution_count": 618,
   "metadata": {},
   "outputs": [
    {
     "name": "stdout",
     "output_type": "stream",
     "text": [
      "saving charts to html...\n",
      "done!\n"
     ]
    }
   ],
   "source": [
    "match_qual_df = (round(\n",
    "    threshold_evaluation_df_labelled\n",
    "    .match_quality\n",
    "    .value_counts()/len(threshold_evaluation_df_labelled)*100, 2)\n",
    ".reset_index().rename(columns={'index':'match_quality', 'match_quality':'percent'}))\n",
    "\n",
    "match_quality = alt.Chart(match_qual_df).mark_bar().encode(\n",
    "    y=alt.Y('match_quality:O', title='match quality', sort='-x'),\n",
    "    x=alt.X('percent:Q', title='% of job ads'),\n",
    "    color=alt.condition(alt.datum.match_quality > 0, alt.value('green'), alt.value('red'))).properties(\n",
    "    title={\n",
    "      \"text\": [\"Overall Match quality\"], \n",
    "      \"subtitle\": [f\"{match_qual_df.query('match_quality > 0').percent.sum()}% of matches are ok or good\", \"\"],\n",
    "      \"color\": \"black\",\n",
    "      \"subtitleColor\": \"black\"\n",
    "    }\n",
    ")\n",
    "    \n",
    "qual_by_thresh = (threshold_evaluation_df_labelled\n",
    ".groupby(['closest_dist_sic_confidence_threshold', 'match_quality'])\n",
    ".id\n",
    ".count()\n",
    ".reset_index()\n",
    ".rename(columns={'id':'count'}))\n",
    "\n",
    "qual_dict = {'1': 'ok', '2': 'good', '0': 'bad'}\n",
    "qual_by_thresh['match_quality'] = qual_by_thresh['match_quality'].astype(int).astype(str)\n",
    "qual_by_thresh['match_quality_label'] = qual_by_thresh['match_quality'].map(qual_dict)\n",
    "\n",
    "#match quality by threshold\n",
    "\n",
    "match_qual_per_range = alt.Chart(qual_by_thresh).mark_bar().encode(\n",
    "    y=alt.Y('closest_dist_sic_confidence_threshold', title='SIC confidence threshold'),\n",
    "    x=alt.X('count'),\n",
    "    color=alt.Color('match_quality_label', title='match quality')).properties(\n",
    "        title=\"Closest SIC\")\n",
    "    \n",
    "#by majority SIC confidence threshold\n",
    "qual_by_thresh = (threshold_evaluation_df_labelled\n",
    ".groupby(['majority_sic_confidence_threshold', 'match_quality'])\n",
    ".id\n",
    ".count()\n",
    ".reset_index()\n",
    ".rename(columns={'id':'count'}))\n",
    "\n",
    "qual_dict = {'1': 'ok', '2': 'good', '0': 'bad'}\n",
    "qual_by_thresh['match_quality'] = qual_by_thresh['match_quality'].astype(int).astype(str)\n",
    "qual_by_thresh['match_quality_label'] = qual_by_thresh['match_quality'].map(qual_dict)\n",
    "\n",
    "#match quality by threshold\n",
    "match_qual_per_range_maj_sic = alt.Chart(qual_by_thresh).mark_bar().encode(\n",
    "    y=alt.Y('majority_sic_confidence_threshold', title='SIC confidence threshold'),\n",
    "    x=alt.X('count'),\n",
    "    color=alt.Color('match_quality_label', title='match quality')).properties(\n",
    "        title=\"Majority SIC\")\n",
    "    \n",
    "match_qual_charts = match_quality & (match_qual_per_range | match_qual_per_range_maj_sic).properties(\n",
    "title={\n",
    "    \"text\": [\"Match quality by SIC confidence threshold\"], \n",
    "    \"subtitle\": [\"Thresholding slightly higher (~0.55) for the closest SIC approach could minimise bad/ok matches.\", \n",
    "                \"Meanwhile, there isn't a clear pattern for the majority SIC approach.\", \"\"],\n",
    "    \"color\": \"black\",\n",
    "    \"subtitleColor\": \"black\"\n",
    "}\n",
    ")\n",
    "\n",
    "print('saving charts to html...')\n",
    "match_qual_charts.save(f\"{graph_dir}/match_qual_charts.html\")\n",
    "print('done!')"
   ]
  },
  {
   "attachments": {},
   "cell_type": "markdown",
   "metadata": {},
   "source": [
    "**key takeaways:**\n",
    "\n",
    "- the best threshold for the closest SIC is likely still **0.5**\n",
    "- there is no clear best threshold for the majority SIC. It appears to perform relatively worse at every confidence threshold."
   ]
  },
  {
   "attachments": {},
   "cell_type": "markdown",
   "metadata": {},
   "source": [
    "#### 🖊️ 3.2 Overall evaluation: Analyse labelled dataset for overall performance"
   ]
  },
  {
   "attachments": {},
   "cell_type": "markdown",
   "metadata": {},
   "source": [
    "##### Clean up labelled evaluation set"
   ]
  },
  {
   "cell_type": "code",
   "execution_count": 619,
   "metadata": {},
   "outputs": [],
   "source": [
    "#clean up dataset\n",
    "labelled_evaluation_df = (labelled_evaluation_df\n",
    "                          #drop unused columns\n",
    "                          .drop(columns=['company_name_x', 'company_name_y'])\n",
    "                          #rename columns to be easier to work with\n",
    "                          .rename(columns={'company_description_quality[0-bad, 1-ok, 2-good]':'company_description_quality',\n",
    "                                           'match_quality[0-bad, 1-ok, 2-good]': 'match_quality'})\n",
    "                          #drop any rows that weren't labelled\n",
    "                          .dropna(subset=['match_quality'])\n",
    "                          #convert specific columns to different types, create new columns incl.\n",
    "                          #length of company description and binary match quality to convert \n",
    "                          #'ok' and 'good' to 1 and 'bad' to 0\n",
    "                          .assign(match_quality=lambda x: x.match_quality.astype('Int64'),\n",
    "                                  company_description_quality=lambda x: x.company_description_quality.astype('Int64'),\n",
    "                                  company_description_length = lambda x: x.company_description.str.len(),\n",
    "                                  match_quality_binary = lambda x: np.where(x.match_quality > 0, 1, 0))\n",
    "                          #remove a mistaken label\n",
    "                          .query('sic_confidence != 2') \n",
    "                          .reset_index(drop=True))"
   ]
  },
  {
   "attachments": {},
   "cell_type": "markdown",
   "metadata": {},
   "source": [
    "##### Print some high level statistics on the evaluation set"
   ]
  },
  {
   "cell_type": "code",
   "execution_count": 620,
   "metadata": {},
   "outputs": [
    {
     "name": "stdout",
     "output_type": "stream",
     "text": [
      "266 job ads were labelled\n",
      "\n",
      "the 10 most common SIC codes in the labelled evaluation dataset are:\n",
      "['Management consultancy activities (other than financial management)', 'Freight air transport and space transport', 'Other business support service activities nec', 'Environmental consulting activities', 'Financial service activities, except insurance and pension funding', 'Remediation activities and other waste management services', 'Manufacture of food products', 'Management of real estate on a fee or contract basis', 'Activities of employment placement agencies', 'Civil engineering']\n",
      "\n",
      "the correlation between company description quality and match quality is:\n",
      "0.26\n"
     ]
    }
   ],
   "source": [
    "#print some high level stats\n",
    "print(f\"{len(labelled_evaluation_df)} job ads were labelled\")\n",
    "print('')\n",
    "print('the 10 most common SIC codes in the labelled evaluation dataset are:')\n",
    "print((labelled_evaluation_df\n",
    "               .sic_name\n",
    "               .value_counts()\n",
    "               .head(10)\n",
    "               .reset_index()\n",
    "               .rename(columns={'index':'sic_name', 'sic_name':'count'})\n",
    "               .sic_name\n",
    "               .tolist()))\n",
    "print('')\n",
    "print('the correlation between company description quality and match quality is:')\n",
    "print(round(labelled_evaluation_df[['company_description_quality', 'match_quality']].corr()['company_description_quality'].match_quality,2))"
   ]
  },
  {
   "attachments": {},
   "cell_type": "markdown",
   "metadata": {},
   "source": [
    "##### Generate graphs investigating the evaluation set"
   ]
  },
  {
   "cell_type": "code",
   "execution_count": 621,
   "metadata": {},
   "outputs": [
    {
     "name": "stdout",
     "output_type": "stream",
     "text": [
      "saving charts to html...\n",
      "done!\n"
     ]
    }
   ],
   "source": [
    "#generate charts \n",
    "\n",
    "match_qual_df = (labelled_evaluation_df.match_quality.value_counts()/len(labelled_evaluation_df)*100).reset_index().rename(columns={'index':'match_quality', 'match_quality':'percent'})\n",
    "\n",
    "match_quality_chart = alt.Chart(match_qual_df).mark_bar().encode(\n",
    "    y=alt.Y('match_quality:O', title='match quality', sort='-x'),\n",
    "    x=alt.X('percent:Q', title='% of job ads'),\n",
    "    color=alt.condition(alt.datum.match_quality > 0, alt.value('green'), alt.value('red'))).properties(\n",
    "    title={\n",
    "      \"text\": [\"Overall Match Quality\"], \n",
    "      \"subtitle\": [f\"{round(match_qual_df.query('match_quality > 0').percent.sum(),2)}% of matches are ok or good\", \"\"],\n",
    "      \"color\": \"black\",\n",
    "      \"subtitleColor\": \"black\"\n",
    "    }\n",
    ")\n",
    "\n",
    "desc_qual_df = (labelled_evaluation_df.company_description_quality.value_counts()/len(labelled_evaluation_df.query('~company_description_quality.isna()'))*100).reset_index().rename(columns={'index':'desc_quality', 'company_description_quality':'percent'})\n",
    "desc_qual_chart = alt.Chart(desc_qual_df).mark_bar().encode(\n",
    "    y=alt.Y('desc_quality:O', title='Description quality', sort='-x'),\n",
    "    x=alt.X('percent:Q', title='% of job ads'),\n",
    "    color=alt.condition(alt.datum.desc_quality > 0, alt.value('green'), alt.value('red'))).properties(\n",
    "    title={\n",
    "      \"text\": [\"Description Quality\"], \n",
    "      \"subtitle\": [f\"{round(desc_qual_df.query('desc_quality > 0').percent.sum(),2)}% of company descriptions are ok or good\"],\n",
    "      \"color\": \"black\",\n",
    "      \"subtitleColor\": \"black\"\n",
    "    }\n",
    ")\n",
    "\n",
    "sic_method_df = labelled_evaluation_df.sic_method.value_counts().reset_index().rename(columns={'index':'sic_method', 'sic_method':'count'})\n",
    "sic_method_chart = alt.Chart(sic_method_df).mark_bar().encode(\n",
    "    y=alt.Y('sic_method:O', title='SIC method', sort='-x'),\n",
    "    x=alt.X('count:Q', title='count')).properties(\n",
    "    title={\n",
    "      \"text\": [\"Count of SIC methods\"], \n",
    "      \"subtitle\": [f\"closest distance is the most common SIC method in this sample\", \"\"],\n",
    "      \"color\": \"black\",\n",
    "      \"subtitleColor\": \"black\"\n",
    "    }\n",
    ")\n",
    "    \n",
    "var = \"closest distance\"\n",
    "df_has_desc_qual = (labelled_evaluation_df.query(f'sic_method == \"{var}\"')\n",
    "                   .dropna(subset=['company_description_quality']))\n",
    "\n",
    "df_has_desc_qual['company_description_quality_binary'] = np.where(df_has_desc_qual.company_description_quality > 0, 1, 0)\n",
    "\n",
    "closest_sic = alt.Chart(df_has_desc_qual).mark_circle(size=60).encode(\n",
    "    x=alt.X('company_description_length', title='Company description length'),\n",
    "    y=alt.Y('sic_confidence', title='SIC confidence'),\n",
    "    color=alt.Color('company_description_quality_binary:N', title='Description Quality (Binary)'),\n",
    "    tooltip=['sic_name', 'sic_confidence', 'match_quality', 'company_description_quality']).properties(title=var)\n",
    "\n",
    "var = \"majority SIC\"\n",
    "maj_sic_qual = (labelled_evaluation_df.query(f'sic_method == \"{var}\"')\n",
    "                   .dropna(subset=['company_description_quality']))\n",
    "\n",
    "maj_sic_qual['company_description_quality_binary'] = np.where(maj_sic_qual.company_description_quality > 0, 1, 0)\n",
    "\n",
    "maj_sic = alt.Chart(maj_sic_qual).mark_circle(size=60).encode(\n",
    "    x=alt.X('company_description_length', title='Company description length'),\n",
    "    y=alt.Y('sic_confidence', title='SIC confidence'),\n",
    "    color=alt.Color('company_description_quality_binary:N', title='Description Quality (Binary)', legend=None),\n",
    "    tooltip=['sic_name', 'sic_confidence', 'match_quality', 'company_description_quality']).properties(title=var)\n",
    "\n",
    "desc_len = (closest_sic | maj_sic).properties(\n",
    "    title={\n",
    "      \"text\": [\"Company description length vs. SIC confidence and method\"], \n",
    "      \"subtitle\": [\"Shorter company description length appear to have been labelled 'bad'.\", \"\"],\n",
    "      \"color\": \"black\",\n",
    "      \"subtitleColor\": \"black\"\n",
    "    }\n",
    ")\n",
    "\n",
    "closet_dist_dens = alt.Chart(df_has_desc_qual).transform_density(\n",
    "    'sic_confidence',\n",
    "    as_=['sic_confidence', 'density'],).mark_area().encode(\n",
    "    x=alt.X(\"sic_confidence:Q\", title=\"confidence score\"),\n",
    "    y='density:Q',\n",
    "    color=alt.value('purple'),\n",
    ").properties(title=f\"closest distance\")\n",
    "    \n",
    "maj_sic_dens = alt.Chart(maj_sic_qual).transform_density(\n",
    "    'sic_confidence',\n",
    "    as_=['sic_confidence', 'density'],).mark_area().encode(\n",
    "    x=alt.X(\"sic_confidence:Q\", title=\"confidence score\"),\n",
    "    y='density:Q',\n",
    "    color=alt.value('orange'),\n",
    ").properties(title=f\"majority SIC\")\n",
    "    \n",
    "dens_plots = (closet_dist_dens | maj_sic_dens).properties(title=\"SIC confidence density plots\")\n",
    "\n",
    "eval_charts = sic_method_chart & (match_quality | desc_qual_chart) & desc_len \n",
    "\n",
    "print('saving charts to html...')\n",
    "(eval_charts & dens_plots).save(f\"{graph_dir}/eval_charts.html\")\n",
    "print('done!')"
   ]
  }
 ],
 "metadata": {
  "kernelspec": {
   "display_name": "sic_test",
   "language": "python",
   "name": "python3"
  },
  "language_info": {
   "codemirror_mode": {
    "name": "ipython",
    "version": 3
   },
   "file_extension": ".py",
   "mimetype": "text/x-python",
   "name": "python",
   "nbconvert_exporter": "python",
   "pygments_lexer": "ipython3",
   "version": "3.8.17"
  },
  "orig_nbformat": 4,
  "vscode": {
   "interpreter": {
    "hash": "02069c3723c8acf67dfaa141c3965fab34fbd922e62a41b6c1bd6f1f51a6d0de"
   }
  }
 },
 "nbformat": 4,
 "nbformat_minor": 2
}
