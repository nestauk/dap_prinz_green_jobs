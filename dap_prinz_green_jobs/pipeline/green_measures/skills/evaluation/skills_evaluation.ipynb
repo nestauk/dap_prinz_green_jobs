{
 "cells": [
  {
   "attachments": {},
   "cell_type": "markdown",
   "metadata": {},
   "source": [
    "📓👋 Welcome to the skills evaluation notebook.\n",
    "\n",
    "The key aim of the notebook is to evaluate the performance of the SkillMeasures overall. "
   ]
  },
  {
   "cell_type": "code",
   "execution_count": 24,
   "metadata": {},
   "outputs": [],
   "source": [
    "from dap_prinz_green_jobs import PROJECT_DIR\n",
    "\n",
    "import altair as alt\n",
    "import pandas as pd\n",
    "\n",
    "import os\n",
    "from datetime import datetime\n",
    "import numpy as np"
   ]
  },
  {
   "cell_type": "code",
   "execution_count": 25,
   "metadata": {},
   "outputs": [
    {
     "name": "stdout",
     "output_type": "stream",
     "text": [
      "/Users/india.kerlenesta/Projects/dap_green_jobs/dap_prinz_green_jobs/outputs/figures/evaluation/skills/231016 directory already exists\n"
     ]
    }
   ],
   "source": [
    "# global variables, settings, create directory for the whole notebook\n",
    "\n",
    "alt.data_transformers.disable_max_rows()\n",
    "\n",
    "today = datetime.today().strftime('%y%m%d')\n",
    "graph_dir = str(PROJECT_DIR / f\"outputs/figures/evaluation/skills/{today}/\")\n",
    "\n",
    "if not os.path.exists(graph_dir):\n",
    "    print(f\"Creating {graph_dir} directory\")\n",
    "    os.makedirs(graph_dir)\n",
    "else:\n",
    "    print(f\"{graph_dir} directory already exists\")"
   ]
  },
  {
   "attachments": {},
   "cell_type": "markdown",
   "metadata": {},
   "source": [
    "### 💾 0. Load data\n",
    "\n",
    "- load labelled skills data\n",
    "- clean up data"
   ]
  },
  {
   "cell_type": "code",
   "execution_count": 35,
   "metadata": {},
   "outputs": [],
   "source": [
    "def convert_labels(label: float) -> str:\n",
    "    #if its a float AND and integer, convert to int and then string\n",
    "    if isinstance(label, float) and label.is_integer():\n",
    "        return str(int(label))\n",
    "    else:\n",
    "        return label"
   ]
  },
  {
   "cell_type": "code",
   "execution_count": 218,
   "metadata": {},
   "outputs": [],
   "source": [
    "#Load and clean the labelled data\n",
    "skill_mapper = {'0': 'skill entity too bad to score',\n",
    "                '1': 'poor',\n",
    "                '2': 'ok',\n",
    "                '3': 'excellent'}\n",
    "\n",
    "skills_evaluation_raw = pd.read_csv('s3://prinz-green-jobs/outputs/data/labelled_job_adverts/evaluation/skills/skill_evaluation_sample_labelled.csv')\n",
    "\n",
    "skills_evaluation_clean = (skills_evaluation_raw\n",
    "                     .rename(columns={'is_good_skill_entity (1-poor, 2-ok, 3-excellent)': 'is_good_skill_entity',\n",
    "                                  'is_good_green_esco (0-skill entity too bad to score, 1-poor, 2-ok, 3-excellent) if none - then score according to whether it should have been green/blank': 'is_good_green_esco',\n",
    "                                  'is_good_all_esco (0-skill entity too bad to score, 1-poor, 2-ok, 3-excellent)': 'is_good_all_esco'})\n",
    "                     #clean up values\n",
    "                     .assign(job_id = lambda x: x.job_id.astype(str),\n",
    "                             is_good_skill_entity = lambda x: x.is_good_skill_entity.apply(convert_labels),\n",
    "                             is_good_green_esco = lambda x: x.is_good_green_esco.apply(convert_labels),\n",
    "                             is_good_all_esco = lambda x: x.is_good_all_esco.apply(convert_labels),\n",
    "                             is_good_skill_entity_label = lambda x: x.is_good_skill_entity.map(skill_mapper),\n",
    "                             is_good_green_esco_label = lambda x: x.is_good_green_esco.map(skill_mapper),\n",
    "                             is_good_all_esco_label = lambda x: x.is_good_all_esco.map(skill_mapper))\n",
    "                     .dropna(subset=['is_good_skill_entity'])\n",
    "                     .drop(columns=['Unnamed: 13'])\n",
    "                     .reset_index(drop=True))"
   ]
  },
  {
   "attachments": {},
   "cell_type": "markdown",
   "metadata": {},
   "source": [
    "### 🤔 1. Labelled evaluation analysis \n",
    "\n",
    "- print overall observations\n",
    "- generate label distribution plots\n",
    "- generate plots about the relationship between green skill probability and skill quality"
   ]
  },
  {
   "cell_type": "code",
   "execution_count": 219,
   "metadata": {},
   "outputs": [
    {
     "name": "stdout",
     "output_type": "stream",
     "text": [
      "skills were extracted for 500 job ids\n",
      "\n",
      "514 skills were labelled\n",
      "\n",
      "there are 494 unique extracted skills\n",
      "\n",
      "there are 309 unique mapped all ESCO skills\n",
      "\n",
      "there are 182 unique green ESCO skills\n",
      "\n",
      "the average extracted skill entity score is: 2.6\n",
      "\n",
      "the number of skills that were labelled as 0 (skill entity too bad to score) for green esco matches:\n",
      "1\n",
      "\n",
      "the number of skills that were labelled as 0 (skill entity too bad to score) for all esco matches:\n",
      "3\n",
      "\n",
      "the average green escoe score is: 2.44\n",
      "\n",
      "the average all escoe score is: 2.26\n"
     ]
    }
   ],
   "source": [
    "print(f'skills were extracted for {skills_evaluation_clean.job_id.nunique()} job ids')\n",
    "print('')\n",
    "print(f\"{skills_evaluation_clean.shape[0]} skills were labelled\")\n",
    "print('')\n",
    "print(f'there are {skills_evaluation_clean.skill_label.nunique()} unique extracted skills')\n",
    "print('')\n",
    "print(f'there are {skills_evaluation_clean.esco_skill.nunique()} unique mapped all ESCO skills')\n",
    "print('')\n",
    "print(f'there are {skills_evaluation_clean.green_esco_skill.nunique()} unique green ESCO skills')\n",
    "print('')\n",
    "print(f\"the average extracted skill entity score is: {round(skills_evaluation_clean.is_good_skill_entity.astype(int).mean(),2)}\")\n",
    "print('')\n",
    "print('the number of skills that were labelled as 0 (skill entity too bad to score) for green esco matches:')\n",
    "print(len(skills_evaluation_clean.query('is_good_green_esco == \"0\"')))\n",
    "print('')\n",
    "print('the number of skills that were labelled as 0 (skill entity too bad to score) for all esco matches:')\n",
    "print(len(skills_evaluation_clean.query('is_good_all_esco == \"0\"')))\n",
    "print('')\n",
    "skills_evaluation_clean_no0 = skills_evaluation_clean.query('is_good_green_esco != \"0\"')\n",
    "print(f\"the average green escoe score is: {round(skills_evaluation_clean_no0.query('~is_good_green_esco.isna()').is_good_green_esco.astype(int).mean(),2)}\")\n",
    "print('')\n",
    "skills_evaluation_clean_no0 = skills_evaluation_clean.query('is_good_all_esco != \"0\"')\n",
    "print(f\"the average all escoe score is: {round(skills_evaluation_clean.query('~is_good_all_esco.isna()').is_good_all_esco.astype(int).mean(),2)}\")"
   ]
  },
  {
   "cell_type": "code",
   "execution_count": 220,
   "metadata": {},
   "outputs": [],
   "source": [
    "#DISTRIBUTION GRAPHS\n",
    "\n",
    "is_green_df = skills_evaluation_clean.is_green.value_counts().reset_index().rename(columns={'index': 'is_green', 'is_green': 'count'})\n",
    "is_green_chart = alt.Chart(is_green_df).mark_bar().encode(\n",
    "    y=alt.Y('is_green:N', title='Is the skill green?'),\n",
    "    x=alt.X('count:Q', title='Count'),\n",
    "    color=alt.Color('is_green:N', title='Is the skill green?', legend=None)).properties(\n",
    "        title={'text':'Distribution of green skills in the labelled data'})\n",
    "    \n",
    "is_good_skill_entity_df = (skills_evaluation_clean\n",
    "                           .is_good_skill_entity\n",
    "                           .value_counts()\n",
    "                           .reset_index()\n",
    "                           .rename(columns={'index': 'is_good_skill_entity', 'is_good_skill_entity': 'count'})\n",
    "                           .assign(is_good_skill_entity_label = lambda x: x.is_good_skill_entity.map(skill_mapper)))\n",
    "\n",
    "good_skill_entity_percent = round(is_good_skill_entity_df.query('is_good_skill_entity != \"1\"')['count'].sum()/is_good_skill_entity_df['count'].sum(),2)*100\n",
    "is_good_skill_entity_chart = alt.Chart(is_good_skill_entity_df).mark_bar().encode(\n",
    "    x=alt.X('count:Q', title='Count'),\n",
    "    y=alt.Y('is_good_skill_entity_label:N', title='Is the extracted skill good?'),\n",
    "    color=alt.condition(alt.datum.is_good_skill_entity > '1', alt.value('green'), alt.value('red'))).properties(\n",
    "        title={'text': ['Distribution of extracted skill quality in the labelled data'],\n",
    "               'subtitle': [f'{good_skill_entity_percent}% of extracted skills are ok or good.']})\n",
    "    \n",
    "    \n",
    "is_good_green_esco_df = (skills_evaluation_clean\n",
    "                           .is_good_green_esco\n",
    "                           .value_counts()\n",
    "                           .reset_index()\n",
    "                           .rename(columns={'index': 'is_good_green_esco', 'is_good_green_esco': 'count'})\n",
    "                           .assign(is_good_green_esco_label = lambda x: x.is_good_green_esco.map(skill_mapper))\n",
    "                           .query('is_good_green_esco != \"0\"'))\n",
    "\n",
    "good_green_esco_percent = round(is_good_green_esco_df.query('is_good_green_esco != \"1\"')['count'].sum()/is_good_green_esco_df['count'].sum(),2)*100\n",
    "is_good_green_esco_chart = alt.Chart(is_good_green_esco_df).mark_bar().encode(\n",
    "    x=alt.X('count:Q', title='Count'),\n",
    "    y=alt.Y('is_good_green_esco_label:N', title='Is mapped skill good?'),\n",
    "    color=alt.condition(alt.datum.is_good_green_esco != '1', alt.value('green'), alt.value('red'))).properties(\n",
    "        title={'text': ['Distribution of mapped green ESCO skill in the labelled data'],\n",
    "               'subtitle': [f'{good_green_esco_percent}% of extracted skills are ok or good.']})\n",
    "    \n",
    "is_good_all_esco_df = (skills_evaluation_clean\n",
    "                           .is_good_all_esco\n",
    "                           .value_counts()\n",
    "                           .reset_index()\n",
    "                           .rename(columns={'index': 'is_good_all_esco', 'is_good_all_esco': 'count'})\n",
    "                           .assign(is_good_all_esco_label = lambda x: x.is_good_all_esco.map(skill_mapper))\n",
    "                           .query('is_good_all_esco != \"0\"'))\n",
    "\n",
    "good_all_esco_percent = round(is_good_all_esco_df.query('is_good_all_esco != \"1\"')['count'].sum()/is_good_all_esco_df['count'].sum(),2)*100\n",
    "is_good_all_esco_chart = alt.Chart(is_good_all_esco_df).mark_bar().encode(\n",
    "    x=alt.X('count:Q', title='Count'),\n",
    "    y=alt.Y('is_good_all_esco_label:N', title='Is mapped skill good?'),\n",
    "    color=alt.condition(alt.datum.is_good_all_esco != '1', alt.value('green'), alt.value('red'))).properties(\n",
    "        title={'text': ['Distribution of mapped all ESCO skill in the labelled data'],\n",
    "               'subtitle': [f'{good_all_esco_percent}% of extracted skills are ok or good.']})\n",
    "    \n",
    "skill_dist_graphs = (is_green_chart & (is_good_skill_entity_chart | is_good_green_esco_chart | is_good_all_esco_chart)).properties(title={'text': 'Labelled Skill Distribution Graphs', 'subtitle': [\"\", \"\"]})\n",
    "\n",
    "skill_dist_graphs.save(f'{graph_dir}/skill_dist_graphs.html')"
   ]
  },
  {
   "cell_type": "code",
   "execution_count": 222,
   "metadata": {},
   "outputs": [],
   "source": [
    "#RELATIONSHIP GRAPHS\n",
    "\n",
    "#correlation matrix\n",
    "skills_evaluation_clean = skills_evaluation_clean.dropna(subset=['is_good_green_esco'])\n",
    "\n",
    "skills_evaluation_clean['is_good_skill_entity'] = skills_evaluation_clean.is_good_skill_entity.astype(int)\n",
    "skills_evaluation_clean['is_good_green_esco'] = skills_evaluation_clean.is_good_green_esco.astype(int)\n",
    "\n",
    "corr_df = (skills_evaluation_clean\n",
    "           [['green_prob', \n",
    "                         'green_esco_skill_prob', \n",
    "                         'is_good_skill_entity', \n",
    "                         'is_good_green_esco']]\n",
    "           .corr()\n",
    "           .stack()\n",
    "           .reset_index()\n",
    "           .rename(columns={'level_0': 'feature_1', 'level_1': 'feature_2', 0: 'correlation'}))\n",
    "corr_df['correlation_label'] = corr_df['correlation'].map('{:.2f}'.format)  # Round to 2 decimal\n",
    "base = alt.Chart(corr_df).encode(\n",
    "    x=alt.X('feature_1:O', title=\"Feature 1\"),\n",
    "    y=alt.Y('feature_2:O', title=\"Feature 2\")   \n",
    ")\n",
    "# Text layer with correlation labels\n",
    "# Colors are for easier readability\n",
    "text = base.mark_text().encode(\n",
    "    text='correlation_label',\n",
    "    color=alt.condition(\n",
    "        alt.datum.correlation < 0.5, \n",
    "        alt.value('black'),\n",
    "        alt.value('white')\n",
    "    )\n",
    ")\n",
    "\n",
    "# The correlation heatmap itself\n",
    "cor_plot = base.mark_rect().encode(\n",
    "    color='correlation:Q'\n",
    ").properties(width=400, height=400)\n",
    "\n",
    "cor_text_plot = cor_plot + text\n",
    "\n",
    "#Relationship between green probability, esco skill probability and match quality\n",
    "esco_prob_chart = alt.Chart(skills_evaluation_clean.query('is_good_green_esco != 0')).mark_point().encode(\n",
    "    x=alt.X('green_prob:Q', title='Green Skill Classifier probability'),\n",
    "    y=alt.Y('esco_skill_prob:Q', title='Green ESCO semantic similarity'),\n",
    "    color=alt.Color('is_good_green_esco_label:N', title='Is mapped skill good?'),\n",
    "    tooltip=['skill_label', 'green_esco_skill', 'green_prob', 'esco_skill_prob', 'is_good_green_esco']).properties(\n",
    "        title={'text': ['Relationship between green skill classifier probability and ESCO semantic similarity']}\n",
    "    )\n",
    "    \n",
    "(cor_text_plot | esco_prob_chart).properties(\n",
    "        title={'text': ['Relationship graphs'],\n",
    "               'subtitle': [\"\", \"\"]}\n",
    "    ).save(f'{graph_dir}/relationship_graphs.html')"
   ]
  }
 ],
 "metadata": {
  "kernelspec": {
   "display_name": "sic_test",
   "language": "python",
   "name": "python3"
  },
  "language_info": {
   "codemirror_mode": {
    "name": "ipython",
    "version": 3
   },
   "file_extension": ".py",
   "mimetype": "text/x-python",
   "name": "python",
   "nbconvert_exporter": "python",
   "pygments_lexer": "ipython3",
   "version": "3.8.17"
  },
  "orig_nbformat": 4,
  "vscode": {
   "interpreter": {
    "hash": "02069c3723c8acf67dfaa141c3965fab34fbd922e62a41b6c1bd6f1f51a6d0de"
   }
  }
 },
 "nbformat": 4,
 "nbformat_minor": 2
}
