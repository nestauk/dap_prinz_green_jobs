{
 "cells": [
  {
   "cell_type": "markdown",
   "id": "bd67ccc6-b9e7-4217-9c8a-bb300d370a2f",
   "metadata": {},
   "source": [
    "## Analyse the manually labelled results from SOCMapper"
   ]
  },
  {
   "cell_type": "code",
   "execution_count": 2,
   "id": "98b8b96a-0ba6-4d72-a564-2db7ff03ed70",
   "metadata": {},
   "outputs": [],
   "source": [
    "import pandas as pd\n",
    "\n",
    "import random"
   ]
  },
  {
   "cell_type": "code",
   "execution_count": 3,
   "id": "9e1882ae-6bdb-4b84-b3af-4d1928620d3b",
   "metadata": {},
   "outputs": [
    {
     "name": "stdout",
     "output_type": "stream",
     "text": [
      "200\n",
      "300\n"
     ]
    }
   ],
   "source": [
    "random_job_matches = pd.read_csv(\"s3://prinz-green-jobs/outputs/data/ojo_application/evaluation/soc_evaluation_random_sample_manual_121023.csv\")\n",
    "print(len(random_job_matches))\n",
    "\n",
    "full_common_job_matches = pd.read_csv(\"s3://prinz-green-jobs/outputs/data/ojo_application/evaluation/soc_evaluation_sample_manual_121023.csv\")\n",
    "common_job_matches = full_common_job_matches[full_common_job_matches['labelled']==False] # Bad column name on my part! This is because we didn't label all of them in this csv\n",
    "print(len(common_job_matches))"
   ]
  },
  {
   "cell_type": "code",
   "execution_count": 4,
   "id": "7dc486ce-92a9-4919-affa-4e5bd05db6c0",
   "metadata": {},
   "outputs": [],
   "source": [
    "random_job_matches.rename(columns={\n",
    "    'Quality of soc_2020_6_name (0-cant say, 1-poor, 2-ok, 3-excellent)': \"soc_6_quality\",\n",
    "    'If match_type = \"Multiple 4-digit 2020 socs\" - Quality of soc_2020_4_name (0-cant say, 1-poor, 2-ok, 3-excellent)': \"soc_4_quality\"\n",
    "}, inplace=True)\n"
   ]
  },
  {
   "cell_type": "code",
   "execution_count": 5,
   "id": "45115205-c3f7-4b7e-b0bc-edfd259f49e2",
   "metadata": {},
   "outputs": [
    {
     "name": "stderr",
     "output_type": "stream",
     "text": [
      "/Users/elizabethgallagher/miniconda3/envs/dap_prinz_green_jobs/lib/python3.8/site-packages/pandas/core/frame.py:5039: SettingWithCopyWarning: \n",
      "A value is trying to be set on a copy of a slice from a DataFrame\n",
      "\n",
      "See the caveats in the documentation: https://pandas.pydata.org/pandas-docs/stable/user_guide/indexing.html#returning-a-view-versus-a-copy\n",
      "  return super().rename(\n"
     ]
    }
   ],
   "source": [
    "common_job_matches.rename(columns={\n",
    "    'Quality of soc_2020_6_name (0-cant say, 1-poor, 2-ok, 3-excellent)': \"soc_6_quality\",\n",
    "    'If match_type = \"Multiple 4-digit 2020 socs\" - Quality of soc_2020_4_name (0-cant say, 1-poor, 2-ok, 3-excellent)': \"soc_4_quality\"\n",
    "}, inplace=True)"
   ]
  },
  {
   "cell_type": "markdown",
   "id": "a0956e86-633c-43b4-ac98-0248f383f6c1",
   "metadata": {},
   "source": [
    "## The random sample"
   ]
  },
  {
   "cell_type": "code",
   "execution_count": 6,
   "id": "e52677ff-9239-4491-b114-386fe5db98c2",
   "metadata": {},
   "outputs": [
    {
     "data": {
      "text/plain": [
       "Top 6-digit 2020 soc          0.595\n",
       "None found                    0.355\n",
       "Multiple 4-digit 2020 socs    0.050\n",
       "Name: match_type, dtype: float64"
      ]
     },
     "execution_count": 6,
     "metadata": {},
     "output_type": "execute_result"
    }
   ],
   "source": [
    "random_job_matches['match_type'].value_counts(normalize=True)"
   ]
  },
  {
   "cell_type": "code",
   "execution_count": 7,
   "id": "0d7ed863-e6df-40b1-88c6-414953f63868",
   "metadata": {},
   "outputs": [
    {
     "name": "stdout",
     "output_type": "stream",
     "text": [
      "118\n"
     ]
    },
    {
     "data": {
      "text/plain": [
       "3.0    0.658120\n",
       "2.0    0.230769\n",
       "1.0    0.111111\n",
       "Name: soc_6_quality, dtype: float64"
      ]
     },
     "execution_count": 7,
     "metadata": {},
     "output_type": "execute_result"
    }
   ],
   "source": [
    "filt_d = random_job_matches[\n",
    "          ((random_job_matches['match_type']=='Top 6-digit 2020 soc') & (random_job_matches['soc_6_quality']!=0))\n",
    "          ]\n",
    "print(len(filt_d))\n",
    "filt_d['soc_6_quality'].value_counts(normalize=True)"
   ]
  },
  {
   "cell_type": "code",
   "execution_count": 8,
   "id": "215f343a-d6e8-4aea-99e4-51e85daca446",
   "metadata": {},
   "outputs": [
    {
     "name": "stdout",
     "output_type": "stream",
     "text": [
      "10\n"
     ]
    },
    {
     "data": {
      "text/plain": [
       "3.0    0.8\n",
       "2.0    0.1\n",
       "1.0    0.1\n",
       "Name: soc_4_quality, dtype: float64"
      ]
     },
     "execution_count": 8,
     "metadata": {},
     "output_type": "execute_result"
    }
   ],
   "source": [
    "print(len(random_job_matches[random_job_matches['match_type']=='Multiple 4-digit 2020 socs']))\n",
    "random_job_matches[random_job_matches['match_type']=='Multiple 4-digit 2020 socs']['soc_4_quality'].value_counts(normalize=True)"
   ]
  },
  {
   "cell_type": "code",
   "execution_count": 9,
   "id": "c912f742-169c-4656-bfed-9d255ca57d08",
   "metadata": {},
   "outputs": [
    {
     "data": {
      "text/plain": [
       "Top 6-digit 2020 soc          119\n",
       "None found                     71\n",
       "Multiple 4-digit 2020 socs     10\n",
       "Name: match_type, dtype: int64"
      ]
     },
     "execution_count": 9,
     "metadata": {},
     "output_type": "execute_result"
    }
   ],
   "source": [
    "random_job_matches['match_type'].value_counts()"
   ]
  },
  {
   "cell_type": "markdown",
   "id": "cca74d9e-24bd-4214-afdf-80d14009b32a",
   "metadata": {},
   "source": [
    "## The top job title sample"
   ]
  },
  {
   "cell_type": "code",
   "execution_count": 10,
   "id": "4514e4df-92fe-4a4c-9361-afc779441b71",
   "metadata": {},
   "outputs": [
    {
     "data": {
      "text/plain": [
       "Top 6-digit 2020 soc          0.892\n",
       "None found                    0.073\n",
       "Multiple 4-digit 2020 socs    0.035\n",
       "Name: match_type, dtype: float64"
      ]
     },
     "execution_count": 10,
     "metadata": {},
     "output_type": "execute_result"
    }
   ],
   "source": [
    "full_common_job_matches[\"match_type\"].value_counts(normalize=True)"
   ]
  },
  {
   "cell_type": "code",
   "execution_count": 11,
   "id": "38a38307-850a-4030-8ed2-22aa0ba1ef90",
   "metadata": {},
   "outputs": [
    {
     "name": "stdout",
     "output_type": "stream",
     "text": [
      "255\n"
     ]
    },
    {
     "data": {
      "text/plain": [
       "3.0    0.819608\n",
       "2.0    0.101961\n",
       "1.0    0.078431\n",
       "Name: soc_6_quality, dtype: float64"
      ]
     },
     "execution_count": 11,
     "metadata": {},
     "output_type": "execute_result"
    }
   ],
   "source": [
    "filt_d = common_job_matches[\n",
    "          ((common_job_matches['match_type']=='Top 6-digit 2020 soc') & (common_job_matches['soc_6_quality']!=0))]\n",
    "print(len(filt_d))\n",
    "filt_d['soc_6_quality'].value_counts(normalize=True)"
   ]
  },
  {
   "cell_type": "code",
   "execution_count": 12,
   "id": "96b3244d-2dca-4f6e-91ec-bf32992b1811",
   "metadata": {},
   "outputs": [
    {
     "name": "stdout",
     "output_type": "stream",
     "text": [
      "20\n"
     ]
    },
    {
     "data": {
      "text/plain": [
       "3.0    0.95\n",
       "2.0    0.05\n",
       "Name: soc_4_quality, dtype: float64"
      ]
     },
     "execution_count": 12,
     "metadata": {},
     "output_type": "execute_result"
    }
   ],
   "source": [
    "filt_d = common_job_matches[common_job_matches['match_type']=='Multiple 4-digit 2020 socs']\n",
    "print(len(filt_d))\n",
    "filt_d['soc_4_quality'].value_counts(normalize=True)"
   ]
  },
  {
   "cell_type": "markdown",
   "id": "23c98980-9069-49fd-853b-6851a6b1fcdd",
   "metadata": {},
   "source": [
    "## Combine and get the bad ones"
   ]
  },
  {
   "cell_type": "code",
   "execution_count": 14,
   "id": "046ceec3-e843-4895-b8d8-85d93f7fc044",
   "metadata": {},
   "outputs": [
    {
     "data": {
      "text/plain": [
       "500"
      ]
     },
     "execution_count": 14,
     "metadata": {},
     "output_type": "execute_result"
    }
   ],
   "source": [
    "job_matches = common_job_matches.append(random_job_matches)\n",
    "len(job_matches)"
   ]
  },
  {
   "cell_type": "code",
   "execution_count": 15,
   "id": "5004dfc9-1d6e-457f-bdcd-1ea480defcee",
   "metadata": {},
   "outputs": [
    {
     "data": {
      "text/html": [
       "<div>\n",
       "<style scoped>\n",
       "    .dataframe tbody tr th:only-of-type {\n",
       "        vertical-align: middle;\n",
       "    }\n",
       "\n",
       "    .dataframe tbody tr th {\n",
       "        vertical-align: top;\n",
       "    }\n",
       "\n",
       "    .dataframe thead th {\n",
       "        text-align: right;\n",
       "    }\n",
       "</style>\n",
       "<table border=\"1\" class=\"dataframe\">\n",
       "  <thead>\n",
       "    <tr style=\"text-align: right;\">\n",
       "      <th></th>\n",
       "      <th>ojo_job_title</th>\n",
       "      <th>num_job_ads</th>\n",
       "      <th>prop_job_ads</th>\n",
       "      <th>soc_2020_6_name</th>\n",
       "      <th>occ_matched</th>\n",
       "      <th>match_prob</th>\n",
       "    </tr>\n",
       "  </thead>\n",
       "  <tbody>\n",
       "    <tr>\n",
       "      <th>189</th>\n",
       "      <td>Programme Administrators</td>\n",
       "      <td>1.0</td>\n",
       "      <td>1.390000e-07</td>\n",
       "      <td>Functional managers and directors n.e.c.</td>\n",
       "      <td>programme manager</td>\n",
       "      <td>0.783059</td>\n",
       "    </tr>\n",
       "    <tr>\n",
       "      <th>198</th>\n",
       "      <td>Academic Mentor</td>\n",
       "      <td>2847.0</td>\n",
       "      <td>3.959420e-04</td>\n",
       "      <td>Learning and behaviour mentors</td>\n",
       "      <td>learning mentor</td>\n",
       "      <td>0.845167</td>\n",
       "    </tr>\n",
       "    <tr>\n",
       "      <th>103</th>\n",
       "      <td>Electronics Assembly Technician - Oxford - &amp;#1...</td>\n",
       "      <td>2.0</td>\n",
       "      <td>2.780000e-07</td>\n",
       "      <td>Metal working production and maintenance fitte...</td>\n",
       "      <td>assembly engineer</td>\n",
       "      <td>0.671789</td>\n",
       "    </tr>\n",
       "    <tr>\n",
       "      <th>258</th>\n",
       "      <td>Senior Administrator</td>\n",
       "      <td>2315.0</td>\n",
       "      <td>3.219550e-04</td>\n",
       "      <td>Registrars</td>\n",
       "      <td>senior registration administrator</td>\n",
       "      <td>0.843326</td>\n",
       "    </tr>\n",
       "    <tr>\n",
       "      <th>148</th>\n",
       "      <td>Census officer</td>\n",
       "      <td>3547.0</td>\n",
       "      <td>4.932930e-04</td>\n",
       "      <td>Office managers</td>\n",
       "      <td>census district manager</td>\n",
       "      <td>0.796723</td>\n",
       "    </tr>\n",
       "    <tr>\n",
       "      <th>153</th>\n",
       "      <td>Sales Negotiator</td>\n",
       "      <td>3442.0</td>\n",
       "      <td>4.786910e-04</td>\n",
       "      <td>Estate agents</td>\n",
       "      <td>sales negotiator</td>\n",
       "      <td>1.000000</td>\n",
       "    </tr>\n",
       "    <tr>\n",
       "      <th>275</th>\n",
       "      <td>Operative</td>\n",
       "      <td>2201.0</td>\n",
       "      <td>3.061010e-04</td>\n",
       "      <td>Textile process operatives n.e.c.</td>\n",
       "      <td>general operative</td>\n",
       "      <td>0.765703</td>\n",
       "    </tr>\n",
       "    <tr>\n",
       "      <th>12</th>\n",
       "      <td>Business Case Manager Business</td>\n",
       "      <td>1.0</td>\n",
       "      <td>1.390000e-07</td>\n",
       "      <td>National government administrative occupations...</td>\n",
       "      <td>case manager</td>\n",
       "      <td>0.763794</td>\n",
       "    </tr>\n",
       "    <tr>\n",
       "      <th>162</th>\n",
       "      <td>Census officer - Customer service</td>\n",
       "      <td>3304.0</td>\n",
       "      <td>4.594980e-04</td>\n",
       "      <td>Office managers</td>\n",
       "      <td>census district manager</td>\n",
       "      <td>0.741204</td>\n",
       "    </tr>\n",
       "    <tr>\n",
       "      <th>17</th>\n",
       "      <td>Production Operative</td>\n",
       "      <td>16113.0</td>\n",
       "      <td>2.240890e-03</td>\n",
       "      <td>Printing machine assistants</td>\n",
       "      <td>finishing operative</td>\n",
       "      <td>0.761396</td>\n",
       "    </tr>\n",
       "  </tbody>\n",
       "</table>\n",
       "</div>"
      ],
      "text/plain": [
       "                                         ojo_job_title  num_job_ads  \\\n",
       "189                           Programme Administrators          1.0   \n",
       "198                                    Academic Mentor       2847.0   \n",
       "103  Electronics Assembly Technician - Oxford - &#1...          2.0   \n",
       "258                               Senior Administrator       2315.0   \n",
       "148                                     Census officer       3547.0   \n",
       "153                                   Sales Negotiator       3442.0   \n",
       "275                                          Operative       2201.0   \n",
       "12                      Business Case Manager Business          1.0   \n",
       "162                  Census officer - Customer service       3304.0   \n",
       "17                                Production Operative      16113.0   \n",
       "\n",
       "     prop_job_ads                                    soc_2020_6_name  \\\n",
       "189  1.390000e-07           Functional managers and directors n.e.c.   \n",
       "198  3.959420e-04                     Learning and behaviour mentors   \n",
       "103  2.780000e-07  Metal working production and maintenance fitte...   \n",
       "258  3.219550e-04                                         Registrars   \n",
       "148  4.932930e-04                                    Office managers   \n",
       "153  4.786910e-04                                      Estate agents   \n",
       "275  3.061010e-04                  Textile process operatives n.e.c.   \n",
       "12   1.390000e-07  National government administrative occupations...   \n",
       "162  4.594980e-04                                    Office managers   \n",
       "17   2.240890e-03                        Printing machine assistants   \n",
       "\n",
       "                           occ_matched  match_prob  \n",
       "189                  programme manager    0.783059  \n",
       "198                    learning mentor    0.845167  \n",
       "103                  assembly engineer    0.671789  \n",
       "258  senior registration administrator    0.843326  \n",
       "148            census district manager    0.796723  \n",
       "153                   sales negotiator    1.000000  \n",
       "275                  general operative    0.765703  \n",
       "12                        case manager    0.763794  \n",
       "162            census district manager    0.741204  \n",
       "17                 finishing operative    0.761396  "
      ]
     },
     "execution_count": 15,
     "metadata": {},
     "output_type": "execute_result"
    }
   ],
   "source": [
    "poor_10 = job_matches[job_matches['soc_6_quality']==1][['ojo_job_title', 'num_job_ads', 'prop_job_ads', 'soc_2020_6_name', 'occ_matched', 'match_prob']].sample(10, random_state=42)\n",
    "poor_10"
   ]
  },
  {
   "cell_type": "code",
   "execution_count": 16,
   "id": "7e01f2b6-e66e-48e6-be4e-8a789d6dbf85",
   "metadata": {},
   "outputs": [
    {
     "data": {
      "text/html": [
       "<div>\n",
       "<style scoped>\n",
       "    .dataframe tbody tr th:only-of-type {\n",
       "        vertical-align: middle;\n",
       "    }\n",
       "\n",
       "    .dataframe tbody tr th {\n",
       "        vertical-align: top;\n",
       "    }\n",
       "\n",
       "    .dataframe thead th {\n",
       "        text-align: right;\n",
       "    }\n",
       "</style>\n",
       "<table border=\"1\" class=\"dataframe\">\n",
       "  <thead>\n",
       "    <tr style=\"text-align: right;\">\n",
       "      <th></th>\n",
       "      <th>ojo_job_title</th>\n",
       "      <th>num_job_ads</th>\n",
       "      <th>prop_job_ads</th>\n",
       "      <th>soc_2020_6_name</th>\n",
       "      <th>occ_matched</th>\n",
       "      <th>match_prob</th>\n",
       "    </tr>\n",
       "  </thead>\n",
       "  <tbody>\n",
       "    <tr>\n",
       "      <th>11</th>\n",
       "      <td>Care Assistant - Bank - Care Home</td>\n",
       "      <td>22444.0</td>\n",
       "      <td>3.121363e-03</td>\n",
       "      <td>Domiciliary care workers</td>\n",
       "      <td>home care assistant</td>\n",
       "      <td>0.781899</td>\n",
       "    </tr>\n",
       "    <tr>\n",
       "      <th>154</th>\n",
       "      <td>Pastry Demi Chef de Partie</td>\n",
       "      <td>1.0</td>\n",
       "      <td>1.390000e-07</td>\n",
       "      <td>Chefs</td>\n",
       "      <td>chef de partie</td>\n",
       "      <td>0.787605</td>\n",
       "    </tr>\n",
       "    <tr>\n",
       "      <th>192</th>\n",
       "      <td>Forklift Driver</td>\n",
       "      <td>2922.0</td>\n",
       "      <td>4.063720e-04</td>\n",
       "      <td>Fork-lift truck drivers</td>\n",
       "      <td>fork lift truck driver</td>\n",
       "      <td>0.881016</td>\n",
       "    </tr>\n",
       "    <tr>\n",
       "      <th>10</th>\n",
       "      <td>Finance ManagerRB</td>\n",
       "      <td>1.0</td>\n",
       "      <td>1.390000e-07</td>\n",
       "      <td>Company secretaries and finance managers</td>\n",
       "      <td>finance manager</td>\n",
       "      <td>0.847019</td>\n",
       "    </tr>\n",
       "    <tr>\n",
       "      <th>45</th>\n",
       "      <td>Service Engineer Carpentry and Decorating</td>\n",
       "      <td>1.0</td>\n",
       "      <td>1.390000e-07</td>\n",
       "      <td>Painters and decorators</td>\n",
       "      <td>decorating contractor</td>\n",
       "      <td>0.723216</td>\n",
       "    </tr>\n",
       "    <tr>\n",
       "      <th>208</th>\n",
       "      <td>Senior Software Engineer</td>\n",
       "      <td>2681.0</td>\n",
       "      <td>3.728560e-04</td>\n",
       "      <td>Software developers</td>\n",
       "      <td>senior software engineer</td>\n",
       "      <td>1.000000</td>\n",
       "    </tr>\n",
       "    <tr>\n",
       "      <th>188</th>\n",
       "      <td>Change Business Analyst - FMCG experience</td>\n",
       "      <td>1.0</td>\n",
       "      <td>1.390000e-07</td>\n",
       "      <td>Business analysts</td>\n",
       "      <td>business change analyst</td>\n",
       "      <td>0.690415</td>\n",
       "    </tr>\n",
       "    <tr>\n",
       "      <th>96</th>\n",
       "      <td>Private Client Solicitor</td>\n",
       "      <td>5338.0</td>\n",
       "      <td>7.423740e-04</td>\n",
       "      <td>Solicitors and lawyers n.e.c.</td>\n",
       "      <td>solicitor</td>\n",
       "      <td>0.750278</td>\n",
       "    </tr>\n",
       "    <tr>\n",
       "      <th>265</th>\n",
       "      <td>Internal Sales Executive</td>\n",
       "      <td>2281.0</td>\n",
       "      <td>3.172260e-04</td>\n",
       "      <td>Business sales executives</td>\n",
       "      <td>sales executive</td>\n",
       "      <td>0.846217</td>\n",
       "    </tr>\n",
       "    <tr>\n",
       "      <th>40</th>\n",
       "      <td>HR Advisor</td>\n",
       "      <td>10386.0</td>\n",
       "      <td>1.444416e-03</td>\n",
       "      <td>Human resources advisors</td>\n",
       "      <td>human resources adviser</td>\n",
       "      <td>0.853155</td>\n",
       "    </tr>\n",
       "  </tbody>\n",
       "</table>\n",
       "</div>"
      ],
      "text/plain": [
       "                                 ojo_job_title  num_job_ads  prop_job_ads  \\\n",
       "11           Care Assistant - Bank - Care Home      22444.0  3.121363e-03   \n",
       "154                 Pastry Demi Chef de Partie          1.0  1.390000e-07   \n",
       "192                            Forklift Driver       2922.0  4.063720e-04   \n",
       "10                           Finance ManagerRB          1.0  1.390000e-07   \n",
       "45   Service Engineer Carpentry and Decorating          1.0  1.390000e-07   \n",
       "208                   Senior Software Engineer       2681.0  3.728560e-04   \n",
       "188  Change Business Analyst - FMCG experience          1.0  1.390000e-07   \n",
       "96                    Private Client Solicitor       5338.0  7.423740e-04   \n",
       "265                   Internal Sales Executive       2281.0  3.172260e-04   \n",
       "40                                  HR Advisor      10386.0  1.444416e-03   \n",
       "\n",
       "                              soc_2020_6_name               occ_matched  \\\n",
       "11                   Domiciliary care workers       home care assistant   \n",
       "154                                     Chefs            chef de partie   \n",
       "192                   Fork-lift truck drivers    fork lift truck driver   \n",
       "10   Company secretaries and finance managers           finance manager   \n",
       "45                    Painters and decorators     decorating contractor   \n",
       "208                       Software developers  senior software engineer   \n",
       "188                         Business analysts   business change analyst   \n",
       "96              Solicitors and lawyers n.e.c.                 solicitor   \n",
       "265                 Business sales executives           sales executive   \n",
       "40                   Human resources advisors   human resources adviser   \n",
       "\n",
       "     match_prob  \n",
       "11     0.781899  \n",
       "154    0.787605  \n",
       "192    0.881016  \n",
       "10     0.847019  \n",
       "45     0.723216  \n",
       "208    1.000000  \n",
       "188    0.690415  \n",
       "96     0.750278  \n",
       "265    0.846217  \n",
       "40     0.853155  "
      ]
     },
     "execution_count": 16,
     "metadata": {},
     "output_type": "execute_result"
    }
   ],
   "source": [
    "excellent_10 = job_matches[job_matches['soc_6_quality']==3][['ojo_job_title', 'num_job_ads', 'prop_job_ads', 'soc_2020_6_name', 'occ_matched', 'match_prob']].sample(10, random_state=42)\n",
    "excellent_10"
   ]
  },
  {
   "cell_type": "code",
   "execution_count": 17,
   "id": "c7b3f4e7-90db-4368-bd5f-bbcb57c33eec",
   "metadata": {},
   "outputs": [
    {
     "data": {
      "text/html": [
       "<div>\n",
       "<style scoped>\n",
       "    .dataframe tbody tr th:only-of-type {\n",
       "        vertical-align: middle;\n",
       "    }\n",
       "\n",
       "    .dataframe tbody tr th {\n",
       "        vertical-align: top;\n",
       "    }\n",
       "\n",
       "    .dataframe thead th {\n",
       "        text-align: right;\n",
       "    }\n",
       "</style>\n",
       "<table border=\"1\" class=\"dataframe\">\n",
       "  <thead>\n",
       "    <tr style=\"text-align: right;\">\n",
       "      <th></th>\n",
       "      <th>ojo_job_title</th>\n",
       "      <th>num_job_ads</th>\n",
       "      <th>prop_job_ads</th>\n",
       "      <th>soc_2020_6_name</th>\n",
       "      <th>occ_matched</th>\n",
       "      <th>match_prob</th>\n",
       "    </tr>\n",
       "  </thead>\n",
       "  <tbody>\n",
       "    <tr>\n",
       "      <th>189</th>\n",
       "      <td>Domestic Assistant</td>\n",
       "      <td>2934.0</td>\n",
       "      <td>4.080410e-04</td>\n",
       "      <td>Commercial cleaners</td>\n",
       "      <td>domestic assistant</td>\n",
       "      <td>1.000000</td>\n",
       "    </tr>\n",
       "    <tr>\n",
       "      <th>98</th>\n",
       "      <td>Holiday Club Admin Manager</td>\n",
       "      <td>1.0</td>\n",
       "      <td>1.390000e-07</td>\n",
       "      <td>Hotel and accommodation managers and proprietors</td>\n",
       "      <td>holiday centre manager</td>\n",
       "      <td>0.786236</td>\n",
       "    </tr>\n",
       "    <tr>\n",
       "      <th>150</th>\n",
       "      <td>Training and Support Manager</td>\n",
       "      <td>1.0</td>\n",
       "      <td>1.390000e-07</td>\n",
       "      <td>Education managers</td>\n",
       "      <td>learning support manager</td>\n",
       "      <td>0.804226</td>\n",
       "    </tr>\n",
       "    <tr>\n",
       "      <th>112</th>\n",
       "      <td>Digital Marketing Executive</td>\n",
       "      <td>4554.0</td>\n",
       "      <td>6.333400e-04</td>\n",
       "      <td>Marketing consultants</td>\n",
       "      <td>digital marketing executive</td>\n",
       "      <td>1.000000</td>\n",
       "    </tr>\n",
       "    <tr>\n",
       "      <th>106</th>\n",
       "      <td>Operations Manager -Commercial Insurance</td>\n",
       "      <td>1.0</td>\n",
       "      <td>1.390000e-07</td>\n",
       "      <td>Financial managers and directors n.e.c.</td>\n",
       "      <td>insurance company manager</td>\n",
       "      <td>0.789530</td>\n",
       "    </tr>\n",
       "    <tr>\n",
       "      <th>67</th>\n",
       "      <td>Field Service Engineer</td>\n",
       "      <td>7272.0</td>\n",
       "      <td>1.011342e-03</td>\n",
       "      <td>Telecoms and related network installers and re...</td>\n",
       "      <td>home service field engineer</td>\n",
       "      <td>0.873159</td>\n",
       "    </tr>\n",
       "    <tr>\n",
       "      <th>159</th>\n",
       "      <td>Tutor</td>\n",
       "      <td>3370.0</td>\n",
       "      <td>4.686770e-04</td>\n",
       "      <td>Higher education teaching professionals n.e.c.</td>\n",
       "      <td>course tutor</td>\n",
       "      <td>0.917003</td>\n",
       "    </tr>\n",
       "    <tr>\n",
       "      <th>192</th>\n",
       "      <td>Assistant Manager - Truro</td>\n",
       "      <td>2.0</td>\n",
       "      <td>2.780000e-07</td>\n",
       "      <td>Other administrative occupations n.e.c.</td>\n",
       "      <td>manager's assistant</td>\n",
       "      <td>0.775355</td>\n",
       "    </tr>\n",
       "    <tr>\n",
       "      <th>52</th>\n",
       "      <td>Marketing Executive</td>\n",
       "      <td>8363.0</td>\n",
       "      <td>1.163071e-03</td>\n",
       "      <td>Marketing consultants</td>\n",
       "      <td>marketing executive</td>\n",
       "      <td>1.000000</td>\n",
       "    </tr>\n",
       "    <tr>\n",
       "      <th>52</th>\n",
       "      <td>Chartered Financial Advisor - Berkshire</td>\n",
       "      <td>2.0</td>\n",
       "      <td>2.780000e-07</td>\n",
       "      <td>Financial accountants</td>\n",
       "      <td>chartered management accountant</td>\n",
       "      <td>0.698416</td>\n",
       "    </tr>\n",
       "  </tbody>\n",
       "</table>\n",
       "</div>"
      ],
      "text/plain": [
       "                                ojo_job_title  num_job_ads  prop_job_ads  \\\n",
       "189                        Domestic Assistant       2934.0  4.080410e-04   \n",
       "98                 Holiday Club Admin Manager          1.0  1.390000e-07   \n",
       "150              Training and Support Manager          1.0  1.390000e-07   \n",
       "112               Digital Marketing Executive       4554.0  6.333400e-04   \n",
       "106  Operations Manager -Commercial Insurance          1.0  1.390000e-07   \n",
       "67                     Field Service Engineer       7272.0  1.011342e-03   \n",
       "159                                     Tutor       3370.0  4.686770e-04   \n",
       "192                 Assistant Manager - Truro          2.0  2.780000e-07   \n",
       "52                        Marketing Executive       8363.0  1.163071e-03   \n",
       "52    Chartered Financial Advisor - Berkshire          2.0  2.780000e-07   \n",
       "\n",
       "                                       soc_2020_6_name  \\\n",
       "189                                Commercial cleaners   \n",
       "98    Hotel and accommodation managers and proprietors   \n",
       "150                                 Education managers   \n",
       "112                              Marketing consultants   \n",
       "106            Financial managers and directors n.e.c.   \n",
       "67   Telecoms and related network installers and re...   \n",
       "159     Higher education teaching professionals n.e.c.   \n",
       "192            Other administrative occupations n.e.c.   \n",
       "52                               Marketing consultants   \n",
       "52                               Financial accountants   \n",
       "\n",
       "                         occ_matched  match_prob  \n",
       "189               domestic assistant    1.000000  \n",
       "98            holiday centre manager    0.786236  \n",
       "150         learning support manager    0.804226  \n",
       "112      digital marketing executive    1.000000  \n",
       "106        insurance company manager    0.789530  \n",
       "67       home service field engineer    0.873159  \n",
       "159                     course tutor    0.917003  \n",
       "192              manager's assistant    0.775355  \n",
       "52               marketing executive    1.000000  \n",
       "52   chartered management accountant    0.698416  "
      ]
     },
     "execution_count": 17,
     "metadata": {},
     "output_type": "execute_result"
    }
   ],
   "source": [
    "good_10 = job_matches[job_matches['soc_6_quality']==2][['ojo_job_title', 'num_job_ads', 'prop_job_ads', 'soc_2020_6_name', 'occ_matched', 'match_prob']].sample(10, random_state=42)\n",
    "good_10"
   ]
  },
  {
   "cell_type": "markdown",
   "id": "ae31f8db-0ab5-4a73-a48a-1b5b09d0152b",
   "metadata": {},
   "source": [
    "## Which job titles don't match"
   ]
  },
  {
   "cell_type": "code",
   "execution_count": 18,
   "id": "6a8e338b-f2fe-40c3-b594-5164ebd33925",
   "metadata": {},
   "outputs": [],
   "source": [
    "not_matched_job_titles = list(set(full_common_job_matches[full_common_job_matches[\"match_type\"]=='None found'][\"ojo_job_title\"].tolist() +random_job_matches[random_job_matches[\"match_type\"]=='None found'][\"ojo_job_title\"].tolist()))"
   ]
  },
  {
   "cell_type": "code",
   "execution_count": 19,
   "id": "234e0055-c8c3-4768-bfdc-a4375055d283",
   "metadata": {},
   "outputs": [
    {
     "name": "stdout",
     "output_type": "stream",
     "text": [
      "['Driver - London', 'Paid Emails - Work From Home', 'Agile Transformation Consultant', '202207 - Detective Constable Pathway', 'C++ Software Engineer QT', 'Supply and PPA Teachers needed in New Cross, Lewisham', '7.5T Driver', 'Class 1 Driver', 'KS1 Teacher', 'Part Home Based Block Manager - Chichester', 'Senior Community Host - Woking', '202203 PC-DHEP Police Constable Degree Holder Entry Programme', 'CELTA Certified English Teacher remote - Doncaster', 'Wellbeing Co-ordinator', 'Digital Designer- Outside IR35- Contract', 'Graduate Programme', 'Full-Stack Engineer React, Node', 'Team Executive - Funds', 'Private Patient Sales Executive', 'Blinds and Curtains Installer']\n"
     ]
    }
   ],
   "source": [
    "random.seed(42)\n",
    "print(random.sample(not_matched_job_titles, 20))"
   ]
  },
  {
   "cell_type": "code",
   "execution_count": null,
   "id": "ecec9544-1e20-46e2-a6a4-3bea1bf2049a",
   "metadata": {},
   "outputs": [],
   "source": []
  }
 ],
 "metadata": {
  "jupytext": {
   "cell_metadata_filter": "-all",
   "comment_magics": true
  },
  "kernelspec": {
   "display_name": "Python 3 (ipykernel)",
   "language": "python",
   "name": "python3"
  },
  "language_info": {
   "codemirror_mode": {
    "name": "ipython",
    "version": 3
   },
   "file_extension": ".py",
   "mimetype": "text/x-python",
   "name": "python",
   "nbconvert_exporter": "python",
   "pygments_lexer": "ipython3",
   "version": "3.8.18"
  }
 },
 "nbformat": 4,
 "nbformat_minor": 5
}
